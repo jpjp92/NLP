{
  "nbformat": 4,
  "nbformat_minor": 0,
  "metadata": {
    "colab": {
      "provenance": [],
      "machine_shape": "hm",
      "gpuType": "A100"
    },
    "kernelspec": {
      "name": "python3",
      "display_name": "Python 3"
    },
    "accelerator": "GPU"
  },
  "cells": [
    {
      "cell_type": "markdown",
      "metadata": {
        "id": "rgnZOimXdN2V"
      },
      "source": [
        "# Transformer\n",
        "- Paper Implementation : \"Attention is all you need (2017)\" \n",
        "---\n",
        "**Description:**\n",
        "\n",
        "**1. Model Architecture:**\n",
        "\n",
        "<img src = 'https://production-media.paperswithcode.com/methods/new_ModalNet-21.jpg' width='400' height='400' /> </img> <br>\n",
        "\n",
        "Figure1. Architecture of Transformer(VASWANI, et al,2017) <br></br>\n",
        "\n",
        "**2. Characteristics of Transformer:**\n",
        "\n",
        "- Multihead Attention :  allows the model to attend to different parts of the input sequence simultaneously.\n",
        "\n",
        "- Position wise feed forward : feed-forward neural network that applies to each position of the sequence independently\n",
        "\n",
        "- Encoder - Decoder Architecture: The encoder takes a sequence of input data and converts it into a sequence of hidden states. The decoder then takes these hidden states and generates a sequence of output data.\n",
        "\n",
        "- Positional Encoding: added to the embedding layer of the transformer model. This allows the model to learn long-range dependencies between tokens in a sequence. Without positional encoding, the model would only be able to learn local dependencies between neighboring tokens.\n",
        "\n",
        "**3. Model Metrics:**\n",
        "\n",
        "- PPL(Perplexity): metric for language model. Find out how well a language model predicts the next word in a sequence\n",
        "   - Less PPL score indicates better Language Model \n",
        "   - Can be used in Text generation, Machine translation, Speech recognition, Question answering\n",
        "\n",
        "- BLEU(Bilingual Evaluation Understudy): useful metric for evaluating the quality of machine translation systems \n",
        "  - calculated by comparing the machine-translated text to a reference translation\n",
        "  - BLEU scores range from 0 to 1\n",
        "  - higher BLEU score indicates better translation\n",
        "\n",
        "**4. Dataset:**\n",
        "- Multi30K : Multilingual English-German Image Descriptions\n",
        "\n",
        "**5. System Environment:**\n",
        "- Goolge colab pro plus GPU : A100\n",
        "- Visual Studio Code\n",
        "\n",
        "---\n",
        "**Reference**\n",
        "\n",
        "[1] Deep-Learning-Paper-Review-and-Practice,ndb796, accessed May12.2023, https://github.com/ndb796/Deep-Learning-Paper-Review-and-Practice/blob/master/code_practices/Attention_is_All_You_Need_Tutorial_(German_English).ipynb\n",
        "\n",
        "\n",
        "[2] Elliott, D., Frank, S., Sima'an, K., & Specia, L. (2016). Multi30k: Multilingual english-german image descriptions. arXiv preprint arXiv:1605.00459.\n",
        "https://aclanthology.org/W16-3210.pdf\n",
        "\n",
        "[3] Vaswani, Ashish & Shazeer, Noam & Parmar, Niki & Uszkoreit, Jakob & Jones, Llion & Gomez, Aidan & Kaiser, Lukasz & Polosukhin, Illia. (2017). Attention Is All You Need. https://arxiv.org/pdf/1706.03762.pdf\n",
        "\n"
      ]
    },
    {
      "cell_type": "markdown",
      "metadata": {
        "id": "rPTu1gCK1YXd"
      },
      "source": [
        "#### <b>Set the Library for the BLEU score</b>\n",
        "\n",
        "* <b>Restart Runtime</b> "
      ]
    },
    {
      "cell_type": "code",
      "metadata": {
        "id": "b7gjy4bZ1aXc"
      },
      "source": [
        "# Instal Torchtext with designated version \n",
        "# !pip install torchtext==0.6.0"
      ],
      "execution_count": 1,
      "outputs": []
    },
    {
      "cell_type": "markdown",
      "source": [
        "**Load Library**"
      ],
      "metadata": {
        "id": "yeUBXkIl7eC6"
      }
    },
    {
      "cell_type": "code",
      "source": [
        "# Data Preprocessing\n",
        "import spacy\n",
        "from torchtext.data import Field, BucketIterator\n",
        "\n",
        "# Dataset\n",
        "from torchtext.datasets import Multi30k\n",
        "\n",
        "# Pytorch\n",
        "import torch\n",
        "import torch.optim as optim\n",
        "\n",
        "# Training time check\n",
        "import time\n",
        "import math\n",
        "import random\n",
        "from tqdm import tqdm \n",
        "\n",
        "# Visualiztion\n",
        "import matplotlib.pyplot as plt\n",
        "import matplotlib.ticker as ticker\n",
        "\n",
        "# BLEU score\n",
        "from torchtext.data.metrics import bleu_score"
      ],
      "metadata": {
        "id": "KsvwN10B7gFs"
      },
      "execution_count": 2,
      "outputs": []
    },
    {
      "cell_type": "code",
      "source": [
        "# Goolge Colab Environment\n",
        "from google.colab import drive\n",
        "drive.mount('/content/drive')"
      ],
      "metadata": {
        "colab": {
          "base_uri": "https://localhost:8080/"
        },
        "id": "hI4C12hR7mGM",
        "outputId": "b0a022ec-358c-4323-c53c-7795dd37e736"
      },
      "execution_count": 3,
      "outputs": [
        {
          "output_type": "stream",
          "name": "stdout",
          "text": [
            "Drive already mounted at /content/drive; to attempt to forcibly remount, call drive.mount(\"/content/drive\", force_remount=True).\n"
          ]
        }
      ]
    },
    {
      "cell_type": "markdown",
      "metadata": {
        "id": "_V6NaGYTd62g"
      },
      "source": [
        "#### **Data Preprocessing**\n",
        "\n",
        "* **spaCy Library**: \n",
        "- use spaCy for sentence Tokenization and Tagging \n",
        "- install English and Deutsch preprocessing module"
      ]
    },
    {
      "cell_type": "code",
      "source": [
        "import locale\n",
        "def getpreferredencoding(do_setlocale = True):\n",
        "    return \"UTF-8\"\n",
        "locale.getpreferredencoding = getpreferredencoding"
      ],
      "metadata": {
        "id": "5UZkJncscBYT"
      },
      "execution_count": 4,
      "outputs": []
    },
    {
      "cell_type": "code",
      "metadata": {
        "id": "tbQzI6V1a2m_"
      },
      "source": [
        "# Download spacy Data\n",
        "%%capture\n",
        "!python -m spacy download en\n",
        "!python -m spacy download de"
      ],
      "execution_count": 5,
      "outputs": []
    },
    {
      "cell_type": "code",
      "metadata": {
        "id": "UfOdc9FSd7xt"
      },
      "source": [
        "# Load library and language data\n",
        "spacy_en = spacy.load('en_core_web_sm') # English tokenization\n",
        "spacy_de = spacy.load('de_core_news_sm') # Deutch tokenization"
      ],
      "execution_count": 6,
      "outputs": []
    },
    {
      "cell_type": "code",
      "metadata": {
        "colab": {
          "base_uri": "https://localhost:8080/"
        },
        "id": "eet4iWy_d8s7",
        "outputId": "f4ed38a9-ae3e-4686-f1f1-a6f8a5a03192"
      },
      "source": [
        "# Check tokenization tool\n",
        "tokenized = spacy_en.tokenizer(\"I am a graduate student.\")\n",
        "\n",
        "for i, token in enumerate(tokenized):\n",
        "    print(f\"Index {i}: {token.text}\")"
      ],
      "execution_count": 7,
      "outputs": [
        {
          "output_type": "stream",
          "name": "stdout",
          "text": [
            "Index 0: I\n",
            "Index 1: am\n",
            "Index 2: a\n",
            "Index 3: graduate\n",
            "Index 4: student\n",
            "Index 5: .\n"
          ]
        }
      ]
    },
    {
      "cell_type": "markdown",
      "metadata": {
        "id": "iqhzmLvjeFZE"
      },
      "source": [
        "**Define English and German Tokenization function**"
      ]
    },
    {
      "cell_type": "code",
      "metadata": {
        "id": "USWSV869d-s7"
      },
      "source": [
        "# Function for Deutsch sentence tokenization \n",
        "def tokenize_de(text):\n",
        "    return [token.text for token in spacy_de.tokenizer(text)]\n",
        "\n",
        "# Function for English sentence tokenization \n",
        "def tokenize_en(text):\n",
        "    return [token.text for token in spacy_en.tokenizer(text)]"
      ],
      "execution_count": 8,
      "outputs": []
    },
    {
      "cell_type": "markdown",
      "metadata": {
        "id": "ZYi1dM7-eH0N"
      },
      "source": [
        "**Field** : this library shows descriptions for preprocessing of dataset \n",
        "- set <b>Batch first values as True</b>\n",
        "- Translation objective: \n",
        "    * SRC(source): Deutsch\n",
        "    * TRG(target): English"
      ]
    },
    {
      "cell_type": "code",
      "metadata": {
        "id": "r_dSDRtReGnU"
      },
      "source": [
        "# Load Library and define SRC and TRG\n",
        "SRC = Field(tokenize=tokenize_de, init_token=\"<sos>\", eos_token=\"<eos>\", lower=True, batch_first=True)\n",
        "TRG = Field(tokenize=tokenize_en, init_token=\"<sos>\", eos_token=\"<eos>\", lower=True, batch_first=True)"
      ],
      "execution_count": 9,
      "outputs": []
    },
    {
      "cell_type": "markdown",
      "metadata": {
        "id": "RX0O1oKQeY2y"
      },
      "source": [
        "**Load Dataset: Multi30k**\n",
        "- import dataset : Multi30k\n",
        "- split dataset to train, valid, and test"
      ]
    },
    {
      "cell_type": "code",
      "metadata": {
        "id": "0J6QuUf5eWfc"
      },
      "source": [
        "# Load Dataset and split data\n",
        "train_dataset, valid_dataset, test_dataset = Multi30k.splits(exts=(\".de\", \".en\"), fields=(SRC, TRG))"
      ],
      "execution_count": 10,
      "outputs": []
    },
    {
      "cell_type": "code",
      "metadata": {
        "colab": {
          "base_uri": "https://localhost:8080/"
        },
        "id": "KQ-Lhpp0ecOi",
        "outputId": "2d878bdb-d6ea-428e-e9d6-122702eb0cb7"
      },
      "source": [
        "# Check out the length of each dataset \n",
        "print(f\"Size of Training dataset: {len(train_dataset.examples)}\")\n",
        "print(f\"Size of Validation dataset: {len(valid_dataset.examples)}\")\n",
        "print(f\"Size of Testing dataset: {len(test_dataset.examples)}\")"
      ],
      "execution_count": 11,
      "outputs": [
        {
          "output_type": "stream",
          "name": "stdout",
          "text": [
            "Size of Training dataset: 29000\n",
            "Size of Validation dataset: 1014\n",
            "Size of Testing dataset: 1000\n"
          ]
        }
      ]
    },
    {
      "cell_type": "code",
      "metadata": {
        "colab": {
          "base_uri": "https://localhost:8080/"
        },
        "id": "VYghX0SueecT",
        "outputId": "f1a92c7d-d4e2-40ca-9514-4b1ec9302125"
      },
      "source": [
        "# Select one sample for train dataset and check out the data\n",
        "print(vars(train_dataset.examples[30])['src'])\n",
        "print(vars(train_dataset.examples[30])['trg'])"
      ],
      "execution_count": 12,
      "outputs": [
        {
          "output_type": "stream",
          "name": "stdout",
          "text": [
            "['ein', 'mann', ',', 'der', 'mit', 'einer', 'tasse', 'kaffee', 'an', 'einem', 'urinal', 'steht', '.']\n",
            "['a', 'man', 'standing', 'at', 'a', 'urinal', 'with', 'a', 'coffee', 'cup', '.']\n"
          ]
        }
      ]
    },
    {
      "cell_type": "markdown",
      "metadata": {
        "id": "ekQys1HpegX_"
      },
      "source": [
        "**Create English and Deutsch Vocab**:\n",
        "- Use <b>\"build_vocab\"</b> from Field libary \n",
        "- Select the words that has shown at least twice \n"
      ]
    },
    {
      "cell_type": "code",
      "metadata": {
        "colab": {
          "base_uri": "https://localhost:8080/"
        },
        "id": "X4A5ksMyefKy",
        "outputId": "32135aa5-5955-4d27-b5da-ce1fdc03408d"
      },
      "source": [
        "# Build Vocab\n",
        "SRC.build_vocab(train_dataset, min_freq=2)\n",
        "TRG.build_vocab(train_dataset, min_freq=2)\n",
        "\n",
        "print(f\"len(SRC): {len(SRC.vocab)}\")\n",
        "print(f\"len(TRG): {len(TRG.vocab)}\")"
      ],
      "execution_count": 13,
      "outputs": [
        {
          "output_type": "stream",
          "name": "stdout",
          "text": [
            "len(SRC): 7853\n",
            "len(TRG): 5893\n"
          ]
        }
      ]
    },
    {
      "cell_type": "code",
      "metadata": {
        "colab": {
          "base_uri": "https://localhost:8080/"
        },
        "id": "xfo21o_5ehmK",
        "outputId": "970e04ae-51c2-46cf-be9d-8ca12c68e4e1"
      },
      "source": [
        "print(TRG.vocab.stoi[\"abcabc\"]) # words Not included: 0\n",
        "print(TRG.vocab.stoi[TRG.pad_token]) # Padding: 1\n",
        "print(TRG.vocab.stoi[\"<sos>\"]) # <Start of Sentence, sos>: 2\n",
        "print(TRG.vocab.stoi[\"<eos>\"]) # <End of Sentence, eos>: 3\n",
        "print(TRG.vocab.stoi[\"hello\"])\n",
        "print(TRG.vocab.stoi[\"world\"])"
      ],
      "execution_count": 14,
      "outputs": [
        {
          "output_type": "stream",
          "name": "stdout",
          "text": [
            "0\n",
            "1\n",
            "2\n",
            "3\n",
            "4112\n",
            "1752\n"
          ]
        }
      ]
    },
    {
      "cell_type": "markdown",
      "metadata": {
        "id": "rHlAcqrGekNm"
      },
      "source": [
        "**Words should be arranged in order of sentence to the network**\n",
        "- using <b>Bucketiterator</b> make the length of words resmeble in each sentences.  "
      ]
    },
    {
      "cell_type": "markdown",
      "source": [
        "**Set Device, Dataloader**\n",
        "- define device, batchsize \n",
        "- define dataloader"
      ],
      "metadata": {
        "id": "AzyI3SroFis2"
      }
    },
    {
      "cell_type": "code",
      "metadata": {
        "id": "DSJQUC0meifi"
      },
      "source": [
        "device = torch.device('cuda' if torch.cuda.is_available() else 'cpu')\n",
        "\n",
        "BATCH_SIZE = 128"
      ],
      "execution_count": 15,
      "outputs": []
    },
    {
      "cell_type": "code",
      "source": [
        "# Define data loader \n",
        "train_iterator, valid_iterator, test_iterator = BucketIterator.splits(\n",
        "    (train_dataset, valid_dataset, test_dataset),\n",
        "    batch_size=BATCH_SIZE,\n",
        "    device=device)\n",
        "\n",
        "\n",
        "# test index and size of first batch \n",
        "for i, batch in enumerate(train_iterator):\n",
        "    src = batch.src\n",
        "    trg = batch.trg\n",
        "\n",
        "    print(f\"Size of first batch : {src.shape}\")\n",
        "\n",
        "    # Print the information in one batch of sentence\n",
        "    for i in range(src.shape[1]):\n",
        "        print(f\"index {i}: {src[0][i].item()}\") # [Seq_num, Seq_len]\n",
        "\n",
        "    # Check the first batch only\n",
        "    break"
      ],
      "metadata": {
        "id": "g0u4R6i5Fty-",
        "colab": {
          "base_uri": "https://localhost:8080/"
        },
        "outputId": "763683a4-0438-4493-f1a1-3cef54ed16ca"
      },
      "execution_count": 16,
      "outputs": [
        {
          "output_type": "stream",
          "name": "stdout",
          "text": [
            "Size of first batch : torch.Size([128, 24])\n",
            "index 0: 2\n",
            "index 1: 5\n",
            "index 2: 3484\n",
            "index 3: 415\n",
            "index 4: 5\n",
            "index 5: 1537\n",
            "index 6: 9\n",
            "index 7: 64\n",
            "index 8: 8\n",
            "index 9: 0\n",
            "index 10: 2018\n",
            "index 11: 42\n",
            "index 12: 39\n",
            "index 13: 4021\n",
            "index 14: 235\n",
            "index 15: 28\n",
            "index 16: 307\n",
            "index 17: 4\n",
            "index 18: 3\n",
            "index 19: 1\n",
            "index 20: 1\n",
            "index 21: 1\n",
            "index 22: 1\n",
            "index 23: 1\n"
          ]
        }
      ]
    },
    {
      "cell_type": "markdown",
      "metadata": {
        "id": "2-HT1C6kfQG6"
      },
      "source": [
        "#### **Multi Head Attention**\n",
        "\n",
        "* Attention get <b>three components</b> as input:\n",
        "    * <b>queries</b>\n",
        "    * <b>keys</b>\n",
        "    * <b>values</b>\n",
        "    * in this implementation <b>Query, Key, and Value</b> have same dimension\n",
        "* Hyperparameter\n",
        "    * **hidden_dim**: embedding dimension of one sentence\n",
        "    * **n_heads**: number of heads = number of scaled dot-product attention\n",
        "    * **dropout_ratio**: dropout rate (for regularization)"
      ]
    },
    {
      "cell_type": "code",
      "metadata": {
        "id": "ohBIfgOJiL0a"
      },
      "source": [
        "# Define Multihead attention layer\n",
        "import torch.nn as nn\n",
        "\n",
        "class MultiHeadAttentionLayer(nn.Module):\n",
        "    def __init__(self, hidden_dim, n_heads, dropout_ratio, device):\n",
        "        super().__init__()\n",
        "\n",
        "        assert hidden_dim % n_heads == 0\n",
        "\n",
        "        self.hidden_dim = hidden_dim # embedding dimension\n",
        "        self.n_heads = n_heads # number of head : number of each attention concept (different from each other)\n",
        "        self.head_dim = hidden_dim // n_heads # embedding dimension of each head \n",
        "\n",
        "        self.fc_q = nn.Linear(hidden_dim, hidden_dim) # FC layer whcih applies to Query \n",
        "        self.fc_k = nn.Linear(hidden_dim, hidden_dim) # FC layer whcih applies Key \n",
        "        self.fc_v = nn.Linear(hidden_dim, hidden_dim) # FC layer whcih applies Value \n",
        "\n",
        "        self.fc_o = nn.Linear(hidden_dim, hidden_dim)\n",
        "\n",
        "        self.dropout = nn.Dropout(dropout_ratio)\n",
        "\n",
        "        self.scale = torch.sqrt(torch.FloatTensor([self.head_dim])).to(device)\n",
        "\n",
        "    def forward(self, query, key, value, mask = None):\n",
        "\n",
        "        batch_size = query.shape[0]\n",
        "\n",
        "        # query: [batch_size, query_len, hidden_dim]\n",
        "        # key: [batch_size, key_len, hidden_dim]\n",
        "        # value: [batch_size, value_len, hidden_dim]\n",
        " \n",
        "        Q = self.fc_q(query)\n",
        "        K = self.fc_k(key)\n",
        "        V = self.fc_v(value)\n",
        "\n",
        "        # Q: [batch_size, query_len, hidden_dim]\n",
        "        # K: [batch_size, key_len, hidden_dim]\n",
        "        # V: [batch_size, value_len, hidden_dim]\n",
        "\n",
        "        # hidden_dim → transform to n_heads X head_dim shape\n",
        "        # induce n_heads(h) to different attention concept(for training)\n",
        "        Q = Q.view(batch_size, -1, self.n_heads, self.head_dim).permute(0, 2, 1, 3)\n",
        "        K = K.view(batch_size, -1, self.n_heads, self.head_dim).permute(0, 2, 1, 3)\n",
        "        V = V.view(batch_size, -1, self.n_heads, self.head_dim).permute(0, 2, 1, 3)\n",
        "\n",
        "        # Q: [batch_size, n_heads, query_len, head_dim]\n",
        "        # K: [batch_size, n_heads, key_len, head_dim]\n",
        "        # V: [batch_size, n_heads, value_len, head_dim]\n",
        "\n",
        "        # Calculate Attention Energy \n",
        "        energy = torch.matmul(Q, K.permute(0, 1, 3, 2)) / self.scale\n",
        "\n",
        "        # energy: [batch_size, n_heads, query_len, key_len]\n",
        "\n",
        "        # When using mask\n",
        "        if mask is not None:\n",
        "            # fill the value if  mask value =0 as  -1e10\n",
        "            energy = energy.masked_fill(mask==0, -1e10)\n",
        "\n",
        "        # calculate attention score: statistical value of each sentence \n",
        "        attention = torch.softmax(energy, dim=-1)\n",
        "\n",
        "        # attention: [batch_size, n_heads, query_len, key_len]\n",
        "\n",
        "        # Calculate Scaled Dot-Product Attention\n",
        "        x = torch.matmul(self.dropout(attention), V)\n",
        "\n",
        "        # x: [batch_size, n_heads, query_len, head_dim]\n",
        "\n",
        "        x = x.permute(0, 2, 1, 3).contiguous()\n",
        "\n",
        "        # x: [batch_size, query_len, n_heads, head_dim]\n",
        "\n",
        "        x = x.view(batch_size, -1, self.hidden_dim)\n",
        "\n",
        "        # x: [batch_size, query_len, hidden_dim]\n",
        "\n",
        "        x = self.fc_o(x)\n",
        "\n",
        "        # x: [batch_size, query_len, hidden_dim]\n",
        "\n",
        "        return x, attention"
      ],
      "execution_count": 17,
      "outputs": []
    },
    {
      "cell_type": "markdown",
      "metadata": {
        "id": "D4-71fGFUQ0P"
      },
      "source": [
        "#### **Position-wise Feedforward **\n",
        "\n",
        "* input and output dimensions are equivalent to each other \n",
        "* Hyperparameter:\n",
        "    * **hidden_dim**: embedding dimension of single word \n",
        "    * **pf_dim**: inner embeding dimension of Feedforward layer\n",
        "    * **dropout_ratio**: dropout rate"
      ]
    },
    {
      "cell_type": "code",
      "metadata": {
        "id": "yBXPWolrUeYj"
      },
      "source": [
        "class PositionwiseFeedforwardLayer(nn.Module):\n",
        "    def __init__(self, hidden_dim, pf_dim, dropout_ratio):\n",
        "        super().__init__()\n",
        "\n",
        "        self.fc_1 = nn.Linear(hidden_dim, pf_dim)\n",
        "        self.fc_2 = nn.Linear(pf_dim, hidden_dim)\n",
        "\n",
        "        self.dropout = nn.Dropout(dropout_ratio)\n",
        "\n",
        "    def forward(self, x):\n",
        "\n",
        "        # x: [batch_size, seq_len, hidden_dim]\n",
        "\n",
        "        x = self.dropout(torch.relu(self.fc_1(x)))\n",
        "\n",
        "        # x: [batch_size, seq_len, pf_dim]\n",
        "\n",
        "        x = self.fc_2(x)\n",
        "\n",
        "        # x: [batch_size, seq_len, hidden_dim]\n",
        "\n",
        "        return x"
      ],
      "execution_count": 18,
      "outputs": []
    },
    {
      "cell_type": "markdown",
      "metadata": {
        "id": "evmxGJCTTF1x"
      },
      "source": [
        "#### **Encoder layer**\n",
        "\n",
        "* Define single encoder layer \n",
        "    * input and output dimensions are equivalent to each other \n",
        "    * for this reason transformer encoder overlapping many times \n",
        "* Hyperparameter\n",
        "    * **hidden_dim**: embedding dimension of single word \n",
        "    * **n_heads**: number of head = number of scaled dot-product attention\n",
        "    * **pf_dim**: inner embeding dimension of Feedforward layer원\n",
        "    * **dropout_ratio**: dropout rate\n",
        "* &lt;pad&gt; set mask value as \"0\" about token"
      ]
    },
    {
      "cell_type": "code",
      "metadata": {
        "id": "uTPD0jEbe1bx"
      },
      "source": [
        "class EncoderLayer(nn.Module):\n",
        "    def __init__(self, hidden_dim, n_heads, pf_dim, dropout_ratio, device):\n",
        "        super().__init__()\n",
        "\n",
        "        self.self_attn_layer_norm = nn.LayerNorm(hidden_dim)\n",
        "        self.ff_layer_norm = nn.LayerNorm(hidden_dim)\n",
        "        self.self_attention = MultiHeadAttentionLayer(hidden_dim, n_heads, dropout_ratio, device)\n",
        "        self.positionwise_feedforward = PositionwiseFeedforwardLayer(hidden_dim, pf_dim, dropout_ratio)\n",
        "        self.dropout = nn.Dropout(dropout_ratio)\n",
        "\n",
        "    # duplicate one embedding then input Query, Key, Value\n",
        "    def forward(self, src, src_mask):\n",
        "\n",
        "        # src: [batch_size, src_len, hidden_dim]\n",
        "        # src_mask: [batch_size, src_len]\n",
        "\n",
        "        # self attention\n",
        "        # If needed use mask matrix in order to regulate words of attention\n",
        "        _src, _ = self.self_attention(src, src, src, src_mask)\n",
        "\n",
        "        # dropout, residual connection and layer norm\n",
        "        src = self.self_attn_layer_norm(src + self.dropout(_src))\n",
        "\n",
        "        # src: [batch_size, src_len, hidden_dim]\n",
        "\n",
        "        # position-wise feedforward\n",
        "        _src = self.positionwise_feedforward(src)\n",
        "\n",
        "        # dropout, residual and layer norm\n",
        "        src = self.ff_layer_norm(src + self.dropout(_src))\n",
        "\n",
        "        # src: [batch_size, src_len, hidden_dim]\n",
        "\n",
        "        return src"
      ],
      "execution_count": 19,
      "outputs": []
    },
    {
      "cell_type": "markdown",
      "metadata": {
        "id": "6RmMSlFXVkxN"
      },
      "source": [
        "#### **Encoder Architecture**\n",
        "\n",
        "* Define Encoder architecture\n",
        "* Hyperparameter:\n",
        "    * **input_dim**: one hot encoding dimension of single word \n",
        "    * **hidden_dim**: embedding dimension of single word \n",
        "    * **n_layers**: number of encoder layer for internal usage \n",
        "    * **n_heads**: number of head = number of scaled dot-product attention\n",
        "    * **pf_dim**: inner embedding dimension of Feedforward layer\n",
        "    * **dropout_ratio**: dropout rate\n",
        "    * **max_length**: maximum number of words in a sentence \n",
        "* train <b>positional embedding</b>\n",
        "    * its different way of training from the original paper but this training method commonly used for modern transformer architecture such as BERT\n",
        "* &lt;pad&gt; set mask value as \"0\" about token"
      ]
    },
    {
      "cell_type": "code",
      "metadata": {
        "id": "LAd_op0bVhn-"
      },
      "source": [
        "class Encoder(nn.Module):\n",
        "    def __init__(self, input_dim, hidden_dim, n_layers, n_heads, pf_dim, dropout_ratio, device, max_length=100):\n",
        "        super().__init__()\n",
        "\n",
        "        self.device = device\n",
        "\n",
        "        self.tok_embedding = nn.Embedding(input_dim, hidden_dim)\n",
        "        self.pos_embedding = nn.Embedding(max_length, hidden_dim)\n",
        "\n",
        "        self.layers = nn.ModuleList([EncoderLayer(hidden_dim, n_heads, pf_dim, dropout_ratio, device) for _ in range(n_layers)])\n",
        "\n",
        "        self.dropout = nn.Dropout(dropout_ratio)\n",
        "\n",
        "        self.scale = torch.sqrt(torch.FloatTensor([hidden_dim])).to(device)\n",
        "\n",
        "    def forward(self, src, src_mask):\n",
        "\n",
        "        # src: [batch_size, src_len]\n",
        "        # src_mask: [batch_size, src_len]\n",
        "\n",
        "        batch_size = src.shape[0]\n",
        "        src_len = src.shape[1]\n",
        "\n",
        "        pos = torch.arange(0, src_len).unsqueeze(0).repeat(batch_size, 1).to(self.device)\n",
        "\n",
        "        # pos: [batch_size, src_len]\n",
        "\n",
        "        # Add source sentence embedding to positinal embedding \n",
        "        src = self.dropout((self.tok_embedding(src) * self.scale) + self.pos_embedding(pos))\n",
        "\n",
        "        # src: [batch_size, src_len, hidden_dim]\n",
        "\n",
        "        # activate forward by getting through all encoder layers in order \n",
        "        for layer in self.layers:\n",
        "            src = layer(src, src_mask)\n",
        "\n",
        "        # src: [batch_size, src_len, hidden_dim]\n",
        "\n",
        "        return src # return last layer's output "
      ],
      "execution_count": 20,
      "outputs": []
    },
    {
      "cell_type": "markdown",
      "metadata": {
        "id": "NNP2S7g_Xeal"
      },
      "source": [
        "#### **Decoder layer**\n",
        "\n",
        "* Define single Decoder layer \n",
        "    * input and output dimensions are equivalent to each other \n",
        "    * for this reason transformer decoder overlapping many times\n",
        "    * Decoder layer use two Multi-Head Attention layers\n",
        "* Hyperparameter:\n",
        "    * **hidden_dim**: embedding dimension of single word \n",
        "    * **n_heads**: number of head = number of scaled dot-product attention\n",
        "    * **pf_dim**: inner embeding dimension of Feedforward laye\n",
        "    * **dropout_ratio**: dropout rate\n",
        "* Source sentence: set mask as '0' for source sentence 's &lt;pad&gt; token \n",
        "* Target sentence : use mask for target sentence why? make sure not aware of next words but only train previous word so that it can predict next word. \n",
        "\n",
        "\n"
      ]
    },
    {
      "cell_type": "code",
      "metadata": {
        "id": "0jn4VCWdXhK5"
      },
      "source": [
        "class DecoderLayer(nn.Module):\n",
        "    def __init__(self, hidden_dim, n_heads, pf_dim, dropout_ratio, device):\n",
        "        super().__init__()\n",
        "\n",
        "        self.self_attn_layer_norm = nn.LayerNorm(hidden_dim)\n",
        "        self.enc_attn_layer_norm = nn.LayerNorm(hidden_dim)\n",
        "        self.ff_layer_norm = nn.LayerNorm(hidden_dim)\n",
        "        self.self_attention = MultiHeadAttentionLayer(hidden_dim, n_heads, dropout_ratio, device)\n",
        "        self.encoder_attention = MultiHeadAttentionLayer(hidden_dim, n_heads, dropout_ratio, device)\n",
        "        self.positionwise_feedforward = PositionwiseFeedforwardLayer(hidden_dim, pf_dim, dropout_ratio)\n",
        "        self.dropout = nn.Dropout(dropout_ratio)\n",
        "\n",
        "    # Form Attention for output of encoder(enc_src) \n",
        "    def forward(self, trg, enc_src, trg_mask, src_mask):\n",
        "\n",
        "        # trg: [batch_size, trg_len, hidden_dim]\n",
        "        # enc_src: [batch_size, src_len, hidden_dim]\n",
        "        # trg_mask: [batch_size, trg_len]\n",
        "        # src_mask: [batch_size, src_len]\n",
        "\n",
        "        # self attention\n",
        "        _trg, _ = self.self_attention(trg, trg, trg, trg_mask)\n",
        "\n",
        "        # dropout, residual connection and layer norm\n",
        "        trg = self.self_attn_layer_norm(trg + self.dropout(_trg))\n",
        "\n",
        "        # trg: [batch_size, trg_len, hidden_dim]\n",
        "\n",
        "        # encoder attention\n",
        "        # use decoder's query for encoder attention \n",
        "        _trg, attention = self.encoder_attention(trg, enc_src, enc_src, src_mask)\n",
        "\n",
        "        # dropout, residual connection and layer norm\n",
        "        trg = self.enc_attn_layer_norm(trg + self.dropout(_trg))\n",
        "\n",
        "        # trg: [batch_size, trg_len, hidden_dim]\n",
        "\n",
        "        # positionwise feedforward\n",
        "        _trg = self.positionwise_feedforward(trg)\n",
        "\n",
        "        # dropout, residual and layer norm\n",
        "        trg = self.ff_layer_norm(trg + self.dropout(_trg))\n",
        "\n",
        "        # trg: [batch_size, trg_len, hidden_dim]\n",
        "        # attention: [batch_size, n_heads, trg_len, src_len]\n",
        "\n",
        "        return trg, attention"
      ],
      "execution_count": 21,
      "outputs": []
    },
    {
      "cell_type": "markdown",
      "metadata": {
        "id": "hK8AWlrcWWRc"
      },
      "source": [
        "#### **Decoder Architecture**\n",
        "\n",
        "* Define Decoder architecture\n",
        "* Hyperparameter:\n",
        "    * **output_dim**: one hot encoding dimension of single word \n",
        "    * **hidden_dim**: embedding dimension of single word \n",
        "    * **n_layers**: number of encoder layer for internal usage \n",
        "    * **n_heads**: number of head = number of scaled dot-product attention\n",
        "    * **pf_dim**: inner embedding dimension of Feedforward layer\n",
        "    * **dropout_ratio**: dropout rate\n",
        "    * **max_length**: maximum number of words in a sentence \n",
        "\n",
        "* train <b>positional embedding</b>\n",
        "    * its different way of training from the original paper but this training method commonly used for modern transformer architecture such as BERT\n",
        "\n",
        "\n",
        "\n",
        "\n",
        "* for the Inference : use decoder repeatedly like Seq2Seq\n",
        "    * training period : can find out the output sentence   \n",
        "* Source sentence: set mask as '0' for source sentence 's &lt;pad&gt; token\n",
        "* Target sentence : use mask for target sentence why? make sure not aware of next words but only train previous word so that it can predict next word. \n"
      ]
    },
    {
      "cell_type": "code",
      "metadata": {
        "id": "X64at7IuWQcm"
      },
      "source": [
        "class Decoder(nn.Module):\n",
        "    def __init__(self, output_dim, hidden_dim, n_layers, n_heads, pf_dim, dropout_ratio, device, max_length=100):\n",
        "        super().__init__()\n",
        "\n",
        "        self.device = device\n",
        "\n",
        "        self.tok_embedding = nn.Embedding(output_dim, hidden_dim)\n",
        "        self.pos_embedding = nn.Embedding(max_length, hidden_dim)\n",
        "\n",
        "        self.layers = nn.ModuleList([DecoderLayer(hidden_dim, n_heads, pf_dim, dropout_ratio, device) for _ in range(n_layers)])\n",
        "\n",
        "        self.fc_out = nn.Linear(hidden_dim, output_dim)\n",
        "\n",
        "        self.dropout = nn.Dropout(dropout_ratio)\n",
        "\n",
        "        self.scale = torch.sqrt(torch.FloatTensor([hidden_dim])).to(device)\n",
        "\n",
        "    def forward(self, trg, enc_src, trg_mask, src_mask):\n",
        "\n",
        "        # trg: [batch_size, trg_len]\n",
        "        # enc_src: [batch_size, src_len, hidden_dim]\n",
        "        # trg_mask: [batch_size, trg_len]\n",
        "        # src_mask: [batch_size, src_len]\n",
        "\n",
        "        batch_size = trg.shape[0]\n",
        "        trg_len = trg.shape[1]\n",
        "\n",
        "        pos = torch.arange(0, trg_len).unsqueeze(0).repeat(batch_size, 1).to(self.device)\n",
        "\n",
        "        # pos: [batch_size, trg_len]\n",
        "\n",
        "        trg = self.dropout((self.tok_embedding(trg) * self.scale) + self.pos_embedding(pos))\n",
        "\n",
        "        # trg: [batch_size, trg_len, hidden_dim]\n",
        "\n",
        "        for layer in self.layers:\n",
        "            # apply for both source mask and target mask \n",
        "            trg, attention = layer(trg, enc_src, trg_mask, src_mask)\n",
        "\n",
        "        # trg: [batch_size, trg_len, hidden_dim]\n",
        "        # attention: [batch_size, n_heads, trg_len, src_len]\n",
        "\n",
        "        output = self.fc_out(trg)\n",
        "\n",
        "        # output: [batch_size, trg_len, output_dim]\n",
        "\n",
        "        return output, attention"
      ],
      "execution_count": 22,
      "outputs": []
    },
    {
      "cell_type": "markdown",
      "metadata": {
        "id": "b50rQACqW3xX"
      },
      "source": [
        "#### **Transformer Architecture**\n",
        "- define Transformer model\n",
        "- all data coming through encoder and decoder to print out the whole sentence \n"
      ]
    },
    {
      "cell_type": "code",
      "metadata": {
        "id": "hBGN8VyvW0Et"
      },
      "source": [
        "class Transformer(nn.Module):\n",
        "    def __init__(self, encoder, decoder, src_pad_idx, trg_pad_idx, device):\n",
        "        super().__init__()\n",
        "\n",
        "        self.encoder = encoder\n",
        "        self.decoder = decoder\n",
        "        self.src_pad_idx = src_pad_idx\n",
        "        self.trg_pad_idx = trg_pad_idx\n",
        "        self.device = device\n",
        "\n",
        "    # Set mask as '0' for source sentence 's <pad> token \n",
        "    def make_src_mask(self, src):\n",
        "\n",
        "        # src: [batch_size, src_len]\n",
        "\n",
        "        src_mask = (src != self.src_pad_idx).unsqueeze(1).unsqueeze(2)\n",
        "\n",
        "        # src_mask: [batch_size, 1, 1, src_len]\n",
        "\n",
        "        return src_mask\n",
        "\n",
        "    # Make mask for target sentence : in order to cover next word \n",
        "    def make_trg_mask(self, trg):\n",
        "\n",
        "        # trg: [batch_size, trg_len]\n",
        "\n",
        "        \"\"\" (mask sample)\n",
        "        1 0 0 0 0\n",
        "        1 1 0 0 0\n",
        "        1 1 1 0 0\n",
        "        1 1 1 0 0\n",
        "        1 1 1 0 0\n",
        "        \"\"\"\n",
        "        trg_pad_mask = (trg != self.trg_pad_idx).unsqueeze(1).unsqueeze(2)\n",
        "\n",
        "        # trg_pad_mask: [batch_size, 1, 1, trg_len]\n",
        "\n",
        "        trg_len = trg.shape[1]\n",
        "\n",
        "        \"\"\" (mask sample)\n",
        "        1 0 0 0 0\n",
        "        1 1 0 0 0\n",
        "        1 1 1 0 0\n",
        "        1 1 1 1 0\n",
        "        1 1 1 1 1\n",
        "        \"\"\"\n",
        "        trg_sub_mask = torch.tril(torch.ones((trg_len, trg_len), device = self.device)).bool()\n",
        "\n",
        "        # trg_sub_mask: [trg_len, trg_len]\n",
        "\n",
        "        trg_mask = trg_pad_mask & trg_sub_mask\n",
        "\n",
        "        # trg_mask: [batch_size, 1, trg_len, trg_len]\n",
        "\n",
        "        return trg_mask\n",
        "\n",
        "    def forward(self, src, trg):\n",
        "\n",
        "        # src: [batch_size, src_len]\n",
        "        # trg: [batch_size, trg_len]\n",
        "\n",
        "        src_mask = self.make_src_mask(src)\n",
        "        trg_mask = self.make_trg_mask(trg)\n",
        "\n",
        "        # src_mask: [batch_size, 1, 1, src_len]\n",
        "        # trg_mask: [batch_size, 1, trg_len, trg_len]\n",
        "\n",
        "        enc_src = self.encoder(src, src_mask)\n",
        "\n",
        "        # enc_src: [batch_size, src_len, hidden_dim]\n",
        "\n",
        "        output, attention = self.decoder(trg, enc_src, trg_mask, src_mask)\n",
        "\n",
        "        # output: [batch_size, trg_len, output_dim]\n",
        "        # attention: [batch_size, n_heads, trg_len, src_len]\n",
        "\n",
        "        return output, attention"
      ],
      "execution_count": 23,
      "outputs": []
    },
    {
      "cell_type": "markdown",
      "metadata": {
        "id": "lnBKjEFFqHrV"
      },
      "source": [
        "#### **Training Preparation**\n",
        "\n",
        "- Set Hyperparameter\n",
        "- define source & target pad index\n",
        "- define encoder decoder\n",
        "- define Transformer Model\n",
        "- Set weight initialization"
      ]
    },
    {
      "cell_type": "code",
      "metadata": {
        "id": "vJG6xhUaXZ32"
      },
      "source": [
        "# Hyperparameter\n",
        "INPUT_DIM = len(SRC.vocab)\n",
        "OUTPUT_DIM = len(TRG.vocab)\n",
        "HIDDEN_DIM = 256\n",
        "ENC_LAYERS = 3\n",
        "DEC_LAYERS = 3\n",
        "ENC_HEADS = 8\n",
        "DEC_HEADS = 8\n",
        "ENC_PF_DIM = 512\n",
        "DEC_PF_DIM = 512\n",
        "ENC_DROPOUT = 0.1\n",
        "DEC_DROPOUT = 0.1"
      ],
      "execution_count": 24,
      "outputs": []
    },
    {
      "cell_type": "code",
      "metadata": {
        "id": "rVgG8VOYXbIk"
      },
      "source": [
        "# define source pad index and target pad index \n",
        "SRC_PAD_IDX = SRC.vocab.stoi[SRC.pad_token]\n",
        "TRG_PAD_IDX = TRG.vocab.stoi[TRG.pad_token]\n",
        "\n",
        "# define Encoder(enc) and Decoder(dec)\n",
        "enc = Encoder(INPUT_DIM, HIDDEN_DIM, ENC_LAYERS, ENC_HEADS, ENC_PF_DIM, ENC_DROPOUT, device)\n",
        "dec = Decoder(OUTPUT_DIM, HIDDEN_DIM, DEC_LAYERS, DEC_HEADS, DEC_PF_DIM, DEC_DROPOUT, device)\n",
        "\n",
        "# define Transformer model\n",
        "model = Transformer(enc, dec, SRC_PAD_IDX, TRG_PAD_IDX, device).to(device)"
      ],
      "execution_count": 25,
      "outputs": []
    },
    {
      "cell_type": "code",
      "source": [
        "# Model summary\n",
        "print(model)"
      ],
      "metadata": {
        "colab": {
          "base_uri": "https://localhost:8080/"
        },
        "id": "_j2QV6rPeNIL",
        "outputId": "e3159317-0245-49e9-9e84-297e25e552b7"
      },
      "execution_count": 26,
      "outputs": [
        {
          "output_type": "stream",
          "name": "stdout",
          "text": [
            "Transformer(\n",
            "  (encoder): Encoder(\n",
            "    (tok_embedding): Embedding(7853, 256)\n",
            "    (pos_embedding): Embedding(100, 256)\n",
            "    (layers): ModuleList(\n",
            "      (0-2): 3 x EncoderLayer(\n",
            "        (self_attn_layer_norm): LayerNorm((256,), eps=1e-05, elementwise_affine=True)\n",
            "        (ff_layer_norm): LayerNorm((256,), eps=1e-05, elementwise_affine=True)\n",
            "        (self_attention): MultiHeadAttentionLayer(\n",
            "          (fc_q): Linear(in_features=256, out_features=256, bias=True)\n",
            "          (fc_k): Linear(in_features=256, out_features=256, bias=True)\n",
            "          (fc_v): Linear(in_features=256, out_features=256, bias=True)\n",
            "          (fc_o): Linear(in_features=256, out_features=256, bias=True)\n",
            "          (dropout): Dropout(p=0.1, inplace=False)\n",
            "        )\n",
            "        (positionwise_feedforward): PositionwiseFeedforwardLayer(\n",
            "          (fc_1): Linear(in_features=256, out_features=512, bias=True)\n",
            "          (fc_2): Linear(in_features=512, out_features=256, bias=True)\n",
            "          (dropout): Dropout(p=0.1, inplace=False)\n",
            "        )\n",
            "        (dropout): Dropout(p=0.1, inplace=False)\n",
            "      )\n",
            "    )\n",
            "    (dropout): Dropout(p=0.1, inplace=False)\n",
            "  )\n",
            "  (decoder): Decoder(\n",
            "    (tok_embedding): Embedding(5893, 256)\n",
            "    (pos_embedding): Embedding(100, 256)\n",
            "    (layers): ModuleList(\n",
            "      (0-2): 3 x DecoderLayer(\n",
            "        (self_attn_layer_norm): LayerNorm((256,), eps=1e-05, elementwise_affine=True)\n",
            "        (enc_attn_layer_norm): LayerNorm((256,), eps=1e-05, elementwise_affine=True)\n",
            "        (ff_layer_norm): LayerNorm((256,), eps=1e-05, elementwise_affine=True)\n",
            "        (self_attention): MultiHeadAttentionLayer(\n",
            "          (fc_q): Linear(in_features=256, out_features=256, bias=True)\n",
            "          (fc_k): Linear(in_features=256, out_features=256, bias=True)\n",
            "          (fc_v): Linear(in_features=256, out_features=256, bias=True)\n",
            "          (fc_o): Linear(in_features=256, out_features=256, bias=True)\n",
            "          (dropout): Dropout(p=0.1, inplace=False)\n",
            "        )\n",
            "        (encoder_attention): MultiHeadAttentionLayer(\n",
            "          (fc_q): Linear(in_features=256, out_features=256, bias=True)\n",
            "          (fc_k): Linear(in_features=256, out_features=256, bias=True)\n",
            "          (fc_v): Linear(in_features=256, out_features=256, bias=True)\n",
            "          (fc_o): Linear(in_features=256, out_features=256, bias=True)\n",
            "          (dropout): Dropout(p=0.1, inplace=False)\n",
            "        )\n",
            "        (positionwise_feedforward): PositionwiseFeedforwardLayer(\n",
            "          (fc_1): Linear(in_features=256, out_features=512, bias=True)\n",
            "          (fc_2): Linear(in_features=512, out_features=256, bias=True)\n",
            "          (dropout): Dropout(p=0.1, inplace=False)\n",
            "        )\n",
            "        (dropout): Dropout(p=0.1, inplace=False)\n",
            "      )\n",
            "    )\n",
            "    (fc_out): Linear(in_features=256, out_features=5893, bias=True)\n",
            "    (dropout): Dropout(p=0.1, inplace=False)\n",
            "  )\n",
            ")\n"
          ]
        }
      ]
    },
    {
      "cell_type": "code",
      "source": [
        "# Optimizer\n",
        "LEARNING_RATE = 0.0001\n",
        "optimizer = torch.optim.Adam(model.parameters(), lr=LEARNING_RATE)\n",
        "\n",
        "# Criterion\n",
        "criterion = nn.CrossEntropyLoss(ignore_index = TRG_PAD_IDX)"
      ],
      "metadata": {
        "id": "6FwLoejk9f-r"
      },
      "execution_count": 27,
      "outputs": []
    },
    {
      "cell_type": "markdown",
      "metadata": {
        "id": "_B1BkZkUqQjo"
      },
      "source": [
        "* **Weight initialization**\n",
        "- initialize parameters of weight "
      ]
    },
    {
      "cell_type": "code",
      "metadata": {
        "colab": {
          "base_uri": "https://localhost:8080/"
        },
        "id": "cnCu5WAyXmes",
        "outputId": "f006c1d3-e02d-4a20-9183-25b18ec44398"
      },
      "source": [
        "def count_parameters(model):\n",
        "    return sum(p.numel() for p in model.parameters() if p.requires_grad)\n",
        "\n",
        "print(f'The model has {count_parameters(model):,} trainable parameters')"
      ],
      "execution_count": 28,
      "outputs": [
        {
          "output_type": "stream",
          "name": "stdout",
          "text": [
            "The model has 9,038,341 trainable parameters\n"
          ]
        }
      ]
    },
    {
      "cell_type": "code",
      "metadata": {
        "id": "VEY3bppUXndU",
        "colab": {
          "base_uri": "https://localhost:8080/"
        },
        "outputId": "b15078b0-880a-45d5-96d6-d70e6204b8dd"
      },
      "source": [
        "def initialize_weights(m):\n",
        "    if hasattr(m, 'weight') and m.weight.dim() > 1:\n",
        "        nn.init.xavier_uniform_(m.weight.data)\n",
        "\n",
        "model.apply(initialize_weights)"
      ],
      "execution_count": 29,
      "outputs": [
        {
          "output_type": "execute_result",
          "data": {
            "text/plain": [
              "Transformer(\n",
              "  (encoder): Encoder(\n",
              "    (tok_embedding): Embedding(7853, 256)\n",
              "    (pos_embedding): Embedding(100, 256)\n",
              "    (layers): ModuleList(\n",
              "      (0-2): 3 x EncoderLayer(\n",
              "        (self_attn_layer_norm): LayerNorm((256,), eps=1e-05, elementwise_affine=True)\n",
              "        (ff_layer_norm): LayerNorm((256,), eps=1e-05, elementwise_affine=True)\n",
              "        (self_attention): MultiHeadAttentionLayer(\n",
              "          (fc_q): Linear(in_features=256, out_features=256, bias=True)\n",
              "          (fc_k): Linear(in_features=256, out_features=256, bias=True)\n",
              "          (fc_v): Linear(in_features=256, out_features=256, bias=True)\n",
              "          (fc_o): Linear(in_features=256, out_features=256, bias=True)\n",
              "          (dropout): Dropout(p=0.1, inplace=False)\n",
              "        )\n",
              "        (positionwise_feedforward): PositionwiseFeedforwardLayer(\n",
              "          (fc_1): Linear(in_features=256, out_features=512, bias=True)\n",
              "          (fc_2): Linear(in_features=512, out_features=256, bias=True)\n",
              "          (dropout): Dropout(p=0.1, inplace=False)\n",
              "        )\n",
              "        (dropout): Dropout(p=0.1, inplace=False)\n",
              "      )\n",
              "    )\n",
              "    (dropout): Dropout(p=0.1, inplace=False)\n",
              "  )\n",
              "  (decoder): Decoder(\n",
              "    (tok_embedding): Embedding(5893, 256)\n",
              "    (pos_embedding): Embedding(100, 256)\n",
              "    (layers): ModuleList(\n",
              "      (0-2): 3 x DecoderLayer(\n",
              "        (self_attn_layer_norm): LayerNorm((256,), eps=1e-05, elementwise_affine=True)\n",
              "        (enc_attn_layer_norm): LayerNorm((256,), eps=1e-05, elementwise_affine=True)\n",
              "        (ff_layer_norm): LayerNorm((256,), eps=1e-05, elementwise_affine=True)\n",
              "        (self_attention): MultiHeadAttentionLayer(\n",
              "          (fc_q): Linear(in_features=256, out_features=256, bias=True)\n",
              "          (fc_k): Linear(in_features=256, out_features=256, bias=True)\n",
              "          (fc_v): Linear(in_features=256, out_features=256, bias=True)\n",
              "          (fc_o): Linear(in_features=256, out_features=256, bias=True)\n",
              "          (dropout): Dropout(p=0.1, inplace=False)\n",
              "        )\n",
              "        (encoder_attention): MultiHeadAttentionLayer(\n",
              "          (fc_q): Linear(in_features=256, out_features=256, bias=True)\n",
              "          (fc_k): Linear(in_features=256, out_features=256, bias=True)\n",
              "          (fc_v): Linear(in_features=256, out_features=256, bias=True)\n",
              "          (fc_o): Linear(in_features=256, out_features=256, bias=True)\n",
              "          (dropout): Dropout(p=0.1, inplace=False)\n",
              "        )\n",
              "        (positionwise_feedforward): PositionwiseFeedforwardLayer(\n",
              "          (fc_1): Linear(in_features=256, out_features=512, bias=True)\n",
              "          (fc_2): Linear(in_features=512, out_features=256, bias=True)\n",
              "          (dropout): Dropout(p=0.1, inplace=False)\n",
              "        )\n",
              "        (dropout): Dropout(p=0.1, inplace=False)\n",
              "      )\n",
              "    )\n",
              "    (fc_out): Linear(in_features=256, out_features=5893, bias=True)\n",
              "    (dropout): Dropout(p=0.1, inplace=False)\n",
              "  )\n",
              ")"
            ]
          },
          "metadata": {},
          "execution_count": 29
        }
      ]
    },
    {
      "cell_type": "markdown",
      "source": [
        "**Training Loop**"
      ],
      "metadata": {
        "id": "yma35owi9kAf"
      }
    },
    {
      "cell_type": "code",
      "metadata": {
        "id": "tcIltwlRXssU"
      },
      "source": [
        "# Training function\n",
        "def train(model, iterator, optimizer, criterion, clip):\n",
        "    model.train() # set training mode\n",
        "    epoch_loss = 0\n",
        "\n",
        "    # Check out the entire training data\n",
        "    for i, batch in enumerate(iterator):\n",
        "        src = batch.src\n",
        "        trg = batch.trg\n",
        "\n",
        "        optimizer.zero_grad()\n",
        "\n",
        "        # exclude las index (<eos>) of output word \n",
        "        # start with <sos> for input \n",
        "        output, _ = model(src, trg[:,:-1])\n",
        "\n",
        "        # output: [batch size, trg_len - 1, output_dim]\n",
        "        # trg: [batch size, trg_len]\n",
        "\n",
        "        output_dim = output.shape[-1]\n",
        "\n",
        "        output = output.contiguous().view(-1, output_dim)\n",
        "        # exclude index 0 <sos > of output word \n",
        "        trg = trg[:,1:].contiguous().view(-1)\n",
        "\n",
        "        # output: [batch size * trg_len - 1, output_dim]\n",
        "        # trg: [batch size * trg len - 1]\n",
        "\n",
        "        # calculate loss by comparing model's output and target sentence \n",
        "        loss = criterion(output, trg)\n",
        "        loss.backward() # calculate gradient) \n",
        "\n",
        "        # activate gradient clipping \n",
        "        torch.nn.utils.clip_grad_norm_(model.parameters(), clip)\n",
        "\n",
        "        # update parameter\n",
        "        optimizer.step()\n",
        "\n",
        "        # calculate total loss \n",
        "        epoch_loss += loss.item()\n",
        "\n",
        "    return epoch_loss / len(iterator)"
      ],
      "execution_count": 30,
      "outputs": []
    },
    {
      "cell_type": "code",
      "metadata": {
        "id": "69a5vBggXt4M"
      },
      "source": [
        "# Evaluation function\n",
        "def evaluate(model, iterator, criterion):\n",
        "    model.eval() # set evaluation mode\n",
        "    epoch_loss = 0\n",
        "\n",
        "    with torch.no_grad():\n",
        "        # check out the entire evaluation data \n",
        "        for i, batch in enumerate(iterator):\n",
        "            src = batch.src\n",
        "            trg = batch.trg\n",
        "\n",
        "            # exclude las index (<eos>) of output word \n",
        "            # start with <sos> for input \n",
        "            output, _ = model(src, trg[:,:-1])\n",
        "\n",
        "            # output: [batch size, trg_len - 1, output_dim]\n",
        "            # trg: [batch size, trg_len]\n",
        "\n",
        "            output_dim = output.shape[-1]\n",
        "\n",
        "            output = output.contiguous().view(-1, output_dim)\n",
        "            # exclude index 0 <sos > of output word \n",
        "            trg = trg[:,1:].contiguous().view(-1)\n",
        "\n",
        "            # output: [batch size * trg_len - 1, output_dim]\n",
        "            # trg: [batch size * trg len - 1]\n",
        "\n",
        "            # calculate loss by comparing model's output and target sentence \n",
        "            loss = criterion(output, trg)\n",
        "\n",
        "            # calculate total loss \n",
        "            epoch_loss += loss.item()\n",
        "\n",
        "    return epoch_loss / len(iterator)"
      ],
      "execution_count": 31,
      "outputs": []
    },
    {
      "cell_type": "markdown",
      "source": [
        "**Set epoch for training**"
      ],
      "metadata": {
        "id": "V9efwi6q9vYs"
      }
    },
    {
      "cell_type": "code",
      "metadata": {
        "id": "HPjtaQ6CXvGk"
      },
      "source": [
        "def epoch_time(start_time, end_time):\n",
        "    elapsed_time = end_time - start_time\n",
        "    elapsed_mins = int(elapsed_time / 60)\n",
        "    elapsed_secs = int(elapsed_time - (elapsed_mins * 60))\n",
        "    return elapsed_mins, elapsed_secs"
      ],
      "execution_count": 32,
      "outputs": []
    },
    {
      "cell_type": "code",
      "metadata": {
        "colab": {
          "base_uri": "https://localhost:8080/"
        },
        "id": "XTe-5FdvXwdE",
        "outputId": "1a78ebde-9505-4fe5-af35-cbd205e5f309"
      },
      "source": [
        "# epoch per training\n",
        "\n",
        "N_EPOCHS = 200\n",
        "CLIP = 1\n",
        "best_valid_loss = float('inf')\n",
        "\n",
        "for epoch in tqdm(range(N_EPOCHS)):\n",
        "    start_time = time.time() # start of time\n",
        "\n",
        "    train_loss = train(model, train_iterator, optimizer, criterion, CLIP)\n",
        "    valid_loss = evaluate(model, valid_iterator, criterion)\n",
        "\n",
        "    end_time = time.time() # end of time\n",
        "    epoch_mins, epoch_secs = epoch_time(start_time, end_time)\n",
        "\n",
        "    if valid_loss < best_valid_loss:\n",
        "        best_valid_loss = valid_loss\n",
        "        torch.save(model.state_dict(), '/transformer_german_to_english.pt')\n",
        "\n",
        "    print(f'Epoch: {epoch + 1:02} | Time: {epoch_mins}m {epoch_secs}s')\n",
        "    print(f'\\tTrain Loss: {train_loss:.3f} | Train PPL: {math.exp(train_loss):.3f}')\n",
        "    print(f'\\tValidation Loss: {valid_loss:.3f} | Validation PPL: {math.exp(valid_loss):.3f}')"
      ],
      "execution_count": 33,
      "outputs": [
        {
          "output_type": "stream",
          "name": "stderr",
          "text": [
            "  0%|          | 1/200 [00:08<27:56,  8.42s/it]"
          ]
        },
        {
          "output_type": "stream",
          "name": "stdout",
          "text": [
            "Epoch: 01 | Time: 0m 8s\n",
            "\tTrain Loss: 5.677 | Train PPL: 292.012\n",
            "\tValidation Loss: 4.195 | Validation PPL: 66.347\n"
          ]
        },
        {
          "output_type": "stream",
          "name": "stderr",
          "text": [
            "\r  1%|          | 2/200 [00:16<27:01,  8.19s/it]"
          ]
        },
        {
          "output_type": "stream",
          "name": "stdout",
          "text": [
            "Epoch: 02 | Time: 0m 7s\n",
            "\tTrain Loss: 3.979 | Train PPL: 53.440\n",
            "\tValidation Loss: 3.495 | Validation PPL: 32.946\n"
          ]
        },
        {
          "output_type": "stream",
          "name": "stderr",
          "text": [
            "\r  2%|▏         | 3/200 [00:23<25:36,  7.80s/it]"
          ]
        },
        {
          "output_type": "stream",
          "name": "stdout",
          "text": [
            "Epoch: 03 | Time: 0m 7s\n",
            "\tTrain Loss: 3.491 | Train PPL: 32.834\n",
            "\tValidation Loss: 3.120 | Validation PPL: 22.652\n"
          ]
        },
        {
          "output_type": "stream",
          "name": "stderr",
          "text": [
            "\r  2%|▏         | 4/200 [00:31<24:54,  7.63s/it]"
          ]
        },
        {
          "output_type": "stream",
          "name": "stdout",
          "text": [
            "Epoch: 04 | Time: 0m 7s\n",
            "\tTrain Loss: 3.159 | Train PPL: 23.539\n",
            "\tValidation Loss: 2.837 | Validation PPL: 17.058\n"
          ]
        },
        {
          "output_type": "stream",
          "name": "stderr",
          "text": [
            "\r  2%|▎         | 5/200 [00:38<24:35,  7.57s/it]"
          ]
        },
        {
          "output_type": "stream",
          "name": "stdout",
          "text": [
            "Epoch: 05 | Time: 0m 7s\n",
            "\tTrain Loss: 2.895 | Train PPL: 18.079\n",
            "\tValidation Loss: 2.619 | Validation PPL: 13.721\n"
          ]
        },
        {
          "output_type": "stream",
          "name": "stderr",
          "text": [
            "\r  3%|▎         | 6/200 [00:46<24:23,  7.54s/it]"
          ]
        },
        {
          "output_type": "stream",
          "name": "stdout",
          "text": [
            "Epoch: 06 | Time: 0m 7s\n",
            "\tTrain Loss: 2.679 | Train PPL: 14.571\n",
            "\tValidation Loss: 2.450 | Validation PPL: 11.587\n"
          ]
        },
        {
          "output_type": "stream",
          "name": "stderr",
          "text": [
            "\r  4%|▎         | 7/200 [00:53<24:04,  7.49s/it]"
          ]
        },
        {
          "output_type": "stream",
          "name": "stdout",
          "text": [
            "Epoch: 07 | Time: 0m 7s\n",
            "\tTrain Loss: 2.502 | Train PPL: 12.204\n",
            "\tValidation Loss: 2.322 | Validation PPL: 10.197\n"
          ]
        },
        {
          "output_type": "stream",
          "name": "stderr",
          "text": [
            "\r  4%|▍         | 8/200 [01:00<23:51,  7.45s/it]"
          ]
        },
        {
          "output_type": "stream",
          "name": "stdout",
          "text": [
            "Epoch: 08 | Time: 0m 7s\n",
            "\tTrain Loss: 2.349 | Train PPL: 10.474\n",
            "\tValidation Loss: 2.209 | Validation PPL: 9.108\n"
          ]
        },
        {
          "output_type": "stream",
          "name": "stderr",
          "text": [
            "\r  4%|▍         | 9/200 [01:08<23:37,  7.42s/it]"
          ]
        },
        {
          "output_type": "stream",
          "name": "stdout",
          "text": [
            "Epoch: 09 | Time: 0m 7s\n",
            "\tTrain Loss: 2.216 | Train PPL: 9.174\n",
            "\tValidation Loss: 2.129 | Validation PPL: 8.409\n"
          ]
        },
        {
          "output_type": "stream",
          "name": "stderr",
          "text": [
            "\r  5%|▌         | 10/200 [01:15<23:27,  7.41s/it]"
          ]
        },
        {
          "output_type": "stream",
          "name": "stdout",
          "text": [
            "Epoch: 10 | Time: 0m 7s\n",
            "\tTrain Loss: 2.099 | Train PPL: 8.162\n",
            "\tValidation Loss: 2.054 | Validation PPL: 7.796\n"
          ]
        },
        {
          "output_type": "stream",
          "name": "stderr",
          "text": [
            "\r  6%|▌         | 11/200 [01:23<23:21,  7.42s/it]"
          ]
        },
        {
          "output_type": "stream",
          "name": "stdout",
          "text": [
            "Epoch: 11 | Time: 0m 7s\n",
            "\tTrain Loss: 1.996 | Train PPL: 7.358\n",
            "\tValidation Loss: 2.002 | Validation PPL: 7.403\n"
          ]
        },
        {
          "output_type": "stream",
          "name": "stderr",
          "text": [
            "\r  6%|▌         | 12/200 [01:30<23:07,  7.38s/it]"
          ]
        },
        {
          "output_type": "stream",
          "name": "stdout",
          "text": [
            "Epoch: 12 | Time: 0m 7s\n",
            "\tTrain Loss: 1.901 | Train PPL: 6.693\n",
            "\tValidation Loss: 1.951 | Validation PPL: 7.033\n"
          ]
        },
        {
          "output_type": "stream",
          "name": "stderr",
          "text": [
            "\r  6%|▋         | 13/200 [01:37<22:57,  7.37s/it]"
          ]
        },
        {
          "output_type": "stream",
          "name": "stdout",
          "text": [
            "Epoch: 13 | Time: 0m 7s\n",
            "\tTrain Loss: 1.816 | Train PPL: 6.147\n",
            "\tValidation Loss: 1.909 | Validation PPL: 6.746\n"
          ]
        },
        {
          "output_type": "stream",
          "name": "stderr",
          "text": [
            "\r  7%|▋         | 14/200 [01:44<22:48,  7.36s/it]"
          ]
        },
        {
          "output_type": "stream",
          "name": "stdout",
          "text": [
            "Epoch: 14 | Time: 0m 7s\n",
            "\tTrain Loss: 1.735 | Train PPL: 5.669\n",
            "\tValidation Loss: 1.867 | Validation PPL: 6.468\n"
          ]
        },
        {
          "output_type": "stream",
          "name": "stderr",
          "text": [
            "\r  8%|▊         | 15/200 [01:52<22:40,  7.35s/it]"
          ]
        },
        {
          "output_type": "stream",
          "name": "stdout",
          "text": [
            "Epoch: 15 | Time: 0m 7s\n",
            "\tTrain Loss: 1.665 | Train PPL: 5.285\n",
            "\tValidation Loss: 1.844 | Validation PPL: 6.321\n"
          ]
        },
        {
          "output_type": "stream",
          "name": "stderr",
          "text": [
            "\r  8%|▊         | 16/200 [01:59<22:32,  7.35s/it]"
          ]
        },
        {
          "output_type": "stream",
          "name": "stdout",
          "text": [
            "Epoch: 16 | Time: 0m 7s\n",
            "\tTrain Loss: 1.598 | Train PPL: 4.945\n",
            "\tValidation Loss: 1.814 | Validation PPL: 6.134\n"
          ]
        },
        {
          "output_type": "stream",
          "name": "stderr",
          "text": [
            "\r  8%|▊         | 17/200 [02:06<22:23,  7.34s/it]"
          ]
        },
        {
          "output_type": "stream",
          "name": "stdout",
          "text": [
            "Epoch: 17 | Time: 0m 7s\n",
            "\tTrain Loss: 1.533 | Train PPL: 4.634\n",
            "\tValidation Loss: 1.796 | Validation PPL: 6.028\n"
          ]
        },
        {
          "output_type": "stream",
          "name": "stderr",
          "text": [
            "\r  9%|▉         | 18/200 [02:14<22:16,  7.34s/it]"
          ]
        },
        {
          "output_type": "stream",
          "name": "stdout",
          "text": [
            "Epoch: 18 | Time: 0m 7s\n",
            "\tTrain Loss: 1.472 | Train PPL: 4.359\n",
            "\tValidation Loss: 1.779 | Validation PPL: 5.921\n"
          ]
        },
        {
          "output_type": "stream",
          "name": "stderr",
          "text": [
            "\r 10%|▉         | 19/200 [02:21<22:09,  7.35s/it]"
          ]
        },
        {
          "output_type": "stream",
          "name": "stdout",
          "text": [
            "Epoch: 19 | Time: 0m 7s\n",
            "\tTrain Loss: 1.420 | Train PPL: 4.136\n",
            "\tValidation Loss: 1.772 | Validation PPL: 5.880\n"
          ]
        },
        {
          "output_type": "stream",
          "name": "stderr",
          "text": [
            "\r 10%|█         | 20/200 [02:28<22:00,  7.33s/it]"
          ]
        },
        {
          "output_type": "stream",
          "name": "stdout",
          "text": [
            "Epoch: 20 | Time: 0m 7s\n",
            "\tTrain Loss: 1.368 | Train PPL: 3.926\n",
            "\tValidation Loss: 1.759 | Validation PPL: 5.804\n"
          ]
        },
        {
          "output_type": "stream",
          "name": "stderr",
          "text": [
            "\r 10%|█         | 21/200 [02:36<21:53,  7.34s/it]"
          ]
        },
        {
          "output_type": "stream",
          "name": "stdout",
          "text": [
            "Epoch: 21 | Time: 0m 7s\n",
            "\tTrain Loss: 1.319 | Train PPL: 3.738\n",
            "\tValidation Loss: 1.751 | Validation PPL: 5.761\n"
          ]
        },
        {
          "output_type": "stream",
          "name": "stderr",
          "text": [
            "\r 11%|█         | 22/200 [02:43<21:45,  7.33s/it]"
          ]
        },
        {
          "output_type": "stream",
          "name": "stdout",
          "text": [
            "Epoch: 22 | Time: 0m 7s\n",
            "\tTrain Loss: 1.269 | Train PPL: 3.557\n",
            "\tValidation Loss: 1.749 | Validation PPL: 5.750\n"
          ]
        },
        {
          "output_type": "stream",
          "name": "stderr",
          "text": [
            "\r 12%|█▏        | 23/200 [02:50<21:36,  7.33s/it]"
          ]
        },
        {
          "output_type": "stream",
          "name": "stdout",
          "text": [
            "Epoch: 23 | Time: 0m 7s\n",
            "\tTrain Loss: 1.227 | Train PPL: 3.410\n",
            "\tValidation Loss: 1.732 | Validation PPL: 5.654\n"
          ]
        },
        {
          "output_type": "stream",
          "name": "stderr",
          "text": [
            "\r 12%|█▏        | 24/200 [02:58<21:25,  7.31s/it]"
          ]
        },
        {
          "output_type": "stream",
          "name": "stdout",
          "text": [
            "Epoch: 24 | Time: 0m 7s\n",
            "\tTrain Loss: 1.185 | Train PPL: 3.270\n",
            "\tValidation Loss: 1.732 | Validation PPL: 5.655\n"
          ]
        },
        {
          "output_type": "stream",
          "name": "stderr",
          "text": [
            "\r 12%|█▎        | 25/200 [03:05<21:14,  7.28s/it]"
          ]
        },
        {
          "output_type": "stream",
          "name": "stdout",
          "text": [
            "Epoch: 25 | Time: 0m 7s\n",
            "\tTrain Loss: 1.143 | Train PPL: 3.136\n",
            "\tValidation Loss: 1.743 | Validation PPL: 5.715\n"
          ]
        },
        {
          "output_type": "stream",
          "name": "stderr",
          "text": [
            "\r 13%|█▎        | 26/200 [03:12<21:06,  7.28s/it]"
          ]
        },
        {
          "output_type": "stream",
          "name": "stdout",
          "text": [
            "Epoch: 26 | Time: 0m 7s\n",
            "\tTrain Loss: 1.103 | Train PPL: 3.015\n",
            "\tValidation Loss: 1.733 | Validation PPL: 5.655\n"
          ]
        },
        {
          "output_type": "stream",
          "name": "stderr",
          "text": [
            "\r 14%|█▎        | 27/200 [03:20<20:59,  7.28s/it]"
          ]
        },
        {
          "output_type": "stream",
          "name": "stdout",
          "text": [
            "Epoch: 27 | Time: 0m 7s\n",
            "\tTrain Loss: 1.066 | Train PPL: 2.903\n",
            "\tValidation Loss: 1.737 | Validation PPL: 5.678\n"
          ]
        },
        {
          "output_type": "stream",
          "name": "stderr",
          "text": [
            "\r 14%|█▍        | 28/200 [03:27<20:52,  7.28s/it]"
          ]
        },
        {
          "output_type": "stream",
          "name": "stdout",
          "text": [
            "Epoch: 28 | Time: 0m 7s\n",
            "\tTrain Loss: 1.029 | Train PPL: 2.799\n",
            "\tValidation Loss: 1.740 | Validation PPL: 5.699\n"
          ]
        },
        {
          "output_type": "stream",
          "name": "stderr",
          "text": [
            "\r 14%|█▍        | 29/200 [03:34<20:44,  7.28s/it]"
          ]
        },
        {
          "output_type": "stream",
          "name": "stdout",
          "text": [
            "Epoch: 29 | Time: 0m 7s\n",
            "\tTrain Loss: 0.996 | Train PPL: 2.708\n",
            "\tValidation Loss: 1.766 | Validation PPL: 5.845\n"
          ]
        },
        {
          "output_type": "stream",
          "name": "stderr",
          "text": [
            "\r 15%|█▌        | 30/200 [03:41<20:34,  7.26s/it]"
          ]
        },
        {
          "output_type": "stream",
          "name": "stdout",
          "text": [
            "Epoch: 30 | Time: 0m 7s\n",
            "\tTrain Loss: 0.962 | Train PPL: 2.617\n",
            "\tValidation Loss: 1.761 | Validation PPL: 5.821\n"
          ]
        },
        {
          "output_type": "stream",
          "name": "stderr",
          "text": [
            "\r 16%|█▌        | 31/200 [03:49<20:28,  7.27s/it]"
          ]
        },
        {
          "output_type": "stream",
          "name": "stdout",
          "text": [
            "Epoch: 31 | Time: 0m 7s\n",
            "\tTrain Loss: 0.930 | Train PPL: 2.534\n",
            "\tValidation Loss: 1.759 | Validation PPL: 5.809\n"
          ]
        },
        {
          "output_type": "stream",
          "name": "stderr",
          "text": [
            "\r 16%|█▌        | 32/200 [03:56<20:19,  7.26s/it]"
          ]
        },
        {
          "output_type": "stream",
          "name": "stdout",
          "text": [
            "Epoch: 32 | Time: 0m 7s\n",
            "\tTrain Loss: 0.900 | Train PPL: 2.460\n",
            "\tValidation Loss: 1.774 | Validation PPL: 5.893\n"
          ]
        },
        {
          "output_type": "stream",
          "name": "stderr",
          "text": [
            "\r 16%|█▋        | 33/200 [04:03<20:13,  7.27s/it]"
          ]
        },
        {
          "output_type": "stream",
          "name": "stdout",
          "text": [
            "Epoch: 33 | Time: 0m 7s\n",
            "\tTrain Loss: 0.869 | Train PPL: 2.385\n",
            "\tValidation Loss: 1.773 | Validation PPL: 5.886\n"
          ]
        },
        {
          "output_type": "stream",
          "name": "stderr",
          "text": [
            "\r 17%|█▋        | 34/200 [04:10<20:04,  7.26s/it]"
          ]
        },
        {
          "output_type": "stream",
          "name": "stdout",
          "text": [
            "Epoch: 34 | Time: 0m 7s\n",
            "\tTrain Loss: 0.842 | Train PPL: 2.320\n",
            "\tValidation Loss: 1.783 | Validation PPL: 5.947\n"
          ]
        },
        {
          "output_type": "stream",
          "name": "stderr",
          "text": [
            "\r 18%|█▊        | 35/200 [04:18<19:58,  7.26s/it]"
          ]
        },
        {
          "output_type": "stream",
          "name": "stdout",
          "text": [
            "Epoch: 35 | Time: 0m 7s\n",
            "\tTrain Loss: 0.813 | Train PPL: 2.255\n",
            "\tValidation Loss: 1.806 | Validation PPL: 6.086\n"
          ]
        },
        {
          "output_type": "stream",
          "name": "stderr",
          "text": [
            "\r 18%|█▊        | 36/200 [04:25<19:54,  7.28s/it]"
          ]
        },
        {
          "output_type": "stream",
          "name": "stdout",
          "text": [
            "Epoch: 36 | Time: 0m 7s\n",
            "\tTrain Loss: 0.786 | Train PPL: 2.194\n",
            "\tValidation Loss: 1.806 | Validation PPL: 6.085\n"
          ]
        },
        {
          "output_type": "stream",
          "name": "stderr",
          "text": [
            "\r 18%|█▊        | 37/200 [04:32<19:46,  7.28s/it]"
          ]
        },
        {
          "output_type": "stream",
          "name": "stdout",
          "text": [
            "Epoch: 37 | Time: 0m 7s\n",
            "\tTrain Loss: 0.761 | Train PPL: 2.141\n",
            "\tValidation Loss: 1.832 | Validation PPL: 6.248\n"
          ]
        },
        {
          "output_type": "stream",
          "name": "stderr",
          "text": [
            "\r 19%|█▉        | 38/200 [04:40<19:39,  7.28s/it]"
          ]
        },
        {
          "output_type": "stream",
          "name": "stdout",
          "text": [
            "Epoch: 38 | Time: 0m 7s\n",
            "\tTrain Loss: 0.737 | Train PPL: 2.090\n",
            "\tValidation Loss: 1.834 | Validation PPL: 6.261\n"
          ]
        },
        {
          "output_type": "stream",
          "name": "stderr",
          "text": [
            "\r 20%|█▉        | 39/200 [04:47<19:32,  7.28s/it]"
          ]
        },
        {
          "output_type": "stream",
          "name": "stdout",
          "text": [
            "Epoch: 39 | Time: 0m 7s\n",
            "\tTrain Loss: 0.713 | Train PPL: 2.040\n",
            "\tValidation Loss: 1.849 | Validation PPL: 6.352\n"
          ]
        },
        {
          "output_type": "stream",
          "name": "stderr",
          "text": [
            "\r 20%|██        | 40/200 [04:54<19:24,  7.28s/it]"
          ]
        },
        {
          "output_type": "stream",
          "name": "stdout",
          "text": [
            "Epoch: 40 | Time: 0m 7s\n",
            "\tTrain Loss: 0.690 | Train PPL: 1.994\n",
            "\tValidation Loss: 1.854 | Validation PPL: 6.388\n"
          ]
        },
        {
          "output_type": "stream",
          "name": "stderr",
          "text": [
            "\r 20%|██        | 41/200 [05:01<19:17,  7.28s/it]"
          ]
        },
        {
          "output_type": "stream",
          "name": "stdout",
          "text": [
            "Epoch: 41 | Time: 0m 7s\n",
            "\tTrain Loss: 0.669 | Train PPL: 1.951\n",
            "\tValidation Loss: 1.866 | Validation PPL: 6.464\n"
          ]
        },
        {
          "output_type": "stream",
          "name": "stderr",
          "text": [
            "\r 21%|██        | 42/200 [05:09<19:10,  7.28s/it]"
          ]
        },
        {
          "output_type": "stream",
          "name": "stdout",
          "text": [
            "Epoch: 42 | Time: 0m 7s\n",
            "\tTrain Loss: 0.648 | Train PPL: 1.911\n",
            "\tValidation Loss: 1.878 | Validation PPL: 6.542\n"
          ]
        },
        {
          "output_type": "stream",
          "name": "stderr",
          "text": [
            "\r 22%|██▏       | 43/200 [05:16<19:02,  7.28s/it]"
          ]
        },
        {
          "output_type": "stream",
          "name": "stdout",
          "text": [
            "Epoch: 43 | Time: 0m 7s\n",
            "\tTrain Loss: 0.627 | Train PPL: 1.871\n",
            "\tValidation Loss: 1.887 | Validation PPL: 6.601\n"
          ]
        },
        {
          "output_type": "stream",
          "name": "stderr",
          "text": [
            "\r 22%|██▏       | 44/200 [05:23<18:53,  7.27s/it]"
          ]
        },
        {
          "output_type": "stream",
          "name": "stdout",
          "text": [
            "Epoch: 44 | Time: 0m 7s\n",
            "\tTrain Loss: 0.606 | Train PPL: 1.834\n",
            "\tValidation Loss: 1.918 | Validation PPL: 6.807\n"
          ]
        },
        {
          "output_type": "stream",
          "name": "stderr",
          "text": [
            "\r 22%|██▎       | 45/200 [05:30<18:48,  7.28s/it]"
          ]
        },
        {
          "output_type": "stream",
          "name": "stdout",
          "text": [
            "Epoch: 45 | Time: 0m 7s\n",
            "\tTrain Loss: 0.586 | Train PPL: 1.797\n",
            "\tValidation Loss: 1.928 | Validation PPL: 6.873\n"
          ]
        },
        {
          "output_type": "stream",
          "name": "stderr",
          "text": [
            "\r 23%|██▎       | 46/200 [05:38<18:46,  7.31s/it]"
          ]
        },
        {
          "output_type": "stream",
          "name": "stdout",
          "text": [
            "Epoch: 46 | Time: 0m 7s\n",
            "\tTrain Loss: 0.568 | Train PPL: 1.765\n",
            "\tValidation Loss: 1.928 | Validation PPL: 6.878\n"
          ]
        },
        {
          "output_type": "stream",
          "name": "stderr",
          "text": [
            "\r 24%|██▎       | 47/200 [05:45<18:41,  7.33s/it]"
          ]
        },
        {
          "output_type": "stream",
          "name": "stdout",
          "text": [
            "Epoch: 47 | Time: 0m 7s\n",
            "\tTrain Loss: 0.551 | Train PPL: 1.735\n",
            "\tValidation Loss: 1.951 | Validation PPL: 7.038\n"
          ]
        },
        {
          "output_type": "stream",
          "name": "stderr",
          "text": [
            "\r 24%|██▍       | 48/200 [05:53<18:34,  7.33s/it]"
          ]
        },
        {
          "output_type": "stream",
          "name": "stdout",
          "text": [
            "Epoch: 48 | Time: 0m 7s\n",
            "\tTrain Loss: 0.535 | Train PPL: 1.707\n",
            "\tValidation Loss: 1.963 | Validation PPL: 7.119\n"
          ]
        },
        {
          "output_type": "stream",
          "name": "stderr",
          "text": [
            "\r 24%|██▍       | 49/200 [06:00<18:23,  7.31s/it]"
          ]
        },
        {
          "output_type": "stream",
          "name": "stdout",
          "text": [
            "Epoch: 49 | Time: 0m 7s\n",
            "\tTrain Loss: 0.518 | Train PPL: 1.678\n",
            "\tValidation Loss: 1.981 | Validation PPL: 7.253\n"
          ]
        },
        {
          "output_type": "stream",
          "name": "stderr",
          "text": [
            "\r 25%|██▌       | 50/200 [06:07<18:15,  7.30s/it]"
          ]
        },
        {
          "output_type": "stream",
          "name": "stdout",
          "text": [
            "Epoch: 50 | Time: 0m 7s\n",
            "\tTrain Loss: 0.502 | Train PPL: 1.651\n",
            "\tValidation Loss: 2.006 | Validation PPL: 7.432\n"
          ]
        },
        {
          "output_type": "stream",
          "name": "stderr",
          "text": [
            "\r 26%|██▌       | 51/200 [06:14<18:08,  7.31s/it]"
          ]
        },
        {
          "output_type": "stream",
          "name": "stdout",
          "text": [
            "Epoch: 51 | Time: 0m 7s\n",
            "\tTrain Loss: 0.488 | Train PPL: 1.628\n",
            "\tValidation Loss: 2.010 | Validation PPL: 7.465\n"
          ]
        },
        {
          "output_type": "stream",
          "name": "stderr",
          "text": [
            "\r 26%|██▌       | 52/200 [06:22<18:00,  7.30s/it]"
          ]
        },
        {
          "output_type": "stream",
          "name": "stdout",
          "text": [
            "Epoch: 52 | Time: 0m 7s\n",
            "\tTrain Loss: 0.470 | Train PPL: 1.600\n",
            "\tValidation Loss: 2.014 | Validation PPL: 7.496\n"
          ]
        },
        {
          "output_type": "stream",
          "name": "stderr",
          "text": [
            "\r 26%|██▋       | 53/200 [06:29<17:50,  7.28s/it]"
          ]
        },
        {
          "output_type": "stream",
          "name": "stdout",
          "text": [
            "Epoch: 53 | Time: 0m 7s\n",
            "\tTrain Loss: 0.459 | Train PPL: 1.582\n",
            "\tValidation Loss: 2.043 | Validation PPL: 7.713\n"
          ]
        },
        {
          "output_type": "stream",
          "name": "stderr",
          "text": [
            "\r 27%|██▋       | 54/200 [06:36<17:40,  7.26s/it]"
          ]
        },
        {
          "output_type": "stream",
          "name": "stdout",
          "text": [
            "Epoch: 54 | Time: 0m 7s\n",
            "\tTrain Loss: 0.444 | Train PPL: 1.560\n",
            "\tValidation Loss: 2.045 | Validation PPL: 7.732\n"
          ]
        },
        {
          "output_type": "stream",
          "name": "stderr",
          "text": [
            "\r 28%|██▊       | 55/200 [06:43<17:31,  7.25s/it]"
          ]
        },
        {
          "output_type": "stream",
          "name": "stdout",
          "text": [
            "Epoch: 55 | Time: 0m 7s\n",
            "\tTrain Loss: 0.432 | Train PPL: 1.540\n",
            "\tValidation Loss: 2.061 | Validation PPL: 7.856\n"
          ]
        },
        {
          "output_type": "stream",
          "name": "stderr",
          "text": [
            "\r 28%|██▊       | 56/200 [06:51<17:24,  7.26s/it]"
          ]
        },
        {
          "output_type": "stream",
          "name": "stdout",
          "text": [
            "Epoch: 56 | Time: 0m 7s\n",
            "\tTrain Loss: 0.420 | Train PPL: 1.522\n",
            "\tValidation Loss: 2.090 | Validation PPL: 8.083\n"
          ]
        },
        {
          "output_type": "stream",
          "name": "stderr",
          "text": [
            "\r 28%|██▊       | 57/200 [06:58<17:17,  7.25s/it]"
          ]
        },
        {
          "output_type": "stream",
          "name": "stdout",
          "text": [
            "Epoch: 57 | Time: 0m 7s\n",
            "\tTrain Loss: 0.407 | Train PPL: 1.503\n",
            "\tValidation Loss: 2.090 | Validation PPL: 8.087\n"
          ]
        },
        {
          "output_type": "stream",
          "name": "stderr",
          "text": [
            "\r 29%|██▉       | 58/200 [07:05<17:08,  7.24s/it]"
          ]
        },
        {
          "output_type": "stream",
          "name": "stdout",
          "text": [
            "Epoch: 58 | Time: 0m 7s\n",
            "\tTrain Loss: 0.397 | Train PPL: 1.488\n",
            "\tValidation Loss: 2.099 | Validation PPL: 8.160\n"
          ]
        },
        {
          "output_type": "stream",
          "name": "stderr",
          "text": [
            "\r 30%|██▉       | 59/200 [07:12<17:03,  7.26s/it]"
          ]
        },
        {
          "output_type": "stream",
          "name": "stdout",
          "text": [
            "Epoch: 59 | Time: 0m 7s\n",
            "\tTrain Loss: 0.384 | Train PPL: 1.469\n",
            "\tValidation Loss: 2.132 | Validation PPL: 8.429\n"
          ]
        },
        {
          "output_type": "stream",
          "name": "stderr",
          "text": [
            "\r 30%|███       | 60/200 [07:20<16:57,  7.26s/it]"
          ]
        },
        {
          "output_type": "stream",
          "name": "stdout",
          "text": [
            "Epoch: 60 | Time: 0m 7s\n",
            "\tTrain Loss: 0.375 | Train PPL: 1.455\n",
            "\tValidation Loss: 2.150 | Validation PPL: 8.582\n"
          ]
        },
        {
          "output_type": "stream",
          "name": "stderr",
          "text": [
            "\r 30%|███       | 61/200 [07:27<16:48,  7.26s/it]"
          ]
        },
        {
          "output_type": "stream",
          "name": "stdout",
          "text": [
            "Epoch: 61 | Time: 0m 7s\n",
            "\tTrain Loss: 0.364 | Train PPL: 1.439\n",
            "\tValidation Loss: 2.152 | Validation PPL: 8.598\n"
          ]
        },
        {
          "output_type": "stream",
          "name": "stderr",
          "text": [
            "\r 31%|███       | 62/200 [07:34<16:41,  7.26s/it]"
          ]
        },
        {
          "output_type": "stream",
          "name": "stdout",
          "text": [
            "Epoch: 62 | Time: 0m 7s\n",
            "\tTrain Loss: 0.352 | Train PPL: 1.422\n",
            "\tValidation Loss: 2.177 | Validation PPL: 8.819\n"
          ]
        },
        {
          "output_type": "stream",
          "name": "stderr",
          "text": [
            "\r 32%|███▏      | 63/200 [07:41<16:34,  7.26s/it]"
          ]
        },
        {
          "output_type": "stream",
          "name": "stdout",
          "text": [
            "Epoch: 63 | Time: 0m 7s\n",
            "\tTrain Loss: 0.345 | Train PPL: 1.411\n",
            "\tValidation Loss: 2.189 | Validation PPL: 8.930\n"
          ]
        },
        {
          "output_type": "stream",
          "name": "stderr",
          "text": [
            "\r 32%|███▏      | 64/200 [07:49<16:27,  7.26s/it]"
          ]
        },
        {
          "output_type": "stream",
          "name": "stdout",
          "text": [
            "Epoch: 64 | Time: 0m 7s\n",
            "\tTrain Loss: 0.337 | Train PPL: 1.400\n",
            "\tValidation Loss: 2.211 | Validation PPL: 9.121\n"
          ]
        },
        {
          "output_type": "stream",
          "name": "stderr",
          "text": [
            "\r 32%|███▎      | 65/200 [07:56<16:21,  7.27s/it]"
          ]
        },
        {
          "output_type": "stream",
          "name": "stdout",
          "text": [
            "Epoch: 65 | Time: 0m 7s\n",
            "\tTrain Loss: 0.326 | Train PPL: 1.385\n",
            "\tValidation Loss: 2.217 | Validation PPL: 9.175\n"
          ]
        },
        {
          "output_type": "stream",
          "name": "stderr",
          "text": [
            "\r 33%|███▎      | 66/200 [08:03<16:15,  7.28s/it]"
          ]
        },
        {
          "output_type": "stream",
          "name": "stdout",
          "text": [
            "Epoch: 66 | Time: 0m 7s\n",
            "\tTrain Loss: 0.317 | Train PPL: 1.373\n",
            "\tValidation Loss: 2.237 | Validation PPL: 9.369\n"
          ]
        },
        {
          "output_type": "stream",
          "name": "stderr",
          "text": [
            "\r 34%|███▎      | 67/200 [08:11<16:07,  7.27s/it]"
          ]
        },
        {
          "output_type": "stream",
          "name": "stdout",
          "text": [
            "Epoch: 67 | Time: 0m 7s\n",
            "\tTrain Loss: 0.309 | Train PPL: 1.362\n",
            "\tValidation Loss: 2.251 | Validation PPL: 9.496\n"
          ]
        },
        {
          "output_type": "stream",
          "name": "stderr",
          "text": [
            "\r 34%|███▍      | 68/200 [08:18<16:00,  7.28s/it]"
          ]
        },
        {
          "output_type": "stream",
          "name": "stdout",
          "text": [
            "Epoch: 68 | Time: 0m 7s\n",
            "\tTrain Loss: 0.303 | Train PPL: 1.353\n",
            "\tValidation Loss: 2.275 | Validation PPL: 9.727\n"
          ]
        },
        {
          "output_type": "stream",
          "name": "stderr",
          "text": [
            "\r 34%|███▍      | 69/200 [08:25<15:52,  7.27s/it]"
          ]
        },
        {
          "output_type": "stream",
          "name": "stdout",
          "text": [
            "Epoch: 69 | Time: 0m 7s\n",
            "\tTrain Loss: 0.294 | Train PPL: 1.342\n",
            "\tValidation Loss: 2.276 | Validation PPL: 9.735\n"
          ]
        },
        {
          "output_type": "stream",
          "name": "stderr",
          "text": [
            "\r 35%|███▌      | 70/200 [08:32<15:45,  7.28s/it]"
          ]
        },
        {
          "output_type": "stream",
          "name": "stdout",
          "text": [
            "Epoch: 70 | Time: 0m 7s\n",
            "\tTrain Loss: 0.287 | Train PPL: 1.333\n",
            "\tValidation Loss: 2.278 | Validation PPL: 9.755\n"
          ]
        },
        {
          "output_type": "stream",
          "name": "stderr",
          "text": [
            "\r 36%|███▌      | 71/200 [08:40<15:39,  7.29s/it]"
          ]
        },
        {
          "output_type": "stream",
          "name": "stdout",
          "text": [
            "Epoch: 71 | Time: 0m 7s\n",
            "\tTrain Loss: 0.282 | Train PPL: 1.326\n",
            "\tValidation Loss: 2.293 | Validation PPL: 9.909\n"
          ]
        },
        {
          "output_type": "stream",
          "name": "stderr",
          "text": [
            "\r 36%|███▌      | 72/200 [08:47<15:34,  7.30s/it]"
          ]
        },
        {
          "output_type": "stream",
          "name": "stdout",
          "text": [
            "Epoch: 72 | Time: 0m 7s\n",
            "\tTrain Loss: 0.274 | Train PPL: 1.315\n",
            "\tValidation Loss: 2.311 | Validation PPL: 10.081\n"
          ]
        },
        {
          "output_type": "stream",
          "name": "stderr",
          "text": [
            "\r 36%|███▋      | 73/200 [08:54<15:25,  7.29s/it]"
          ]
        },
        {
          "output_type": "stream",
          "name": "stdout",
          "text": [
            "Epoch: 73 | Time: 0m 7s\n",
            "\tTrain Loss: 0.267 | Train PPL: 1.306\n",
            "\tValidation Loss: 2.336 | Validation PPL: 10.341\n"
          ]
        },
        {
          "output_type": "stream",
          "name": "stderr",
          "text": [
            "\r 37%|███▋      | 74/200 [09:02<15:18,  7.29s/it]"
          ]
        },
        {
          "output_type": "stream",
          "name": "stdout",
          "text": [
            "Epoch: 74 | Time: 0m 7s\n",
            "\tTrain Loss: 0.261 | Train PPL: 1.298\n",
            "\tValidation Loss: 2.349 | Validation PPL: 10.478\n"
          ]
        },
        {
          "output_type": "stream",
          "name": "stderr",
          "text": [
            "\r 38%|███▊      | 75/200 [09:09<15:14,  7.32s/it]"
          ]
        },
        {
          "output_type": "stream",
          "name": "stdout",
          "text": [
            "Epoch: 75 | Time: 0m 7s\n",
            "\tTrain Loss: 0.254 | Train PPL: 1.289\n",
            "\tValidation Loss: 2.348 | Validation PPL: 10.464\n"
          ]
        },
        {
          "output_type": "stream",
          "name": "stderr",
          "text": [
            "\r 38%|███▊      | 76/200 [09:16<15:10,  7.35s/it]"
          ]
        },
        {
          "output_type": "stream",
          "name": "stdout",
          "text": [
            "Epoch: 76 | Time: 0m 7s\n",
            "\tTrain Loss: 0.250 | Train PPL: 1.284\n",
            "\tValidation Loss: 2.364 | Validation PPL: 10.635\n"
          ]
        },
        {
          "output_type": "stream",
          "name": "stderr",
          "text": [
            "\r 38%|███▊      | 77/200 [09:24<15:02,  7.34s/it]"
          ]
        },
        {
          "output_type": "stream",
          "name": "stdout",
          "text": [
            "Epoch: 77 | Time: 0m 7s\n",
            "\tTrain Loss: 0.243 | Train PPL: 1.275\n",
            "\tValidation Loss: 2.384 | Validation PPL: 10.854\n"
          ]
        },
        {
          "output_type": "stream",
          "name": "stderr",
          "text": [
            "\r 39%|███▉      | 78/200 [09:31<14:53,  7.33s/it]"
          ]
        },
        {
          "output_type": "stream",
          "name": "stdout",
          "text": [
            "Epoch: 78 | Time: 0m 7s\n",
            "\tTrain Loss: 0.237 | Train PPL: 1.268\n",
            "\tValidation Loss: 2.383 | Validation PPL: 10.839\n"
          ]
        },
        {
          "output_type": "stream",
          "name": "stderr",
          "text": [
            "\r 40%|███▉      | 79/200 [09:38<14:44,  7.31s/it]"
          ]
        },
        {
          "output_type": "stream",
          "name": "stdout",
          "text": [
            "Epoch: 79 | Time: 0m 7s\n",
            "\tTrain Loss: 0.233 | Train PPL: 1.262\n",
            "\tValidation Loss: 2.403 | Validation PPL: 11.052\n"
          ]
        },
        {
          "output_type": "stream",
          "name": "stderr",
          "text": [
            "\r 40%|████      | 80/200 [09:46<14:36,  7.30s/it]"
          ]
        },
        {
          "output_type": "stream",
          "name": "stdout",
          "text": [
            "Epoch: 80 | Time: 0m 7s\n",
            "\tTrain Loss: 0.228 | Train PPL: 1.256\n",
            "\tValidation Loss: 2.427 | Validation PPL: 11.325\n"
          ]
        },
        {
          "output_type": "stream",
          "name": "stderr",
          "text": [
            "\r 40%|████      | 81/200 [09:53<14:27,  7.29s/it]"
          ]
        },
        {
          "output_type": "stream",
          "name": "stdout",
          "text": [
            "Epoch: 81 | Time: 0m 7s\n",
            "\tTrain Loss: 0.222 | Train PPL: 1.249\n",
            "\tValidation Loss: 2.424 | Validation PPL: 11.291\n"
          ]
        },
        {
          "output_type": "stream",
          "name": "stderr",
          "text": [
            "\r 41%|████      | 82/200 [10:00<14:19,  7.28s/it]"
          ]
        },
        {
          "output_type": "stream",
          "name": "stdout",
          "text": [
            "Epoch: 82 | Time: 0m 7s\n",
            "\tTrain Loss: 0.218 | Train PPL: 1.244\n",
            "\tValidation Loss: 2.439 | Validation PPL: 11.458\n"
          ]
        },
        {
          "output_type": "stream",
          "name": "stderr",
          "text": [
            "\r 42%|████▏     | 83/200 [10:07<14:10,  7.27s/it]"
          ]
        },
        {
          "output_type": "stream",
          "name": "stdout",
          "text": [
            "Epoch: 83 | Time: 0m 7s\n",
            "\tTrain Loss: 0.214 | Train PPL: 1.238\n",
            "\tValidation Loss: 2.446 | Validation PPL: 11.539\n"
          ]
        },
        {
          "output_type": "stream",
          "name": "stderr",
          "text": [
            "\r 42%|████▏     | 84/200 [10:15<14:03,  7.28s/it]"
          ]
        },
        {
          "output_type": "stream",
          "name": "stdout",
          "text": [
            "Epoch: 84 | Time: 0m 7s\n",
            "\tTrain Loss: 0.210 | Train PPL: 1.234\n",
            "\tValidation Loss: 2.456 | Validation PPL: 11.661\n"
          ]
        },
        {
          "output_type": "stream",
          "name": "stderr",
          "text": [
            "\r 42%|████▎     | 85/200 [10:22<13:56,  7.28s/it]"
          ]
        },
        {
          "output_type": "stream",
          "name": "stdout",
          "text": [
            "Epoch: 85 | Time: 0m 7s\n",
            "\tTrain Loss: 0.204 | Train PPL: 1.226\n",
            "\tValidation Loss: 2.477 | Validation PPL: 11.908\n"
          ]
        },
        {
          "output_type": "stream",
          "name": "stderr",
          "text": [
            "\r 43%|████▎     | 86/200 [10:29<13:48,  7.27s/it]"
          ]
        },
        {
          "output_type": "stream",
          "name": "stdout",
          "text": [
            "Epoch: 86 | Time: 0m 7s\n",
            "\tTrain Loss: 0.200 | Train PPL: 1.221\n",
            "\tValidation Loss: 2.487 | Validation PPL: 12.020\n"
          ]
        },
        {
          "output_type": "stream",
          "name": "stderr",
          "text": [
            "\r 44%|████▎     | 87/200 [10:36<13:41,  7.27s/it]"
          ]
        },
        {
          "output_type": "stream",
          "name": "stdout",
          "text": [
            "Epoch: 87 | Time: 0m 7s\n",
            "\tTrain Loss: 0.198 | Train PPL: 1.218\n",
            "\tValidation Loss: 2.511 | Validation PPL: 12.320\n"
          ]
        },
        {
          "output_type": "stream",
          "name": "stderr",
          "text": [
            "\r 44%|████▍     | 88/200 [10:44<13:34,  7.27s/it]"
          ]
        },
        {
          "output_type": "stream",
          "name": "stdout",
          "text": [
            "Epoch: 88 | Time: 0m 7s\n",
            "\tTrain Loss: 0.194 | Train PPL: 1.214\n",
            "\tValidation Loss: 2.510 | Validation PPL: 12.303\n"
          ]
        },
        {
          "output_type": "stream",
          "name": "stderr",
          "text": [
            "\r 44%|████▍     | 89/200 [10:51<13:27,  7.27s/it]"
          ]
        },
        {
          "output_type": "stream",
          "name": "stdout",
          "text": [
            "Epoch: 89 | Time: 0m 7s\n",
            "\tTrain Loss: 0.190 | Train PPL: 1.209\n",
            "\tValidation Loss: 2.547 | Validation PPL: 12.766\n"
          ]
        },
        {
          "output_type": "stream",
          "name": "stderr",
          "text": [
            "\r 45%|████▌     | 90/200 [10:58<13:19,  7.27s/it]"
          ]
        },
        {
          "output_type": "stream",
          "name": "stdout",
          "text": [
            "Epoch: 90 | Time: 0m 7s\n",
            "\tTrain Loss: 0.185 | Train PPL: 1.204\n",
            "\tValidation Loss: 2.558 | Validation PPL: 12.913\n"
          ]
        },
        {
          "output_type": "stream",
          "name": "stderr",
          "text": [
            "\r 46%|████▌     | 91/200 [11:05<13:10,  7.26s/it]"
          ]
        },
        {
          "output_type": "stream",
          "name": "stdout",
          "text": [
            "Epoch: 91 | Time: 0m 7s\n",
            "\tTrain Loss: 0.182 | Train PPL: 1.199\n",
            "\tValidation Loss: 2.558 | Validation PPL: 12.915\n"
          ]
        },
        {
          "output_type": "stream",
          "name": "stderr",
          "text": [
            "\r 46%|████▌     | 92/200 [11:13<13:03,  7.26s/it]"
          ]
        },
        {
          "output_type": "stream",
          "name": "stdout",
          "text": [
            "Epoch: 92 | Time: 0m 7s\n",
            "\tTrain Loss: 0.179 | Train PPL: 1.196\n",
            "\tValidation Loss: 2.577 | Validation PPL: 13.160\n"
          ]
        },
        {
          "output_type": "stream",
          "name": "stderr",
          "text": [
            "\r 46%|████▋     | 93/200 [11:20<12:57,  7.27s/it]"
          ]
        },
        {
          "output_type": "stream",
          "name": "stdout",
          "text": [
            "Epoch: 93 | Time: 0m 7s\n",
            "\tTrain Loss: 0.175 | Train PPL: 1.191\n",
            "\tValidation Loss: 2.590 | Validation PPL: 13.332\n"
          ]
        },
        {
          "output_type": "stream",
          "name": "stderr",
          "text": [
            "\r 47%|████▋     | 94/200 [11:27<12:50,  7.26s/it]"
          ]
        },
        {
          "output_type": "stream",
          "name": "stdout",
          "text": [
            "Epoch: 94 | Time: 0m 7s\n",
            "\tTrain Loss: 0.173 | Train PPL: 1.189\n",
            "\tValidation Loss: 2.580 | Validation PPL: 13.198\n"
          ]
        },
        {
          "output_type": "stream",
          "name": "stderr",
          "text": [
            "\r 48%|████▊     | 95/200 [11:35<12:42,  7.26s/it]"
          ]
        },
        {
          "output_type": "stream",
          "name": "stdout",
          "text": [
            "Epoch: 95 | Time: 0m 7s\n",
            "\tTrain Loss: 0.168 | Train PPL: 1.183\n",
            "\tValidation Loss: 2.600 | Validation PPL: 13.468\n"
          ]
        },
        {
          "output_type": "stream",
          "name": "stderr",
          "text": [
            "\r 48%|████▊     | 96/200 [11:42<12:34,  7.25s/it]"
          ]
        },
        {
          "output_type": "stream",
          "name": "stdout",
          "text": [
            "Epoch: 96 | Time: 0m 7s\n",
            "\tTrain Loss: 0.165 | Train PPL: 1.180\n",
            "\tValidation Loss: 2.609 | Validation PPL: 13.586\n"
          ]
        },
        {
          "output_type": "stream",
          "name": "stderr",
          "text": [
            "\r 48%|████▊     | 97/200 [11:49<12:29,  7.28s/it]"
          ]
        },
        {
          "output_type": "stream",
          "name": "stdout",
          "text": [
            "Epoch: 97 | Time: 0m 7s\n",
            "\tTrain Loss: 0.162 | Train PPL: 1.176\n",
            "\tValidation Loss: 2.617 | Validation PPL: 13.700\n"
          ]
        },
        {
          "output_type": "stream",
          "name": "stderr",
          "text": [
            "\r 49%|████▉     | 98/200 [11:56<12:22,  7.28s/it]"
          ]
        },
        {
          "output_type": "stream",
          "name": "stdout",
          "text": [
            "Epoch: 98 | Time: 0m 7s\n",
            "\tTrain Loss: 0.161 | Train PPL: 1.174\n",
            "\tValidation Loss: 2.622 | Validation PPL: 13.766\n"
          ]
        },
        {
          "output_type": "stream",
          "name": "stderr",
          "text": [
            "\r 50%|████▉     | 99/200 [12:04<12:17,  7.30s/it]"
          ]
        },
        {
          "output_type": "stream",
          "name": "stdout",
          "text": [
            "Epoch: 99 | Time: 0m 7s\n",
            "\tTrain Loss: 0.159 | Train PPL: 1.173\n",
            "\tValidation Loss: 2.615 | Validation PPL: 13.665\n"
          ]
        },
        {
          "output_type": "stream",
          "name": "stderr",
          "text": [
            "\r 50%|█████     | 100/200 [12:11<12:08,  7.28s/it]"
          ]
        },
        {
          "output_type": "stream",
          "name": "stdout",
          "text": [
            "Epoch: 100 | Time: 0m 7s\n",
            "\tTrain Loss: 0.156 | Train PPL: 1.168\n",
            "\tValidation Loss: 2.636 | Validation PPL: 13.957\n"
          ]
        },
        {
          "output_type": "stream",
          "name": "stderr",
          "text": [
            "\r 50%|█████     | 101/200 [12:18<12:01,  7.28s/it]"
          ]
        },
        {
          "output_type": "stream",
          "name": "stdout",
          "text": [
            "Epoch: 101 | Time: 0m 7s\n",
            "\tTrain Loss: 0.151 | Train PPL: 1.163\n",
            "\tValidation Loss: 2.642 | Validation PPL: 14.046\n"
          ]
        },
        {
          "output_type": "stream",
          "name": "stderr",
          "text": [
            "\r 51%|█████     | 102/200 [12:26<11:53,  7.28s/it]"
          ]
        },
        {
          "output_type": "stream",
          "name": "stdout",
          "text": [
            "Epoch: 102 | Time: 0m 7s\n",
            "\tTrain Loss: 0.149 | Train PPL: 1.161\n",
            "\tValidation Loss: 2.644 | Validation PPL: 14.066\n"
          ]
        },
        {
          "output_type": "stream",
          "name": "stderr",
          "text": [
            "\r 52%|█████▏    | 103/200 [12:33<11:45,  7.27s/it]"
          ]
        },
        {
          "output_type": "stream",
          "name": "stdout",
          "text": [
            "Epoch: 103 | Time: 0m 7s\n",
            "\tTrain Loss: 0.147 | Train PPL: 1.159\n",
            "\tValidation Loss: 2.662 | Validation PPL: 14.330\n"
          ]
        },
        {
          "output_type": "stream",
          "name": "stderr",
          "text": [
            "\r 52%|█████▏    | 104/200 [12:40<11:37,  7.27s/it]"
          ]
        },
        {
          "output_type": "stream",
          "name": "stdout",
          "text": [
            "Epoch: 104 | Time: 0m 7s\n",
            "\tTrain Loss: 0.143 | Train PPL: 1.154\n",
            "\tValidation Loss: 2.674 | Validation PPL: 14.496\n"
          ]
        },
        {
          "output_type": "stream",
          "name": "stderr",
          "text": [
            "\r 52%|█████▎    | 105/200 [12:47<11:30,  7.26s/it]"
          ]
        },
        {
          "output_type": "stream",
          "name": "stdout",
          "text": [
            "Epoch: 105 | Time: 0m 7s\n",
            "\tTrain Loss: 0.141 | Train PPL: 1.152\n",
            "\tValidation Loss: 2.676 | Validation PPL: 14.531\n"
          ]
        },
        {
          "output_type": "stream",
          "name": "stderr",
          "text": [
            "\r 53%|█████▎    | 106/200 [12:55<11:21,  7.25s/it]"
          ]
        },
        {
          "output_type": "stream",
          "name": "stdout",
          "text": [
            "Epoch: 106 | Time: 0m 7s\n",
            "\tTrain Loss: 0.140 | Train PPL: 1.151\n",
            "\tValidation Loss: 2.697 | Validation PPL: 14.832\n"
          ]
        },
        {
          "output_type": "stream",
          "name": "stderr",
          "text": [
            "\r 54%|█████▎    | 107/200 [13:02<11:13,  7.25s/it]"
          ]
        },
        {
          "output_type": "stream",
          "name": "stdout",
          "text": [
            "Epoch: 107 | Time: 0m 7s\n",
            "\tTrain Loss: 0.137 | Train PPL: 1.147\n",
            "\tValidation Loss: 2.692 | Validation PPL: 14.768\n"
          ]
        },
        {
          "output_type": "stream",
          "name": "stderr",
          "text": [
            "\r 54%|█████▍    | 108/200 [13:09<11:05,  7.24s/it]"
          ]
        },
        {
          "output_type": "stream",
          "name": "stdout",
          "text": [
            "Epoch: 108 | Time: 0m 7s\n",
            "\tTrain Loss: 0.135 | Train PPL: 1.144\n",
            "\tValidation Loss: 2.719 | Validation PPL: 15.172\n"
          ]
        },
        {
          "output_type": "stream",
          "name": "stderr",
          "text": [
            "\r 55%|█████▍    | 109/200 [13:16<10:58,  7.24s/it]"
          ]
        },
        {
          "output_type": "stream",
          "name": "stdout",
          "text": [
            "Epoch: 109 | Time: 0m 7s\n",
            "\tTrain Loss: 0.133 | Train PPL: 1.142\n",
            "\tValidation Loss: 2.726 | Validation PPL: 15.268\n"
          ]
        },
        {
          "output_type": "stream",
          "name": "stderr",
          "text": [
            "\r 55%|█████▌    | 110/200 [13:23<10:51,  7.24s/it]"
          ]
        },
        {
          "output_type": "stream",
          "name": "stdout",
          "text": [
            "Epoch: 110 | Time: 0m 7s\n",
            "\tTrain Loss: 0.131 | Train PPL: 1.140\n",
            "\tValidation Loss: 2.752 | Validation PPL: 15.678\n"
          ]
        },
        {
          "output_type": "stream",
          "name": "stderr",
          "text": [
            "\r 56%|█████▌    | 111/200 [13:31<10:44,  7.25s/it]"
          ]
        },
        {
          "output_type": "stream",
          "name": "stdout",
          "text": [
            "Epoch: 111 | Time: 0m 7s\n",
            "\tTrain Loss: 0.129 | Train PPL: 1.138\n",
            "\tValidation Loss: 2.736 | Validation PPL: 15.420\n"
          ]
        },
        {
          "output_type": "stream",
          "name": "stderr",
          "text": [
            "\r 56%|█████▌    | 112/200 [13:38<10:38,  7.25s/it]"
          ]
        },
        {
          "output_type": "stream",
          "name": "stdout",
          "text": [
            "Epoch: 112 | Time: 0m 7s\n",
            "\tTrain Loss: 0.127 | Train PPL: 1.135\n",
            "\tValidation Loss: 2.740 | Validation PPL: 15.485\n"
          ]
        },
        {
          "output_type": "stream",
          "name": "stderr",
          "text": [
            "\r 56%|█████▋    | 113/200 [13:45<10:31,  7.26s/it]"
          ]
        },
        {
          "output_type": "stream",
          "name": "stdout",
          "text": [
            "Epoch: 113 | Time: 0m 7s\n",
            "\tTrain Loss: 0.125 | Train PPL: 1.134\n",
            "\tValidation Loss: 2.771 | Validation PPL: 15.977\n"
          ]
        },
        {
          "output_type": "stream",
          "name": "stderr",
          "text": [
            "\r 57%|█████▋    | 114/200 [13:52<10:23,  7.25s/it]"
          ]
        },
        {
          "output_type": "stream",
          "name": "stdout",
          "text": [
            "Epoch: 114 | Time: 0m 7s\n",
            "\tTrain Loss: 0.123 | Train PPL: 1.131\n",
            "\tValidation Loss: 2.770 | Validation PPL: 15.965\n"
          ]
        },
        {
          "output_type": "stream",
          "name": "stderr",
          "text": [
            "\r 57%|█████▊    | 115/200 [14:00<10:16,  7.25s/it]"
          ]
        },
        {
          "output_type": "stream",
          "name": "stdout",
          "text": [
            "Epoch: 115 | Time: 0m 7s\n",
            "\tTrain Loss: 0.122 | Train PPL: 1.130\n",
            "\tValidation Loss: 2.768 | Validation PPL: 15.929\n"
          ]
        },
        {
          "output_type": "stream",
          "name": "stderr",
          "text": [
            "\r 58%|█████▊    | 116/200 [14:07<10:09,  7.25s/it]"
          ]
        },
        {
          "output_type": "stream",
          "name": "stdout",
          "text": [
            "Epoch: 116 | Time: 0m 7s\n",
            "\tTrain Loss: 0.120 | Train PPL: 1.127\n",
            "\tValidation Loss: 2.790 | Validation PPL: 16.279\n"
          ]
        },
        {
          "output_type": "stream",
          "name": "stderr",
          "text": [
            "\r 58%|█████▊    | 117/200 [14:14<10:02,  7.26s/it]"
          ]
        },
        {
          "output_type": "stream",
          "name": "stdout",
          "text": [
            "Epoch: 117 | Time: 0m 7s\n",
            "\tTrain Loss: 0.118 | Train PPL: 1.125\n",
            "\tValidation Loss: 2.807 | Validation PPL: 16.557\n"
          ]
        },
        {
          "output_type": "stream",
          "name": "stderr",
          "text": [
            "\r 59%|█████▉    | 118/200 [14:22<09:55,  7.27s/it]"
          ]
        },
        {
          "output_type": "stream",
          "name": "stdout",
          "text": [
            "Epoch: 118 | Time: 0m 7s\n",
            "\tTrain Loss: 0.116 | Train PPL: 1.124\n",
            "\tValidation Loss: 2.821 | Validation PPL: 16.800\n"
          ]
        },
        {
          "output_type": "stream",
          "name": "stderr",
          "text": [
            "\r 60%|█████▉    | 119/200 [14:29<09:48,  7.26s/it]"
          ]
        },
        {
          "output_type": "stream",
          "name": "stdout",
          "text": [
            "Epoch: 119 | Time: 0m 7s\n",
            "\tTrain Loss: 0.115 | Train PPL: 1.122\n",
            "\tValidation Loss: 2.801 | Validation PPL: 16.460\n"
          ]
        },
        {
          "output_type": "stream",
          "name": "stderr",
          "text": [
            "\r 60%|██████    | 120/200 [14:36<09:40,  7.25s/it]"
          ]
        },
        {
          "output_type": "stream",
          "name": "stdout",
          "text": [
            "Epoch: 120 | Time: 0m 7s\n",
            "\tTrain Loss: 0.112 | Train PPL: 1.119\n",
            "\tValidation Loss: 2.819 | Validation PPL: 16.759\n"
          ]
        },
        {
          "output_type": "stream",
          "name": "stderr",
          "text": [
            "\r 60%|██████    | 121/200 [14:43<09:34,  7.27s/it]"
          ]
        },
        {
          "output_type": "stream",
          "name": "stdout",
          "text": [
            "Epoch: 121 | Time: 0m 7s\n",
            "\tTrain Loss: 0.112 | Train PPL: 1.118\n",
            "\tValidation Loss: 2.830 | Validation PPL: 16.947\n"
          ]
        },
        {
          "output_type": "stream",
          "name": "stderr",
          "text": [
            "\r 61%|██████    | 122/200 [14:51<09:28,  7.28s/it]"
          ]
        },
        {
          "output_type": "stream",
          "name": "stdout",
          "text": [
            "Epoch: 122 | Time: 0m 7s\n",
            "\tTrain Loss: 0.111 | Train PPL: 1.117\n",
            "\tValidation Loss: 2.843 | Validation PPL: 17.162\n"
          ]
        },
        {
          "output_type": "stream",
          "name": "stderr",
          "text": [
            "\r 62%|██████▏   | 123/200 [14:58<09:19,  7.27s/it]"
          ]
        },
        {
          "output_type": "stream",
          "name": "stdout",
          "text": [
            "Epoch: 123 | Time: 0m 7s\n",
            "\tTrain Loss: 0.109 | Train PPL: 1.115\n",
            "\tValidation Loss: 2.858 | Validation PPL: 17.429\n"
          ]
        },
        {
          "output_type": "stream",
          "name": "stderr",
          "text": [
            "\r 62%|██████▏   | 124/200 [15:05<09:16,  7.33s/it]"
          ]
        },
        {
          "output_type": "stream",
          "name": "stdout",
          "text": [
            "Epoch: 124 | Time: 0m 7s\n",
            "\tTrain Loss: 0.107 | Train PPL: 1.112\n",
            "\tValidation Loss: 2.860 | Validation PPL: 17.465\n"
          ]
        },
        {
          "output_type": "stream",
          "name": "stderr",
          "text": [
            "\r 62%|██████▎   | 125/200 [15:13<09:11,  7.36s/it]"
          ]
        },
        {
          "output_type": "stream",
          "name": "stdout",
          "text": [
            "Epoch: 125 | Time: 0m 7s\n",
            "\tTrain Loss: 0.106 | Train PPL: 1.112\n",
            "\tValidation Loss: 2.876 | Validation PPL: 17.746\n"
          ]
        },
        {
          "output_type": "stream",
          "name": "stderr",
          "text": [
            "\r 63%|██████▎   | 126/200 [15:20<09:03,  7.34s/it]"
          ]
        },
        {
          "output_type": "stream",
          "name": "stdout",
          "text": [
            "Epoch: 126 | Time: 0m 7s\n",
            "\tTrain Loss: 0.104 | Train PPL: 1.109\n",
            "\tValidation Loss: 2.900 | Validation PPL: 18.181\n"
          ]
        },
        {
          "output_type": "stream",
          "name": "stderr",
          "text": [
            "\r 64%|██████▎   | 127/200 [15:27<08:53,  7.31s/it]"
          ]
        },
        {
          "output_type": "stream",
          "name": "stdout",
          "text": [
            "Epoch: 127 | Time: 0m 7s\n",
            "\tTrain Loss: 0.103 | Train PPL: 1.109\n",
            "\tValidation Loss: 2.890 | Validation PPL: 17.996\n"
          ]
        },
        {
          "output_type": "stream",
          "name": "stderr",
          "text": [
            "\r 64%|██████▍   | 128/200 [15:35<08:44,  7.29s/it]"
          ]
        },
        {
          "output_type": "stream",
          "name": "stdout",
          "text": [
            "Epoch: 128 | Time: 0m 7s\n",
            "\tTrain Loss: 0.103 | Train PPL: 1.108\n",
            "\tValidation Loss: 2.908 | Validation PPL: 18.314\n"
          ]
        },
        {
          "output_type": "stream",
          "name": "stderr",
          "text": [
            "\r 64%|██████▍   | 129/200 [15:42<08:36,  7.28s/it]"
          ]
        },
        {
          "output_type": "stream",
          "name": "stdout",
          "text": [
            "Epoch: 129 | Time: 0m 7s\n",
            "\tTrain Loss: 0.101 | Train PPL: 1.106\n",
            "\tValidation Loss: 2.919 | Validation PPL: 18.526\n"
          ]
        },
        {
          "output_type": "stream",
          "name": "stderr",
          "text": [
            "\r 65%|██████▌   | 130/200 [15:49<08:28,  7.27s/it]"
          ]
        },
        {
          "output_type": "stream",
          "name": "stdout",
          "text": [
            "Epoch: 130 | Time: 0m 7s\n",
            "\tTrain Loss: 0.099 | Train PPL: 1.104\n",
            "\tValidation Loss: 2.914 | Validation PPL: 18.429\n"
          ]
        },
        {
          "output_type": "stream",
          "name": "stderr",
          "text": [
            "\r 66%|██████▌   | 131/200 [15:56<08:20,  7.26s/it]"
          ]
        },
        {
          "output_type": "stream",
          "name": "stdout",
          "text": [
            "Epoch: 131 | Time: 0m 7s\n",
            "\tTrain Loss: 0.097 | Train PPL: 1.102\n",
            "\tValidation Loss: 2.928 | Validation PPL: 18.692\n"
          ]
        },
        {
          "output_type": "stream",
          "name": "stderr",
          "text": [
            "\r 66%|██████▌   | 132/200 [16:04<08:13,  7.26s/it]"
          ]
        },
        {
          "output_type": "stream",
          "name": "stdout",
          "text": [
            "Epoch: 132 | Time: 0m 7s\n",
            "\tTrain Loss: 0.096 | Train PPL: 1.101\n",
            "\tValidation Loss: 2.920 | Validation PPL: 18.535\n"
          ]
        },
        {
          "output_type": "stream",
          "name": "stderr",
          "text": [
            "\r 66%|██████▋   | 133/200 [16:11<08:06,  7.25s/it]"
          ]
        },
        {
          "output_type": "stream",
          "name": "stdout",
          "text": [
            "Epoch: 133 | Time: 0m 7s\n",
            "\tTrain Loss: 0.096 | Train PPL: 1.101\n",
            "\tValidation Loss: 2.935 | Validation PPL: 18.821\n"
          ]
        },
        {
          "output_type": "stream",
          "name": "stderr",
          "text": [
            "\r 67%|██████▋   | 134/200 [16:18<08:00,  7.28s/it]"
          ]
        },
        {
          "output_type": "stream",
          "name": "stdout",
          "text": [
            "Epoch: 134 | Time: 0m 7s\n",
            "\tTrain Loss: 0.095 | Train PPL: 1.100\n",
            "\tValidation Loss: 2.932 | Validation PPL: 18.759\n"
          ]
        },
        {
          "output_type": "stream",
          "name": "stderr",
          "text": [
            "\r 68%|██████▊   | 135/200 [16:25<07:52,  7.27s/it]"
          ]
        },
        {
          "output_type": "stream",
          "name": "stdout",
          "text": [
            "Epoch: 135 | Time: 0m 7s\n",
            "\tTrain Loss: 0.094 | Train PPL: 1.099\n",
            "\tValidation Loss: 2.941 | Validation PPL: 18.932\n"
          ]
        },
        {
          "output_type": "stream",
          "name": "stderr",
          "text": [
            "\r 68%|██████▊   | 136/200 [16:33<07:44,  7.26s/it]"
          ]
        },
        {
          "output_type": "stream",
          "name": "stdout",
          "text": [
            "Epoch: 136 | Time: 0m 7s\n",
            "\tTrain Loss: 0.092 | Train PPL: 1.096\n",
            "\tValidation Loss: 2.936 | Validation PPL: 18.839\n"
          ]
        },
        {
          "output_type": "stream",
          "name": "stderr",
          "text": [
            "\r 68%|██████▊   | 137/200 [16:40<07:36,  7.25s/it]"
          ]
        },
        {
          "output_type": "stream",
          "name": "stdout",
          "text": [
            "Epoch: 137 | Time: 0m 7s\n",
            "\tTrain Loss: 0.091 | Train PPL: 1.095\n",
            "\tValidation Loss: 2.944 | Validation PPL: 18.986\n"
          ]
        },
        {
          "output_type": "stream",
          "name": "stderr",
          "text": [
            "\r 69%|██████▉   | 138/200 [16:47<07:28,  7.24s/it]"
          ]
        },
        {
          "output_type": "stream",
          "name": "stdout",
          "text": [
            "Epoch: 138 | Time: 0m 7s\n",
            "\tTrain Loss: 0.090 | Train PPL: 1.094\n",
            "\tValidation Loss: 2.949 | Validation PPL: 19.090\n"
          ]
        },
        {
          "output_type": "stream",
          "name": "stderr",
          "text": [
            "\r 70%|██████▉   | 139/200 [16:54<07:21,  7.23s/it]"
          ]
        },
        {
          "output_type": "stream",
          "name": "stdout",
          "text": [
            "Epoch: 139 | Time: 0m 7s\n",
            "\tTrain Loss: 0.089 | Train PPL: 1.093\n",
            "\tValidation Loss: 2.970 | Validation PPL: 19.490\n"
          ]
        },
        {
          "output_type": "stream",
          "name": "stderr",
          "text": [
            "\r 70%|███████   | 140/200 [17:01<07:14,  7.24s/it]"
          ]
        },
        {
          "output_type": "stream",
          "name": "stdout",
          "text": [
            "Epoch: 140 | Time: 0m 7s\n",
            "\tTrain Loss: 0.088 | Train PPL: 1.092\n",
            "\tValidation Loss: 2.955 | Validation PPL: 19.208\n"
          ]
        },
        {
          "output_type": "stream",
          "name": "stderr",
          "text": [
            "\r 70%|███████   | 141/200 [17:09<07:06,  7.23s/it]"
          ]
        },
        {
          "output_type": "stream",
          "name": "stdout",
          "text": [
            "Epoch: 141 | Time: 0m 7s\n",
            "\tTrain Loss: 0.087 | Train PPL: 1.091\n",
            "\tValidation Loss: 2.981 | Validation PPL: 19.716\n"
          ]
        },
        {
          "output_type": "stream",
          "name": "stderr",
          "text": [
            "\r 71%|███████   | 142/200 [17:16<06:59,  7.23s/it]"
          ]
        },
        {
          "output_type": "stream",
          "name": "stdout",
          "text": [
            "Epoch: 142 | Time: 0m 7s\n",
            "\tTrain Loss: 0.087 | Train PPL: 1.090\n",
            "\tValidation Loss: 3.001 | Validation PPL: 20.110\n"
          ]
        },
        {
          "output_type": "stream",
          "name": "stderr",
          "text": [
            "\r 72%|███████▏  | 143/200 [17:23<06:52,  7.24s/it]"
          ]
        },
        {
          "output_type": "stream",
          "name": "stdout",
          "text": [
            "Epoch: 143 | Time: 0m 7s\n",
            "\tTrain Loss: 0.085 | Train PPL: 1.089\n",
            "\tValidation Loss: 2.972 | Validation PPL: 19.531\n"
          ]
        },
        {
          "output_type": "stream",
          "name": "stderr",
          "text": [
            "\r 72%|███████▏  | 144/200 [17:30<06:45,  7.25s/it]"
          ]
        },
        {
          "output_type": "stream",
          "name": "stdout",
          "text": [
            "Epoch: 144 | Time: 0m 7s\n",
            "\tTrain Loss: 0.084 | Train PPL: 1.088\n",
            "\tValidation Loss: 2.999 | Validation PPL: 20.064\n"
          ]
        },
        {
          "output_type": "stream",
          "name": "stderr",
          "text": [
            "\r 72%|███████▎  | 145/200 [17:38<06:38,  7.24s/it]"
          ]
        },
        {
          "output_type": "stream",
          "name": "stdout",
          "text": [
            "Epoch: 145 | Time: 0m 7s\n",
            "\tTrain Loss: 0.084 | Train PPL: 1.088\n",
            "\tValidation Loss: 3.009 | Validation PPL: 20.263\n"
          ]
        },
        {
          "output_type": "stream",
          "name": "stderr",
          "text": [
            "\r 73%|███████▎  | 146/200 [17:45<06:31,  7.25s/it]"
          ]
        },
        {
          "output_type": "stream",
          "name": "stdout",
          "text": [
            "Epoch: 146 | Time: 0m 7s\n",
            "\tTrain Loss: 0.083 | Train PPL: 1.087\n",
            "\tValidation Loss: 3.013 | Validation PPL: 20.357\n"
          ]
        },
        {
          "output_type": "stream",
          "name": "stderr",
          "text": [
            "\r 74%|███████▎  | 147/200 [17:52<06:24,  7.26s/it]"
          ]
        },
        {
          "output_type": "stream",
          "name": "stdout",
          "text": [
            "Epoch: 147 | Time: 0m 7s\n",
            "\tTrain Loss: 0.082 | Train PPL: 1.086\n",
            "\tValidation Loss: 3.009 | Validation PPL: 20.273\n"
          ]
        },
        {
          "output_type": "stream",
          "name": "stderr",
          "text": [
            "\r 74%|███████▍  | 148/200 [18:00<06:18,  7.27s/it]"
          ]
        },
        {
          "output_type": "stream",
          "name": "stdout",
          "text": [
            "Epoch: 148 | Time: 0m 7s\n",
            "\tTrain Loss: 0.081 | Train PPL: 1.085\n",
            "\tValidation Loss: 3.040 | Validation PPL: 20.902\n"
          ]
        },
        {
          "output_type": "stream",
          "name": "stderr",
          "text": [
            "\r 74%|███████▍  | 149/200 [18:07<06:11,  7.28s/it]"
          ]
        },
        {
          "output_type": "stream",
          "name": "stdout",
          "text": [
            "Epoch: 149 | Time: 0m 7s\n",
            "\tTrain Loss: 0.080 | Train PPL: 1.083\n",
            "\tValidation Loss: 3.042 | Validation PPL: 20.938\n"
          ]
        },
        {
          "output_type": "stream",
          "name": "stderr",
          "text": [
            "\r 75%|███████▌  | 150/200 [18:14<06:03,  7.28s/it]"
          ]
        },
        {
          "output_type": "stream",
          "name": "stdout",
          "text": [
            "Epoch: 150 | Time: 0m 7s\n",
            "\tTrain Loss: 0.079 | Train PPL: 1.082\n",
            "\tValidation Loss: 3.064 | Validation PPL: 21.411\n"
          ]
        },
        {
          "output_type": "stream",
          "name": "stderr",
          "text": [
            "\r 76%|███████▌  | 151/200 [18:21<05:57,  7.29s/it]"
          ]
        },
        {
          "output_type": "stream",
          "name": "stdout",
          "text": [
            "Epoch: 151 | Time: 0m 7s\n",
            "\tTrain Loss: 0.078 | Train PPL: 1.081\n",
            "\tValidation Loss: 3.033 | Validation PPL: 20.756\n"
          ]
        },
        {
          "output_type": "stream",
          "name": "stderr",
          "text": [
            "\r 76%|███████▌  | 152/200 [18:29<05:50,  7.29s/it]"
          ]
        },
        {
          "output_type": "stream",
          "name": "stdout",
          "text": [
            "Epoch: 152 | Time: 0m 7s\n",
            "\tTrain Loss: 0.078 | Train PPL: 1.081\n",
            "\tValidation Loss: 3.026 | Validation PPL: 20.615\n"
          ]
        },
        {
          "output_type": "stream",
          "name": "stderr",
          "text": [
            "\r 76%|███████▋  | 153/200 [18:36<05:42,  7.29s/it]"
          ]
        },
        {
          "output_type": "stream",
          "name": "stdout",
          "text": [
            "Epoch: 153 | Time: 0m 7s\n",
            "\tTrain Loss: 0.076 | Train PPL: 1.079\n",
            "\tValidation Loss: 3.060 | Validation PPL: 21.320\n"
          ]
        },
        {
          "output_type": "stream",
          "name": "stderr",
          "text": [
            "\r 77%|███████▋  | 154/200 [18:43<05:35,  7.29s/it]"
          ]
        },
        {
          "output_type": "stream",
          "name": "stdout",
          "text": [
            "Epoch: 154 | Time: 0m 7s\n",
            "\tTrain Loss: 0.076 | Train PPL: 1.079\n",
            "\tValidation Loss: 3.070 | Validation PPL: 21.550\n"
          ]
        },
        {
          "output_type": "stream",
          "name": "stderr",
          "text": [
            "\r 78%|███████▊  | 155/200 [18:51<05:27,  7.28s/it]"
          ]
        },
        {
          "output_type": "stream",
          "name": "stdout",
          "text": [
            "Epoch: 155 | Time: 0m 7s\n",
            "\tTrain Loss: 0.076 | Train PPL: 1.079\n",
            "\tValidation Loss: 3.079 | Validation PPL: 21.740\n"
          ]
        },
        {
          "output_type": "stream",
          "name": "stderr",
          "text": [
            "\r 78%|███████▊  | 156/200 [18:58<05:20,  7.29s/it]"
          ]
        },
        {
          "output_type": "stream",
          "name": "stdout",
          "text": [
            "Epoch: 156 | Time: 0m 7s\n",
            "\tTrain Loss: 0.074 | Train PPL: 1.077\n",
            "\tValidation Loss: 3.073 | Validation PPL: 21.604\n"
          ]
        },
        {
          "output_type": "stream",
          "name": "stderr",
          "text": [
            "\r 78%|███████▊  | 157/200 [19:05<05:13,  7.28s/it]"
          ]
        },
        {
          "output_type": "stream",
          "name": "stdout",
          "text": [
            "Epoch: 157 | Time: 0m 7s\n",
            "\tTrain Loss: 0.075 | Train PPL: 1.078\n",
            "\tValidation Loss: 3.066 | Validation PPL: 21.462\n"
          ]
        },
        {
          "output_type": "stream",
          "name": "stderr",
          "text": [
            "\r 79%|███████▉  | 158/200 [19:12<05:05,  7.27s/it]"
          ]
        },
        {
          "output_type": "stream",
          "name": "stdout",
          "text": [
            "Epoch: 158 | Time: 0m 7s\n",
            "\tTrain Loss: 0.073 | Train PPL: 1.076\n",
            "\tValidation Loss: 3.066 | Validation PPL: 21.456\n"
          ]
        },
        {
          "output_type": "stream",
          "name": "stderr",
          "text": [
            "\r 80%|███████▉  | 159/200 [19:20<04:58,  7.28s/it]"
          ]
        },
        {
          "output_type": "stream",
          "name": "stdout",
          "text": [
            "Epoch: 159 | Time: 0m 7s\n",
            "\tTrain Loss: 0.073 | Train PPL: 1.076\n",
            "\tValidation Loss: 3.091 | Validation PPL: 21.996\n"
          ]
        },
        {
          "output_type": "stream",
          "name": "stderr",
          "text": [
            "\r 80%|████████  | 160/200 [19:27<04:51,  7.28s/it]"
          ]
        },
        {
          "output_type": "stream",
          "name": "stdout",
          "text": [
            "Epoch: 160 | Time: 0m 7s\n",
            "\tTrain Loss: 0.071 | Train PPL: 1.074\n",
            "\tValidation Loss: 3.074 | Validation PPL: 21.619\n"
          ]
        },
        {
          "output_type": "stream",
          "name": "stderr",
          "text": [
            "\r 80%|████████  | 161/200 [19:34<04:44,  7.29s/it]"
          ]
        },
        {
          "output_type": "stream",
          "name": "stdout",
          "text": [
            "Epoch: 161 | Time: 0m 7s\n",
            "\tTrain Loss: 0.072 | Train PPL: 1.074\n",
            "\tValidation Loss: 3.093 | Validation PPL: 22.041\n"
          ]
        },
        {
          "output_type": "stream",
          "name": "stderr",
          "text": [
            "\r 81%|████████  | 162/200 [19:42<04:37,  7.30s/it]"
          ]
        },
        {
          "output_type": "stream",
          "name": "stdout",
          "text": [
            "Epoch: 162 | Time: 0m 7s\n",
            "\tTrain Loss: 0.070 | Train PPL: 1.073\n",
            "\tValidation Loss: 3.103 | Validation PPL: 22.266\n"
          ]
        },
        {
          "output_type": "stream",
          "name": "stderr",
          "text": [
            "\r 82%|████████▏ | 163/200 [19:49<04:29,  7.29s/it]"
          ]
        },
        {
          "output_type": "stream",
          "name": "stdout",
          "text": [
            "Epoch: 163 | Time: 0m 7s\n",
            "\tTrain Loss: 0.070 | Train PPL: 1.072\n",
            "\tValidation Loss: 3.099 | Validation PPL: 22.180\n"
          ]
        },
        {
          "output_type": "stream",
          "name": "stderr",
          "text": [
            "\r 82%|████████▏ | 164/200 [19:56<04:22,  7.28s/it]"
          ]
        },
        {
          "output_type": "stream",
          "name": "stdout",
          "text": [
            "Epoch: 164 | Time: 0m 7s\n",
            "\tTrain Loss: 0.069 | Train PPL: 1.072\n",
            "\tValidation Loss: 3.133 | Validation PPL: 22.944\n"
          ]
        },
        {
          "output_type": "stream",
          "name": "stderr",
          "text": [
            "\r 82%|████████▎ | 165/200 [20:03<04:14,  7.27s/it]"
          ]
        },
        {
          "output_type": "stream",
          "name": "stdout",
          "text": [
            "Epoch: 165 | Time: 0m 7s\n",
            "\tTrain Loss: 0.068 | Train PPL: 1.071\n",
            "\tValidation Loss: 3.131 | Validation PPL: 22.888\n"
          ]
        },
        {
          "output_type": "stream",
          "name": "stderr",
          "text": [
            "\r 83%|████████▎ | 166/200 [20:11<04:07,  7.27s/it]"
          ]
        },
        {
          "output_type": "stream",
          "name": "stdout",
          "text": [
            "Epoch: 166 | Time: 0m 7s\n",
            "\tTrain Loss: 0.067 | Train PPL: 1.070\n",
            "\tValidation Loss: 3.129 | Validation PPL: 22.857\n"
          ]
        },
        {
          "output_type": "stream",
          "name": "stderr",
          "text": [
            "\r 84%|████████▎ | 167/200 [20:18<03:59,  7.27s/it]"
          ]
        },
        {
          "output_type": "stream",
          "name": "stdout",
          "text": [
            "Epoch: 167 | Time: 0m 7s\n",
            "\tTrain Loss: 0.068 | Train PPL: 1.070\n",
            "\tValidation Loss: 3.147 | Validation PPL: 23.257\n"
          ]
        },
        {
          "output_type": "stream",
          "name": "stderr",
          "text": [
            "\r 84%|████████▍ | 168/200 [20:25<03:52,  7.27s/it]"
          ]
        },
        {
          "output_type": "stream",
          "name": "stdout",
          "text": [
            "Epoch: 168 | Time: 0m 7s\n",
            "\tTrain Loss: 0.067 | Train PPL: 1.069\n",
            "\tValidation Loss: 3.146 | Validation PPL: 23.243\n"
          ]
        },
        {
          "output_type": "stream",
          "name": "stderr",
          "text": [
            "\r 84%|████████▍ | 169/200 [20:33<03:46,  7.30s/it]"
          ]
        },
        {
          "output_type": "stream",
          "name": "stdout",
          "text": [
            "Epoch: 169 | Time: 0m 7s\n",
            "\tTrain Loss: 0.067 | Train PPL: 1.069\n",
            "\tValidation Loss: 3.141 | Validation PPL: 23.134\n"
          ]
        },
        {
          "output_type": "stream",
          "name": "stderr",
          "text": [
            "\r 85%|████████▌ | 170/200 [20:40<03:38,  7.29s/it]"
          ]
        },
        {
          "output_type": "stream",
          "name": "stdout",
          "text": [
            "Epoch: 170 | Time: 0m 7s\n",
            "\tTrain Loss: 0.065 | Train PPL: 1.067\n",
            "\tValidation Loss: 3.154 | Validation PPL: 23.426\n"
          ]
        },
        {
          "output_type": "stream",
          "name": "stderr",
          "text": [
            "\r 86%|████████▌ | 171/200 [20:47<03:31,  7.28s/it]"
          ]
        },
        {
          "output_type": "stream",
          "name": "stdout",
          "text": [
            "Epoch: 171 | Time: 0m 7s\n",
            "\tTrain Loss: 0.065 | Train PPL: 1.067\n",
            "\tValidation Loss: 3.165 | Validation PPL: 23.699\n"
          ]
        },
        {
          "output_type": "stream",
          "name": "stderr",
          "text": [
            "\r 86%|████████▌ | 172/200 [20:54<03:23,  7.27s/it]"
          ]
        },
        {
          "output_type": "stream",
          "name": "stdout",
          "text": [
            "Epoch: 172 | Time: 0m 7s\n",
            "\tTrain Loss: 0.064 | Train PPL: 1.067\n",
            "\tValidation Loss: 3.162 | Validation PPL: 23.619\n"
          ]
        },
        {
          "output_type": "stream",
          "name": "stderr",
          "text": [
            "\r 86%|████████▋ | 173/200 [21:02<03:16,  7.29s/it]"
          ]
        },
        {
          "output_type": "stream",
          "name": "stdout",
          "text": [
            "Epoch: 173 | Time: 0m 7s\n",
            "\tTrain Loss: 0.064 | Train PPL: 1.066\n",
            "\tValidation Loss: 3.165 | Validation PPL: 23.679\n"
          ]
        },
        {
          "output_type": "stream",
          "name": "stderr",
          "text": [
            "\r 87%|████████▋ | 174/200 [21:09<03:08,  7.27s/it]"
          ]
        },
        {
          "output_type": "stream",
          "name": "stdout",
          "text": [
            "Epoch: 174 | Time: 0m 7s\n",
            "\tTrain Loss: 0.064 | Train PPL: 1.066\n",
            "\tValidation Loss: 3.162 | Validation PPL: 23.629\n"
          ]
        },
        {
          "output_type": "stream",
          "name": "stderr",
          "text": [
            "\r 88%|████████▊ | 175/200 [21:16<03:01,  7.27s/it]"
          ]
        },
        {
          "output_type": "stream",
          "name": "stdout",
          "text": [
            "Epoch: 175 | Time: 0m 7s\n",
            "\tTrain Loss: 0.063 | Train PPL: 1.065\n",
            "\tValidation Loss: 3.153 | Validation PPL: 23.398\n"
          ]
        },
        {
          "output_type": "stream",
          "name": "stderr",
          "text": [
            "\r 88%|████████▊ | 176/200 [21:23<02:54,  7.26s/it]"
          ]
        },
        {
          "output_type": "stream",
          "name": "stdout",
          "text": [
            "Epoch: 176 | Time: 0m 7s\n",
            "\tTrain Loss: 0.062 | Train PPL: 1.064\n",
            "\tValidation Loss: 3.174 | Validation PPL: 23.914\n"
          ]
        },
        {
          "output_type": "stream",
          "name": "stderr",
          "text": [
            "\r 88%|████████▊ | 177/200 [21:31<02:46,  7.25s/it]"
          ]
        },
        {
          "output_type": "stream",
          "name": "stdout",
          "text": [
            "Epoch: 177 | Time: 0m 7s\n",
            "\tTrain Loss: 0.062 | Train PPL: 1.064\n",
            "\tValidation Loss: 3.187 | Validation PPL: 24.226\n"
          ]
        },
        {
          "output_type": "stream",
          "name": "stderr",
          "text": [
            "\r 89%|████████▉ | 178/200 [21:38<02:39,  7.26s/it]"
          ]
        },
        {
          "output_type": "stream",
          "name": "stdout",
          "text": [
            "Epoch: 178 | Time: 0m 7s\n",
            "\tTrain Loss: 0.061 | Train PPL: 1.063\n",
            "\tValidation Loss: 3.179 | Validation PPL: 24.016\n"
          ]
        },
        {
          "output_type": "stream",
          "name": "stderr",
          "text": [
            "\r 90%|████████▉ | 179/200 [21:45<02:32,  7.27s/it]"
          ]
        },
        {
          "output_type": "stream",
          "name": "stdout",
          "text": [
            "Epoch: 179 | Time: 0m 7s\n",
            "\tTrain Loss: 0.061 | Train PPL: 1.063\n",
            "\tValidation Loss: 3.190 | Validation PPL: 24.294\n"
          ]
        },
        {
          "output_type": "stream",
          "name": "stderr",
          "text": [
            "\r 90%|█████████ | 180/200 [21:52<02:25,  7.26s/it]"
          ]
        },
        {
          "output_type": "stream",
          "name": "stdout",
          "text": [
            "Epoch: 180 | Time: 0m 7s\n",
            "\tTrain Loss: 0.060 | Train PPL: 1.062\n",
            "\tValidation Loss: 3.179 | Validation PPL: 24.025\n"
          ]
        },
        {
          "output_type": "stream",
          "name": "stderr",
          "text": [
            "\r 90%|█████████ | 181/200 [22:00<02:18,  7.27s/it]"
          ]
        },
        {
          "output_type": "stream",
          "name": "stdout",
          "text": [
            "Epoch: 181 | Time: 0m 7s\n",
            "\tTrain Loss: 0.059 | Train PPL: 1.061\n",
            "\tValidation Loss: 3.198 | Validation PPL: 24.473\n"
          ]
        },
        {
          "output_type": "stream",
          "name": "stderr",
          "text": [
            "\r 91%|█████████ | 182/200 [22:07<02:10,  7.26s/it]"
          ]
        },
        {
          "output_type": "stream",
          "name": "stdout",
          "text": [
            "Epoch: 182 | Time: 0m 7s\n",
            "\tTrain Loss: 0.059 | Train PPL: 1.061\n",
            "\tValidation Loss: 3.203 | Validation PPL: 24.595\n"
          ]
        },
        {
          "output_type": "stream",
          "name": "stderr",
          "text": [
            "\r 92%|█████████▏| 183/200 [22:14<02:03,  7.27s/it]"
          ]
        },
        {
          "output_type": "stream",
          "name": "stdout",
          "text": [
            "Epoch: 183 | Time: 0m 7s\n",
            "\tTrain Loss: 0.059 | Train PPL: 1.061\n",
            "\tValidation Loss: 3.220 | Validation PPL: 25.024\n"
          ]
        },
        {
          "output_type": "stream",
          "name": "stderr",
          "text": [
            "\r 92%|█████████▏| 184/200 [22:22<01:56,  7.27s/it]"
          ]
        },
        {
          "output_type": "stream",
          "name": "stdout",
          "text": [
            "Epoch: 184 | Time: 0m 7s\n",
            "\tTrain Loss: 0.058 | Train PPL: 1.060\n",
            "\tValidation Loss: 3.238 | Validation PPL: 25.488\n"
          ]
        },
        {
          "output_type": "stream",
          "name": "stderr",
          "text": [
            "\r 92%|█████████▎| 185/200 [22:29<01:49,  7.28s/it]"
          ]
        },
        {
          "output_type": "stream",
          "name": "stdout",
          "text": [
            "Epoch: 185 | Time: 0m 7s\n",
            "\tTrain Loss: 0.058 | Train PPL: 1.060\n",
            "\tValidation Loss: 3.229 | Validation PPL: 25.243\n"
          ]
        },
        {
          "output_type": "stream",
          "name": "stderr",
          "text": [
            "\r 93%|█████████▎| 186/200 [22:36<01:41,  7.28s/it]"
          ]
        },
        {
          "output_type": "stream",
          "name": "stdout",
          "text": [
            "Epoch: 186 | Time: 0m 7s\n",
            "\tTrain Loss: 0.058 | Train PPL: 1.060\n",
            "\tValidation Loss: 3.234 | Validation PPL: 25.370\n"
          ]
        },
        {
          "output_type": "stream",
          "name": "stderr",
          "text": [
            "\r 94%|█████████▎| 187/200 [22:43<01:34,  7.26s/it]"
          ]
        },
        {
          "output_type": "stream",
          "name": "stdout",
          "text": [
            "Epoch: 187 | Time: 0m 7s\n",
            "\tTrain Loss: 0.057 | Train PPL: 1.059\n",
            "\tValidation Loss: 3.236 | Validation PPL: 25.441\n"
          ]
        },
        {
          "output_type": "stream",
          "name": "stderr",
          "text": [
            "\r 94%|█████████▍| 188/200 [22:51<01:26,  7.25s/it]"
          ]
        },
        {
          "output_type": "stream",
          "name": "stdout",
          "text": [
            "Epoch: 188 | Time: 0m 7s\n",
            "\tTrain Loss: 0.057 | Train PPL: 1.058\n",
            "\tValidation Loss: 3.252 | Validation PPL: 25.851\n"
          ]
        },
        {
          "output_type": "stream",
          "name": "stderr",
          "text": [
            "\r 94%|█████████▍| 189/200 [22:58<01:19,  7.27s/it]"
          ]
        },
        {
          "output_type": "stream",
          "name": "stdout",
          "text": [
            "Epoch: 189 | Time: 0m 7s\n",
            "\tTrain Loss: 0.056 | Train PPL: 1.058\n",
            "\tValidation Loss: 3.262 | Validation PPL: 26.104\n"
          ]
        },
        {
          "output_type": "stream",
          "name": "stderr",
          "text": [
            "\r 95%|█████████▌| 190/200 [23:05<01:12,  7.27s/it]"
          ]
        },
        {
          "output_type": "stream",
          "name": "stdout",
          "text": [
            "Epoch: 190 | Time: 0m 7s\n",
            "\tTrain Loss: 0.056 | Train PPL: 1.058\n",
            "\tValidation Loss: 3.245 | Validation PPL: 25.655\n"
          ]
        },
        {
          "output_type": "stream",
          "name": "stderr",
          "text": [
            "\r 96%|█████████▌| 191/200 [23:12<01:05,  7.29s/it]"
          ]
        },
        {
          "output_type": "stream",
          "name": "stdout",
          "text": [
            "Epoch: 191 | Time: 0m 7s\n",
            "\tTrain Loss: 0.055 | Train PPL: 1.057\n",
            "\tValidation Loss: 3.248 | Validation PPL: 25.740\n"
          ]
        },
        {
          "output_type": "stream",
          "name": "stderr",
          "text": [
            "\r 96%|█████████▌| 192/200 [23:20<00:58,  7.30s/it]"
          ]
        },
        {
          "output_type": "stream",
          "name": "stdout",
          "text": [
            "Epoch: 192 | Time: 0m 7s\n",
            "\tTrain Loss: 0.055 | Train PPL: 1.057\n",
            "\tValidation Loss: 3.257 | Validation PPL: 25.982\n"
          ]
        },
        {
          "output_type": "stream",
          "name": "stderr",
          "text": [
            "\r 96%|█████████▋| 193/200 [23:27<00:51,  7.29s/it]"
          ]
        },
        {
          "output_type": "stream",
          "name": "stdout",
          "text": [
            "Epoch: 193 | Time: 0m 7s\n",
            "\tTrain Loss: 0.055 | Train PPL: 1.056\n",
            "\tValidation Loss: 3.272 | Validation PPL: 26.367\n"
          ]
        },
        {
          "output_type": "stream",
          "name": "stderr",
          "text": [
            "\r 97%|█████████▋| 194/200 [23:34<00:43,  7.28s/it]"
          ]
        },
        {
          "output_type": "stream",
          "name": "stdout",
          "text": [
            "Epoch: 194 | Time: 0m 7s\n",
            "\tTrain Loss: 0.055 | Train PPL: 1.056\n",
            "\tValidation Loss: 3.280 | Validation PPL: 26.571\n"
          ]
        },
        {
          "output_type": "stream",
          "name": "stderr",
          "text": [
            "\r 98%|█████████▊| 195/200 [23:42<00:36,  7.26s/it]"
          ]
        },
        {
          "output_type": "stream",
          "name": "stdout",
          "text": [
            "Epoch: 195 | Time: 0m 7s\n",
            "\tTrain Loss: 0.054 | Train PPL: 1.056\n",
            "\tValidation Loss: 3.275 | Validation PPL: 26.440\n"
          ]
        },
        {
          "output_type": "stream",
          "name": "stderr",
          "text": [
            "\r 98%|█████████▊| 196/200 [23:49<00:29,  7.27s/it]"
          ]
        },
        {
          "output_type": "stream",
          "name": "stdout",
          "text": [
            "Epoch: 196 | Time: 0m 7s\n",
            "\tTrain Loss: 0.053 | Train PPL: 1.054\n",
            "\tValidation Loss: 3.273 | Validation PPL: 26.390\n"
          ]
        },
        {
          "output_type": "stream",
          "name": "stderr",
          "text": [
            "\r 98%|█████████▊| 197/200 [23:56<00:21,  7.26s/it]"
          ]
        },
        {
          "output_type": "stream",
          "name": "stdout",
          "text": [
            "Epoch: 197 | Time: 0m 7s\n",
            "\tTrain Loss: 0.053 | Train PPL: 1.055\n",
            "\tValidation Loss: 3.271 | Validation PPL: 26.349\n"
          ]
        },
        {
          "output_type": "stream",
          "name": "stderr",
          "text": [
            "\r 99%|█████████▉| 198/200 [24:03<00:14,  7.26s/it]"
          ]
        },
        {
          "output_type": "stream",
          "name": "stdout",
          "text": [
            "Epoch: 198 | Time: 0m 7s\n",
            "\tTrain Loss: 0.053 | Train PPL: 1.054\n",
            "\tValidation Loss: 3.279 | Validation PPL: 26.551\n"
          ]
        },
        {
          "output_type": "stream",
          "name": "stderr",
          "text": [
            "\r100%|█████████▉| 199/200 [24:11<00:07,  7.25s/it]"
          ]
        },
        {
          "output_type": "stream",
          "name": "stdout",
          "text": [
            "Epoch: 199 | Time: 0m 7s\n",
            "\tTrain Loss: 0.052 | Train PPL: 1.053\n",
            "\tValidation Loss: 3.285 | Validation PPL: 26.716\n"
          ]
        },
        {
          "output_type": "stream",
          "name": "stderr",
          "text": [
            "100%|██████████| 200/200 [24:18<00:00,  7.29s/it]"
          ]
        },
        {
          "output_type": "stream",
          "name": "stdout",
          "text": [
            "Epoch: 200 | Time: 0m 7s\n",
            "\tTrain Loss: 0.052 | Train PPL: 1.053\n",
            "\tValidation Loss: 3.305 | Validation PPL: 27.253\n"
          ]
        },
        {
          "output_type": "stream",
          "name": "stderr",
          "text": [
            "\n"
          ]
        }
      ]
    },
    {
      "cell_type": "code",
      "metadata": {
        "id": "W1oT2_2yYCBM",
        "colab": {
          "base_uri": "https://localhost:8080/",
          "height": 17
        },
        "outputId": "1b7c7e89-1264-400a-eac2-76843db1e610"
      },
      "source": [
        "# Save trained Model\n",
        "from google.colab import files\n",
        "files.download('/transformer_german_to_english.pt')"
      ],
      "execution_count": 34,
      "outputs": [
        {
          "output_type": "display_data",
          "data": {
            "text/plain": [
              "<IPython.core.display.Javascript object>"
            ],
            "application/javascript": [
              "\n",
              "    async function download(id, filename, size) {\n",
              "      if (!google.colab.kernel.accessAllowed) {\n",
              "        return;\n",
              "      }\n",
              "      const div = document.createElement('div');\n",
              "      const label = document.createElement('label');\n",
              "      label.textContent = `Downloading \"${filename}\": `;\n",
              "      div.appendChild(label);\n",
              "      const progress = document.createElement('progress');\n",
              "      progress.max = size;\n",
              "      div.appendChild(progress);\n",
              "      document.body.appendChild(div);\n",
              "\n",
              "      const buffers = [];\n",
              "      let downloaded = 0;\n",
              "\n",
              "      const channel = await google.colab.kernel.comms.open(id);\n",
              "      // Send a message to notify the kernel that we're ready.\n",
              "      channel.send({})\n",
              "\n",
              "      for await (const message of channel.messages) {\n",
              "        // Send a message to notify the kernel that we're ready.\n",
              "        channel.send({})\n",
              "        if (message.buffers) {\n",
              "          for (const buffer of message.buffers) {\n",
              "            buffers.push(buffer);\n",
              "            downloaded += buffer.byteLength;\n",
              "            progress.value = downloaded;\n",
              "          }\n",
              "        }\n",
              "      }\n",
              "      const blob = new Blob(buffers, {type: 'application/binary'});\n",
              "      const a = document.createElement('a');\n",
              "      a.href = window.URL.createObjectURL(blob);\n",
              "      a.download = filename;\n",
              "      div.appendChild(a);\n",
              "      a.click();\n",
              "      div.remove();\n",
              "    }\n",
              "  "
            ]
          },
          "metadata": {}
        },
        {
          "output_type": "display_data",
          "data": {
            "text/plain": [
              "<IPython.core.display.Javascript object>"
            ],
            "application/javascript": [
              "download(\"download_88bc5649-c9e0-4dd3-96a1-4cae2364d255\", \"transformer_german_to_english.pt\", 36206909)"
            ]
          },
          "metadata": {}
        }
      ]
    },
    {
      "cell_type": "markdown",
      "metadata": {
        "id": "KvW5ZDUwwJaI"
      },
      "source": [
        "#### **Chekc the result**"
      ]
    },
    {
      "cell_type": "code",
      "metadata": {
        "id": "YlO_lLD3wJx0",
        "colab": {
          "base_uri": "https://localhost:8080/"
        },
        "outputId": "12cf9adc-0dd3-44f9-905b-a294a73c4eeb"
      },
      "source": [
        "!wget https://postechackr-my.sharepoint.com/:u:/g/personal/dongbinna_postech_ac_kr/EbWFiKBmscFBrbzCQxRyqwsBwcXgdKdimkdsBl2dE9VYaQ?download=1 -O transformer_german_to_english.pt"
      ],
      "execution_count": 35,
      "outputs": [
        {
          "output_type": "stream",
          "name": "stdout",
          "text": [
            "--2023-06-01 08:16:34--  https://postechackr-my.sharepoint.com/:u:/g/personal/dongbinna_postech_ac_kr/EbWFiKBmscFBrbzCQxRyqwsBwcXgdKdimkdsBl2dE9VYaQ?download=1\n",
            "Resolving postechackr-my.sharepoint.com (postechackr-my.sharepoint.com)... 52.105.209.27, 2a01:111:f402:f0d1::27\n",
            "Connecting to postechackr-my.sharepoint.com (postechackr-my.sharepoint.com)|52.105.209.27|:443... connected.\n",
            "HTTP request sent, awaiting response... 302 Found\n",
            "Location: /personal/dongbinna_postech_ac_kr/Documents/Research/models/transformer_german_to_english.pt?ga=1 [following]\n",
            "--2023-06-01 08:16:35--  https://postechackr-my.sharepoint.com/personal/dongbinna_postech_ac_kr/Documents/Research/models/transformer_german_to_english.pt?ga=1\n",
            "Reusing existing connection to postechackr-my.sharepoint.com:443.\n",
            "HTTP request sent, awaiting response... 200 OK\n",
            "Length: 36208001 (35M) [application/octet-stream]\n",
            "Saving to: ‘transformer_german_to_english.pt’\n",
            "\n",
            "transformer_german_ 100%[===================>]  34.53M  13.6MB/s    in 2.5s    \n",
            "\n",
            "2023-06-01 08:16:37 (13.6 MB/s) - ‘transformer_german_to_english.pt’ saved [36208001/36208001]\n",
            "\n"
          ]
        }
      ]
    },
    {
      "cell_type": "markdown",
      "source": [
        " - Load trained model then test the score"
      ],
      "metadata": {
        "id": "gSYx88kzhMu3"
      }
    },
    {
      "cell_type": "code",
      "metadata": {
        "id": "sScSSNYbwKPR",
        "colab": {
          "base_uri": "https://localhost:8080/"
        },
        "outputId": "599fd556-0042-4b85-fb0d-2b493347dd61"
      },
      "source": [
        "state_dict = torch.load('/transformer_german_to_english.pt')\n",
        "\n",
        "model.load_state_dict(state_dict, strict=False)\n",
        "\n",
        "test_loss = evaluate(model, test_iterator, criterion)\n",
        "\n",
        "print(f'Test Loss: {test_loss:.3f} | Test PPL: {math.exp(test_loss):.3f}')"
      ],
      "execution_count": 36,
      "outputs": [
        {
          "output_type": "stream",
          "name": "stdout",
          "text": [
            "Test Loss: 1.779 | Test PPL: 5.924\n"
          ]
        }
      ]
    },
    {
      "cell_type": "markdown",
      "metadata": {
        "id": "lIE5KXd5wVUf"
      },
      "source": [
        "#### **Model test**\n",
        "- test and evaluate model with test dataset \n",
        "- define translation function\n"
      ]
    },
    {
      "cell_type": "code",
      "metadata": {
        "id": "plUPXH4UYKEU"
      },
      "source": [
        "# Translation fuction\n",
        "def translate_sentence(sentence, src_field, trg_field, model, device, max_len=50, logging=True):\n",
        "    model.eval() # set evaluation mode\n",
        "\n",
        "    if isinstance(sentence, str):\n",
        "        nlp = spacy.load('de')\n",
        "        tokens = [token.text.lower() for token in nlp(sentence)]\n",
        "    else:\n",
        "        tokens = [token.lower() for token in sentence]\n",
        "\n",
        "    # start with <sos> token, end with <eos> \n",
        "    tokens = [src_field.init_token] + tokens + [src_field.eos_token]\n",
        "    if logging:\n",
        "        print(f\"Total soruce token: {tokens}\")\n",
        "\n",
        "    src_indexes = [src_field.vocab.stoi[token] for token in tokens]\n",
        "    if logging:\n",
        "        print(f\"Source sentence index: {src_indexes}\")\n",
        "\n",
        "    src_tensor = torch.LongTensor(src_indexes).unsqueeze(0).to(device)\n",
        "\n",
        "    # create mask for source sentence \n",
        "    src_mask = model.make_src_mask(src_tensor)\n",
        "\n",
        "    # ge output by adding source sentence in endocer\n",
        "    with torch.no_grad():\n",
        "        enc_src = model.encoder(src_tensor, src_mask)\n",
        "\n",
        "    # first time start with single <sos> token \n",
        "    trg_indexes = [trg_field.vocab.stoi[trg_field.init_token]]\n",
        "\n",
        "    for i in range(max_len):\n",
        "        trg_tensor = torch.LongTensor(trg_indexes).unsqueeze(0).to(device)\n",
        "\n",
        "        # create mask for output sentence \n",
        "        trg_mask = model.make_trg_mask(trg_tensor)\n",
        "\n",
        "        with torch.no_grad():\n",
        "            output, attention = model.decoder(trg_tensor, enc_src, trg_mask, src_mask)\n",
        "\n",
        "        # use last word of output sentnece \n",
        "        pred_token = output.argmax(2)[:,-1].item()\n",
        "        trg_indexes.append(pred_token) # add to output sentence \n",
        "\n",
        "        # end with <eos>\n",
        "        if pred_token == trg_field.vocab.stoi[trg_field.eos_token]:\n",
        "            break\n",
        "\n",
        "    # translate each idex of output words to real words \n",
        "    trg_tokens = [trg_field.vocab.itos[i] for i in trg_indexes]\n",
        "\n",
        "    # return output sentence except first <sos>\n",
        "    return trg_tokens[1:], attention"
      ],
      "execution_count": 37,
      "outputs": []
    },
    {
      "cell_type": "code",
      "metadata": {
        "id": "DZZufujhxNuO",
        "colab": {
          "base_uri": "https://localhost:8080/"
        },
        "outputId": "5a7704b9-95e2-4450-bde6-48686898a9a4"
      },
      "source": [
        "example_idx = 10\n",
        "\n",
        "src = vars(test_dataset.examples[example_idx])['src']\n",
        "trg = vars(test_dataset.examples[example_idx])['trg']\n",
        "\n",
        "print(f'Source Sentence: {src}')\n",
        "print(f'Target Sentence: {trg}')\n",
        "\n",
        "translation, attention = translate_sentence(src, SRC, TRG, model, device, logging=True)\n",
        "\n",
        "print(\"Model output result:\", \" \".join(translation))"
      ],
      "execution_count": 38,
      "outputs": [
        {
          "output_type": "stream",
          "name": "stdout",
          "text": [
            "Source Sentence: ['eine', 'mutter', 'und', 'ihr', 'kleiner', 'sohn', 'genießen', 'einen', 'schönen', 'tag', 'im', 'freien', '.']\n",
            "Target Sentence: ['a', 'mother', 'and', 'her', 'young', 'song', 'enjoying', 'a', 'beautiful', 'day', 'outside', '.']\n",
            "Total soruce token: ['<sos>', 'eine', 'mutter', 'und', 'ihr', 'kleiner', 'sohn', 'genießen', 'einen', 'schönen', 'tag', 'im', 'freien', '.', '<eos>']\n",
            "Source sentence index: [2, 8, 364, 10, 134, 70, 624, 565, 19, 780, 200, 20, 88, 4, 3]\n",
            "Model output result: a mother and her son enjoying a beautiful day outside . <eos>\n"
          ]
        }
      ]
    },
    {
      "cell_type": "markdown",
      "metadata": {
        "id": "SnRoAAEjyckb"
      },
      "source": [
        "* Attention Map Visualization"
      ]
    },
    {
      "cell_type": "code",
      "metadata": {
        "id": "7lNAb_YKYLmU"
      },
      "source": [
        "def display_attention(sentence, translation, attention, n_heads=8, n_rows=4, n_cols=2):\n",
        "\n",
        "    assert n_rows * n_cols == n_heads\n",
        "\n",
        "    # set size of image \n",
        "    fig = plt.figure(figsize=(15, 25))\n",
        "\n",
        "    for i in range(n_heads):\n",
        "        ax = fig.add_subplot(n_rows, n_cols, i + 1)\n",
        "\n",
        "        # use Attention score probability value \n",
        "        _attention = attention.squeeze(0)[i].cpu().detach().numpy()\n",
        "\n",
        "        cax = ax.matshow(_attention, cmap='bone')\n",
        "\n",
        "        ax.tick_params(labelsize=12)\n",
        "        ax.set_xticklabels([''] + ['<sos>'] + [t.lower() for t in sentence] + ['<eos>'], rotation=45)\n",
        "        ax.set_yticklabels([''] + translation)\n",
        "\n",
        "        ax.xaxis.set_major_locator(ticker.MultipleLocator(1))\n",
        "        ax.yaxis.set_major_locator(ticker.MultipleLocator(1))\n",
        "\n",
        "    plt.show()\n",
        "    plt.close()"
      ],
      "execution_count": 39,
      "outputs": []
    },
    {
      "cell_type": "code",
      "metadata": {
        "id": "OnCvQ5d8YMrj",
        "colab": {
          "base_uri": "https://localhost:8080/"
        },
        "outputId": "3d82c5dc-d248-4fe2-ff82-8bb52d301b90"
      },
      "source": [
        "# Results\n",
        "example_idx = 10\n",
        "\n",
        "src = vars(test_dataset.examples[example_idx])['src']\n",
        "trg = vars(test_dataset.examples[example_idx])['trg']\n",
        "\n",
        "print(f'source sentence: {src}')\n",
        "print(f'target sentence: {trg}')\n",
        "\n",
        "translation, attention = translate_sentence(src, SRC, TRG, model, device, logging=True)\n",
        "\n",
        "print(\"Model output result:\", \" \".join(translation))"
      ],
      "execution_count": 40,
      "outputs": [
        {
          "output_type": "stream",
          "name": "stdout",
          "text": [
            "source sentence: ['eine', 'mutter', 'und', 'ihr', 'kleiner', 'sohn', 'genießen', 'einen', 'schönen', 'tag', 'im', 'freien', '.']\n",
            "target sentence: ['a', 'mother', 'and', 'her', 'young', 'song', 'enjoying', 'a', 'beautiful', 'day', 'outside', '.']\n",
            "Total soruce token: ['<sos>', 'eine', 'mutter', 'und', 'ihr', 'kleiner', 'sohn', 'genießen', 'einen', 'schönen', 'tag', 'im', 'freien', '.', '<eos>']\n",
            "Source sentence index: [2, 8, 364, 10, 134, 70, 624, 565, 19, 780, 200, 20, 88, 4, 3]\n",
            "Model output result: a mother and her son enjoying a beautiful day outside . <eos>\n"
          ]
        }
      ]
    },
    {
      "cell_type": "code",
      "metadata": {
        "id": "glUG8EnJYPGc",
        "colab": {
          "base_uri": "https://localhost:8080/",
          "height": 1000
        },
        "outputId": "92423155-ff35-4650-e9e1-ad20da36b9e3"
      },
      "source": [
        "# Display attention map \n",
        "display_attention(src, translation, attention)"
      ],
      "execution_count": 41,
      "outputs": [
        {
          "output_type": "stream",
          "name": "stderr",
          "text": [
            "<ipython-input-39-d30a6456bd6d>:17: UserWarning: FixedFormatter should only be used together with FixedLocator\n",
            "  ax.set_xticklabels([''] + ['<sos>'] + [t.lower() for t in sentence] + ['<eos>'], rotation=45)\n",
            "<ipython-input-39-d30a6456bd6d>:18: UserWarning: FixedFormatter should only be used together with FixedLocator\n",
            "  ax.set_yticklabels([''] + translation)\n"
          ]
        },
        {
          "output_type": "display_data",
          "data": {
            "text/plain": [
              "<Figure size 1500x2500 with 8 Axes>"
            ],
            "image/png": "[encoded data removed]"
          },
          "metadata": {}
        }
      ]
    },
    {
      "cell_type": "markdown",
      "metadata": {
        "id": "t07uJBHB0Voo"
      },
      "source": [
        "#### <b>Calculate BLEU Score </b>\n",
        "\n",
        "* Calculate BLEU score of trained Transformer Model"
      ]
    },
    {
      "cell_type": "code",
      "metadata": {
        "id": "C7hsjkOKb3HS"
      },
      "source": [
        "def show_bleu(data, src_field, trg_field, model, device, max_len=50):\n",
        "    trgs = []\n",
        "    pred_trgs = []\n",
        "    index = 0\n",
        "\n",
        "    for datum in data:\n",
        "        src = vars(datum)['src']\n",
        "        trg = vars(datum)['trg']\n",
        "\n",
        "        pred_trg, _ = translate_sentence(src, src_field, trg_field, model, device, max_len, logging=False)\n",
        "\n",
        "        # exclude last <eos> token\n",
        "        pred_trg = pred_trg[:-1]\n",
        "\n",
        "        pred_trgs.append(pred_trg)\n",
        "        trgs.append([trg])\n",
        "\n",
        "        index += 1\n",
        "        if (index + 1) % 100 == 0:\n",
        "            print(f\"[{index + 1}/{len(data)}]\")\n",
        "            print(f\"Prediction: {pred_trg}\")\n",
        "            print(f\"Correct answer: {trg}\")\n",
        "\n",
        "    bleu = bleu_score(pred_trgs, trgs, max_n=4, weights=[0.25, 0.25, 0.25, 0.25])\n",
        "    print(f'Total BLEU Score = {bleu*100:.2f}')\n",
        "\n",
        "    individual_bleu1_score = bleu_score(pred_trgs, trgs, max_n=4, weights=[1, 0, 0, 0])\n",
        "    individual_bleu2_score = bleu_score(pred_trgs, trgs, max_n=4, weights=[0, 1, 0, 0])\n",
        "    individual_bleu3_score = bleu_score(pred_trgs, trgs, max_n=4, weights=[0, 0, 1, 0])\n",
        "    individual_bleu4_score = bleu_score(pred_trgs, trgs, max_n=4, weights=[0, 0, 0, 1])\n",
        "\n",
        "    print(f'Individual BLEU1 score = {individual_bleu1_score*100:.2f}') \n",
        "    print(f'Individual BLEU2 score = {individual_bleu2_score*100:.2f}') \n",
        "    print(f'Individual BLEU3 score = {individual_bleu3_score*100:.2f}') \n",
        "    print(f'Individual BLEU4 score = {individual_bleu4_score*100:.2f}') \n",
        "\n",
        "    cumulative_bleu1_score = bleu_score(pred_trgs, trgs, max_n=4, weights=[1, 0, 0, 0])\n",
        "    cumulative_bleu2_score = bleu_score(pred_trgs, trgs, max_n=4, weights=[1/2, 1/2, 0, 0])\n",
        "    cumulative_bleu3_score = bleu_score(pred_trgs, trgs, max_n=4, weights=[1/3, 1/3, 1/3, 0])\n",
        "    cumulative_bleu4_score = bleu_score(pred_trgs, trgs, max_n=4, weights=[1/4, 1/4, 1/4, 1/4])\n",
        "\n",
        "    print(f'Cumulative BLEU1 score = {cumulative_bleu1_score*100:.2f}') \n",
        "    print(f'Cumulative BLEU2 score = {cumulative_bleu2_score*100:.2f}') \n",
        "    print(f'Cumulative BLEU3 score = {cumulative_bleu3_score*100:.2f}') \n",
        "    print(f'Cumulative BLEU4 score = {cumulative_bleu4_score*100:.2f}') "
      ],
      "execution_count": 42,
      "outputs": []
    },
    {
      "cell_type": "code",
      "metadata": {
        "id": "XXM8yzc8ZtgE",
        "colab": {
          "base_uri": "https://localhost:8080/"
        },
        "outputId": "bebe360c-bbba-48b0-d5d3-276667256f2c"
      },
      "source": [
        "# Test results and BLEU score \n",
        "show_bleu(test_dataset, SRC, TRG, model, device)"
      ],
      "execution_count": 43,
      "outputs": [
        {
          "output_type": "stream",
          "name": "stdout",
          "text": [
            "[100/1000]\n",
            "Prediction: ['a', 'group', 'of', 'asian', 'children', 'are', 'sitting', 'in', 'blue', 'chairs', 'while', 'sitting', 'on', 'blue', 'chairs', '.']\n",
            "Correct answer: ['a', 'group', 'of', 'mostly', 'asian', 'children', 'sitting', 'at', 'cubicles', 'in', 'blue', 'chairs', '.']\n",
            "[200/1000]\n",
            "Prediction: ['all', 'all', 'group', 'of', 'people', 'stand', 'under', 'umbrellas', '.']\n",
            "Correct answer: ['the', 'group', 'of', 'people', 'are', 'all', 'covered', 'by', 'umbrellas', '.']\n",
            "[300/1000]\n",
            "Prediction: ['a', 'young', 'girl', 'in', 'a', 'yellow', 'jersey', 'is', 'helping', 'the', 'goal', '.']\n",
            "Correct answer: ['a', 'goalie', 'in', 'a', 'yellow', 'field', 'is', 'protecting', 'the', 'goal', '.']\n",
            "[400/1000]\n",
            "Prediction: ['two', 'young', 'children', 'are', 'on', 'the', 'sand', '.']\n",
            "Correct answer: ['two', 'young', 'children', 'are', 'on', 'sand', '.']\n",
            "[500/1000]\n",
            "Prediction: ['two', 'brown', 'dogs', 'running', 'across', 'the', 'snow', '.']\n",
            "Correct answer: ['two', 'medium', 'sized', 'dogs', 'run', 'across', 'the', 'snow', '.']\n",
            "[600/1000]\n",
            "Prediction: ['a', 'group', 'of', 'men', 'sitting', 'and', 'talking', 'to', 'each', 'other', 'behind', 'green', '<unk>', '.']\n",
            "Correct answer: ['a', 'group', 'of', 'men', 'sitting', 'and', 'talking', 'behind', 'some', 'green', 'fruit', '.']\n",
            "[700/1000]\n",
            "Prediction: ['two', 'people', 'looking', 'at', 'night', 'with', 'flags', 'at', 'night', '.']\n",
            "Correct answer: ['two', 'people', 'look', 'on', 'in', 'the', 'nighttime', 'at', 'the', 'lights', 'in', 'a', 'city', '.']\n",
            "[800/1000]\n",
            "Prediction: ['the', '<unk>', 'all', 'riding', 'bike', '.']\n",
            "Correct answer: ['crowds', 'of', 'people', 'are', 'all', 'riding', 'bicycles', '.']\n",
            "[900/1000]\n",
            "Prediction: ['children', 'fighting', 'over', 'the', 'ball', '.']\n",
            "Correct answer: ['kids', 'compete', 'to', 'gain', 'possession', 'of', 'the', 'soccer', 'ball', '.']\n",
            "[1000/1000]\n",
            "Prediction: ['an', 'older', 'man', 'is', 'playing', 'a', 'video', 'game', '.']\n",
            "Correct answer: ['an', 'older', 'man', 'is', 'playing', 'a', 'video', 'arcade', 'game', '.']\n",
            "Total BLEU Score = 34.85\n",
            "Individual BLEU1 score = 67.43\n",
            "Individual BLEU2 score = 42.66\n",
            "Individual BLEU3 score = 27.81\n",
            "Individual BLEU4 score = 18.43\n",
            "Cumulative BLEU1 score = 67.43\n",
            "Cumulative BLEU2 score = 53.64\n",
            "Cumulative BLEU3 score = 43.09\n",
            "Cumulative BLEU4 score = 34.85\n"
          ]
        }
      ]
    }
  ]
}