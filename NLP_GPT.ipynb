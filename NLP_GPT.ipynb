{
  "cells": [
    {
      "cell_type": "markdown",
      "source": [
        "# GPT(Generative Pre-Training) Implementation\n",
        "\n",
        "---\n",
        "### **Description**\n",
        "\n",
        "- Model Architecture:\n",
        "<img src = \"https://img1.daumcdn.net/thumb/R1280x0/?scode=mtistory2&fname=https%3A%2F%2Fblog.kakaocdn.net%2Fdn%2FCN9jO%2FbtsmiDJHWRI%2Fy9vSNfNEWCIsGzebxHBXPK%2Fimg.png\"> </img> <br>\n",
        "\n",
        "     Figure1. GPT Architecture and brief description of 4 different tasks(Radford, A. et. al, 2018)\n",
        "<br>\n",
        "\n",
        "- Dataset:\n",
        "    - Paper : WikiQA: A Challenge Dataset for Open-Domain Question Answering\n",
        "    <br>\n",
        "\n",
        "- System Environment:\n",
        "    - Goolge Colab Pro Plus GPU: A100\n",
        "\n",
        "\n",
        "---\n",
        "\n",
        "### **Reference**\n",
        "\n",
        "[1] \"GPT(Generative Pre-Training) Implementation\", cchyun, accessed 2023 04 11, https://paul-hyun.github.io/gpt-01/.\n",
        "\n",
        "[2] \"[Paper Review] GPT : Generative Pre-training / OpenAI NLP\", 구름위의공룡, accessed 2023 05 22, https://mr-waguwagu.tistory.com/27.\n",
        "\n",
        "[3] \"GPT1 Paper review Improving Language Understanding\n",
        "by Generative Pre-Training\", 이수진의블로그, accessed 2023 05 22, https://lsjsj92.tistory.com/617.\n",
        "\n",
        "[3] Radford, A., Narasimhan, K., Salimans, T., & Sutskever, I. (2018). Improving language understanding by generative pre-training.\n",
        "\n",
        "[4] Yang, Y., Yih, W. T., & Meek, C. (2015, September). Wikiqa: A challenge dataset for open-domain question answering. In Proceedings of the 2015 conference on empirical methods in natural language processing (pp. 2013-2018).\n"
      ],
      "metadata": {
        "id": "_RJALmZ4v8HM"
      },
      "id": "_RJALmZ4v8HM"
    },
    {
      "cell_type": "markdown",
      "source": [
        "### Install Library"
      ],
      "metadata": {
        "id": "SemMAOYcQj6I"
      },
      "id": "SemMAOYcQj6I"
    },
    {
      "cell_type": "code",
      "execution_count": 24,
      "metadata": {
        "colab": {
          "base_uri": "https://localhost:8080/"
        },
        "id": "Bik-vd3_hWwA",
        "outputId": "c675b3f5-3fa7-42dc-bcd4-97416aa115c6"
      },
      "outputs": [
        {
          "output_type": "stream",
          "name": "stdout",
          "text": [
            "Requirement already satisfied: sentencepiece in /usr/local/lib/python3.10/dist-packages (0.1.99)\n"
          ]
        }
      ],
      "source": [
        "# install Sentencepiece library\n",
        "pip install sentencepiece"
      ],
      "id": "Bik-vd3_hWwA"
    },
    {
      "cell_type": "markdown",
      "source": [
        "### Load Library"
      ],
      "metadata": {
        "id": "-YeR6Lu5Qgy5"
      },
      "id": "-YeR6Lu5Qgy5"
    },
    {
      "cell_type": "code",
      "execution_count": 68,
      "metadata": {
        "id": "71b905a1-cf85-4e05-9e33-ffc7ba24b082"
      },
      "outputs": [],
      "source": [
        "# Sentencepiece\n",
        "import sentencepiece as spm\n",
        "\n",
        "# Torch\n",
        "from torch.utils.data import DataLoader\n",
        "import torch\n",
        "import torch.nn as nn\n",
        "import torch.optim as optim\n",
        "import torch.nn.functional as F\n",
        "\n",
        "# Tools\n",
        "import os\n",
        "import json\n",
        "import numpy as np\n",
        "import pandas as pd\n",
        "import matplotlib.pyplot as plt\n",
        "from typing import Optional\n",
        "from tqdm import tqdm, tqdm_notebook, trange\n",
        "from random import random, randrange, randint, shuffle, choice"
      ],
      "id": "71b905a1-cf85-4e05-9e33-ffc7ba24b082"
    },
    {
      "cell_type": "code",
      "source": [
        "# For Colab Environment\n",
        "from google.colab import drive\n",
        "drive.mount('/content/drive')"
      ],
      "metadata": {
        "colab": {
          "base_uri": "https://localhost:8080/"
        },
        "id": "KOlVK-uwQcBq",
        "outputId": "29616042-4efa-4354-a652-e1563f05768a"
      },
      "id": "KOlVK-uwQcBq",
      "execution_count": 26,
      "outputs": [
        {
          "output_type": "stream",
          "name": "stdout",
          "text": [
            "Drive already mounted at /content/drive; to attempt to forcibly remount, call drive.mount(\"/content/drive\", force_remount=True).\n"
          ]
        }
      ]
    },
    {
      "cell_type": "code",
      "execution_count": 27,
      "metadata": {
        "id": "edb7269b-0151-4c6e-927e-077faa0f0643"
      },
      "outputs": [],
      "source": [
        "# Tokenization make a vocab using WikiQA dataset\n",
        "\n",
        "corpus = \"/content/drive/MyDrive/WikiQA.txt\"\n",
        "prefix = \"WikiQA\"\n",
        "vocab_size = 12000\n",
        "spm.SentencePieceTrainer.train(\n",
        "    f\"--input={corpus} --model_prefix={prefix} --vocab_size={vocab_size + 7}\" +\n",
        "    \" --model_type=bpe\" +\n",
        "    \" --max_sentence_length=999999\" + # Max length of sentence\n",
        "    \" --pad_id=0 --pad_piece=[PAD]\" + # pad (0)\n",
        "    \" --unk_id=1 --unk_piece=[UNK]\" + # unknown (1)\n",
        "    \" --bos_id=2 --bos_piece=[BOS]\" + # begin of sequence (2)\n",
        "    \" --eos_id=3 --eos_piece=[EOS]\" + # end of sequence (3)\n",
        "    \" --user_defined_symbols=[SEP],[CLS],[MASK]\") # User defined token"
      ],
      "id": "edb7269b-0151-4c6e-927e-077faa0f0643"
    },
    {
      "cell_type": "code",
      "execution_count": 29,
      "metadata": {
        "colab": {
          "base_uri": "https://localhost:8080/"
        },
        "id": "21e0599d-774d-4060-8395-b499ebb30609",
        "outputId": "74cdf225-526a-4fd8-f6e1-a7c7b66f8ae6"
      },
      "outputs": [
        {
          "output_type": "stream",
          "name": "stdout",
          "text": [
            "i love soccer, and pizza\n",
            "['▁i', '▁love', '▁soc', 'cer', ',', '▁and', '▁p', 'iz', 'za']\n",
            "[537, 3893, 4667, 1246, 11969, 42, 31, 229, 7489]\n",
            "i love soccer, and pizza\n",
            "\n"
          ]
        }
      ],
      "source": [
        "# Using Vocab test sentence into pieces\n",
        "\n",
        "vocab_file = \"WikiQA.model\"\n",
        "vocab = spm.SentencePieceProcessor()\n",
        "vocab.load(vocab_file)\n",
        "\n",
        "lines = [\n",
        "  'i love soccer, and pizza'\n",
        "]\n",
        "for line in lines:\n",
        "    pieces = vocab.encode_as_pieces(line)\n",
        "    ids = vocab.encode_as_ids(line)\n",
        "    a = vocab.Decode(ids)\n",
        "    print(line)\n",
        "    print(pieces)\n",
        "    print(ids)\n",
        "    print(a)\n",
        "    print()"
      ],
      "id": "21e0599d-774d-4060-8395-b499ebb30609"
    },
    {
      "cell_type": "markdown",
      "source": [
        "### Set Configuration\n",
        "- \"n_dec_vocab\": length of vocab\n",
        "- \"n_dec_seq\": 256,\n",
        "- \"n_layer\": 12,\n",
        "- \"d_hidn\": 768,\n",
        "- \"i_pad\": 0,\n",
        "- \"d_ff\": 1024,\n",
        "- \"n_head\": 16,\n",
        "- \"d_head\": 48,\n",
        "- \"dropout\": 0.1,\n",
        "- \"layer_norm_epsilon\": 1e-12"
      ],
      "metadata": {
        "id": "4S3zFpQLVl-6"
      },
      "id": "4S3zFpQLVl-6"
    },
    {
      "cell_type": "code",
      "execution_count": 32,
      "metadata": {
        "id": "3738aa79-6cae-42a2-9a84-25bee00ba069"
      },
      "outputs": [],
      "source": [
        "# Define Configuration\n",
        "class Config(dict):\n",
        "    __getattr__ = dict.__getitem__\n",
        "    __setattr__ = dict.__setitem__\n",
        "\n",
        "    @classmethod\n",
        "    def load(cls, file):\n",
        "        with open(file, 'r') as f:\n",
        "            config = json.loads(f.read())\n",
        "            return Config(config)"
      ],
      "id": "3738aa79-6cae-42a2-9a84-25bee00ba069"
    },
    {
      "cell_type": "code",
      "execution_count": 33,
      "metadata": {
        "colab": {
          "base_uri": "https://localhost:8080/"
        },
        "id": "b2bcd19a-135e-4a15-9a50-dcca01603509",
        "outputId": "32e7735f-266b-47ba-db47-53ea2d42738d"
      },
      "outputs": [
        {
          "output_type": "stream",
          "name": "stdout",
          "text": [
            "{'n_dec_vocab': 12007, 'n_dec_seq': 256, 'n_layer': 12, 'd_hidn': 768, 'i_pad': 0, 'd_ff': 1024, 'n_head': 16, 'd_head': 48, 'dropout': 0.1, 'layer_norm_epsilon': 1e-12}\n"
          ]
        }
      ],
      "source": [
        "# Set Configuration\n",
        "config = Config({\n",
        "    \"n_dec_vocab\": len(vocab),\n",
        "    \"n_dec_seq\": 256,\n",
        "    \"n_layer\": 12,\n",
        "    \"d_hidn\": 768,\n",
        "    \"i_pad\": 0,\n",
        "    \"d_ff\": 1024,\n",
        "    \"n_head\": 16,\n",
        "    \"d_head\": 48,\n",
        "    \"dropout\": 0.1,\n",
        "    \"layer_norm_epsilon\": 1e-12\n",
        "})\n",
        "print(config)"
      ],
      "id": "b2bcd19a-135e-4a15-9a50-dcca01603509"
    },
    {
      "cell_type": "markdown",
      "source": [
        "### Define Sinusoidal Positional Encoding\n",
        "- Sinusoidal encoding table\n",
        "- attention pad mask\n",
        "- attention decoder mask\n",
        "- scale dot product attention\n",
        "- multihead attention\n",
        "- feed forward\n",
        "- decoder layer\n",
        "- decoder"
      ],
      "metadata": {
        "id": "Ai7UXMCvTUUo"
      },
      "id": "Ai7UXMCvTUUo"
    },
    {
      "cell_type": "code",
      "execution_count": 34,
      "metadata": {
        "id": "610ebe8a-1815-4b35-9779-453ca6b636c9"
      },
      "outputs": [],
      "source": [
        "# Sinusoidal Positional Encoding\n",
        "def get_sinusoid_encoding_table(n_seq, d_hidn):\n",
        "    def cal_angle(position, i_hidn):\n",
        "        return position / np.power(10000, 2 * (i_hidn // 2) / d_hidn)\n",
        "    def get_posi_angle_vec(position):\n",
        "        return [cal_angle(position, i_hidn) for i_hidn in range(d_hidn)]\n",
        "\n",
        "    sinusoid_table = np.array([get_posi_angle_vec(i_seq) for i_seq in range(n_seq)])\n",
        "    sinusoid_table[:, 0::2] = np.sin(sinusoid_table[:, 0::2])  # even index sin\n",
        "    sinusoid_table[:, 1::2] = np.cos(sinusoid_table[:, 1::2])  # odd index cos\n",
        "\n",
        "    return sinusoid_table\n",
        "\n",
        "\n",
        "\"\"\" attention pad mask \"\"\"\n",
        "def get_attn_pad_mask(seq_q, seq_k, i_pad):\n",
        "    batch_size, len_q = seq_q.size()\n",
        "    batch_size, len_k = seq_k.size()\n",
        "    pad_attn_mask = seq_k.data.eq(i_pad).unsqueeze(1).expand(batch_size, len_q, len_k)  #\n",
        "    return pad_attn_mask\n",
        "\n",
        "\n",
        "\"\"\" attention decoder mask \"\"\"\n",
        "def get_attn_decoder_mask(seq):\n",
        "    subsequent_mask = torch.ones_like(seq).unsqueeze(-1).expand(seq.size(0), seq.size(1), seq.size(1))\n",
        "    subsequent_mask = subsequent_mask.triu(diagonal=1) # upper triangular part of a matrix(2-D)\n",
        "    return subsequent_mask\n",
        "\n",
        "\n",
        "\"\"\" scale dot product attention \"\"\"\n",
        "class ScaledDotProductAttention(nn.Module):\n",
        "    def __init__(self, config):\n",
        "        super().__init__()\n",
        "        self.config = config\n",
        "        self.dropout = nn.Dropout(config.dropout)\n",
        "        self.scale = 1 / (self.config.d_head ** 0.5)\n",
        "\n",
        "    def forward(self, Q, K, V, attn_mask):\n",
        "        # (bs, n_head, n_q_seq, n_k_seq)\n",
        "        scores = torch.matmul(Q, K.transpose(-1, -2)).mul_(self.scale)\n",
        "        scores.masked_fill_(attn_mask, -1e9)\n",
        "        # (bs, n_head, n_q_seq, n_k_seq)\n",
        "        attn_prob = nn.Softmax(dim=-1)(scores)\n",
        "        attn_prob = self.dropout(attn_prob)\n",
        "        # (bs, n_head, n_q_seq, d_v)\n",
        "        context = torch.matmul(attn_prob, V)\n",
        "        # (bs, n_head, n_q_seq, d_v), (bs, n_head, n_q_seq, n_v_seq)\n",
        "        return context, attn_prob\n",
        "\n",
        "\n",
        "\"\"\" multi head attention \"\"\"\n",
        "class MultiHeadAttention(nn.Module):\n",
        "    def __init__(self, config):\n",
        "        super().__init__()\n",
        "        self.config = config\n",
        "\n",
        "        self.W_Q = nn.Linear(self.config.d_hidn, self.config.n_head * self.config.d_head)\n",
        "        self.W_K = nn.Linear(self.config.d_hidn, self.config.n_head * self.config.d_head)\n",
        "        self.W_V = nn.Linear(self.config.d_hidn, self.config.n_head * self.config.d_head)\n",
        "        self.scaled_dot_attn = ScaledDotProductAttention(self.config)\n",
        "        self.linear = nn.Linear(self.config.n_head * self.config.d_head, self.config.d_hidn)\n",
        "        self.dropout = nn.Dropout(config.dropout)\n",
        "\n",
        "    def forward(self, Q, K, V, attn_mask):\n",
        "        batch_size = Q.size(0)\n",
        "        # (bs, n_head, n_q_seq, d_head)\n",
        "        q_s = self.W_Q(Q).view(batch_size, -1, self.config.n_head, self.config.d_head).transpose(1,2)\n",
        "        # (bs, n_head, n_k_seq, d_head)\n",
        "        k_s = self.W_K(K).view(batch_size, -1, self.config.n_head, self.config.d_head).transpose(1,2)\n",
        "        # (bs, n_head, n_v_seq, d_head)\n",
        "        v_s = self.W_V(V).view(batch_size, -1, self.config.n_head, self.config.d_head).transpose(1,2)\n",
        "\n",
        "        # (bs, n_head, n_q_seq, n_k_seq)\n",
        "        attn_mask = attn_mask.unsqueeze(1).repeat(1, self.config.n_head, 1, 1)\n",
        "\n",
        "        # (bs, n_head, n_q_seq, d_head), (bs, n_head, n_q_seq, n_k_seq)\n",
        "        context, attn_prob = self.scaled_dot_attn(q_s, k_s, v_s, attn_mask)\n",
        "        # (bs, n_head, n_q_seq, h_head * d_head)\n",
        "        context = context.transpose(1, 2).contiguous().view(batch_size, -1, self.config.n_head * self.config.d_head)\n",
        "        # (bs, n_head, n_q_seq, e_embd)\n",
        "        output = self.linear(context)\n",
        "        output = self.dropout(output)\n",
        "        # (bs, n_q_seq, d_hidn), (bs, n_head, n_q_seq, n_k_seq)\n",
        "        return output, attn_prob\n",
        "\n",
        "\n",
        "\"\"\" feed forward \"\"\"\n",
        "class PoswiseFeedForwardNet(nn.Module):\n",
        "    def __init__(self, config):\n",
        "        super().__init__()\n",
        "        self.config = config\n",
        "\n",
        "        self.conv1 = nn.Conv1d(in_channels=self.config.d_hidn, out_channels=self.config.d_ff, kernel_size=1)\n",
        "        self.conv2 = nn.Conv1d(in_channels=self.config.d_ff, out_channels=self.config.d_hidn, kernel_size=1)\n",
        "        self.active = F.gelu\n",
        "        self.dropout = nn.Dropout(config.dropout)\n",
        "\n",
        "    def forward(self, inputs):\n",
        "        # (bs, d_ff, n_seq)\n",
        "        output = self.active(self.conv1(inputs.transpose(1, 2)))\n",
        "        # (bs, n_seq, d_hidn)\n",
        "        output = self.conv2(output).transpose(1, 2)\n",
        "        output = self.dropout(output)\n",
        "        # (bs, n_seq, d_hidn)\n",
        "        return output\n"
      ],
      "id": "610ebe8a-1815-4b35-9779-453ca6b636c9"
    },
    {
      "cell_type": "code",
      "execution_count": 35,
      "metadata": {
        "id": "da7f3e03-19ab-4c34-9b7e-a06c3ab136ac"
      },
      "outputs": [],
      "source": [
        "\"\"\" decoder layer \"\"\"\n",
        "class DecoderLayer(nn.Module):\n",
        "    def __init__(self, config):\n",
        "        super().__init__()\n",
        "        self.config = config\n",
        "\n",
        "        self.self_attn = MultiHeadAttention(self.config)\n",
        "        self.layer_norm1 = nn.LayerNorm(self.config.d_hidn, eps=self.config.layer_norm_epsilon)\n",
        "        self.pos_ffn = PoswiseFeedForwardNet(self.config)\n",
        "        self.layer_norm3 = nn.LayerNorm(self.config.d_hidn, eps=self.config.layer_norm_epsilon)\n",
        "\n",
        "    def forward(self, dec_inputs, self_attn_mask):\n",
        "        # (bs, n_dec_seq, d_hidn), (bs, n_head, n_dec_seq, n_dec_seq)\n",
        "        self_att_outputs, self_attn_prob = self.self_attn(dec_inputs, dec_inputs, dec_inputs, self_attn_mask)\n",
        "        self_att_outputs = self.layer_norm1(dec_inputs + self_att_outputs)\n",
        "        # (bs, n_dec_seq, d_hidn)\n",
        "        ffn_outputs = self.pos_ffn(self_att_outputs)\n",
        "        ffn_outputs = self.layer_norm3(self_att_outputs + ffn_outputs)\n",
        "        # (bs, n_dec_seq, d_hidn), (bs, n_head, n_dec_seq, n_dec_seq), (bs, n_head, n_dec_seq, n_enc_seq)\n",
        "        return ffn_outputs, self_attn_prob"
      ],
      "id": "da7f3e03-19ab-4c34-9b7e-a06c3ab136ac"
    },
    {
      "cell_type": "code",
      "execution_count": 10,
      "metadata": {
        "id": "d386adc2-519c-47f1-b613-010878d0ca5e"
      },
      "outputs": [],
      "source": [
        "\"\"\" decoder \"\"\"\n",
        "class Decoder(nn.Module):\n",
        "    def __init__(self, config):\n",
        "        super().__init__()\n",
        "        self.config = config\n",
        "\n",
        "        self.dec_emb = nn.Embedding(self.config.n_dec_vocab, self.config.d_hidn)\n",
        "        sinusoid_table = torch.FloatTensor(get_sinusoid_encoding_table(self.config.n_dec_seq + 1, self.config.d_hidn))\n",
        "        self.pos_emb = nn.Embedding.from_pretrained(sinusoid_table, freeze=True)\n",
        "\n",
        "        self.layers = nn.ModuleList([DecoderLayer(self.config) for _ in range(self.config.n_layer)])\n",
        "\n",
        "    def forward(self, dec_inputs):\n",
        "        positions = torch.arange(dec_inputs.size(1), device=dec_inputs.device, dtype=dec_inputs.dtype).expand(dec_inputs.size(0), dec_inputs.size(1)).contiguous() + 1\n",
        "        pos_mask = dec_inputs.eq(self.config.i_pad)\n",
        "        positions.masked_fill_(pos_mask, 0)\n",
        "\n",
        "        # (bs, n_dec_seq, d_hidn)\n",
        "        dec_outputs = self.dec_emb(dec_inputs) + self.pos_emb(positions)\n",
        "\n",
        "        # (bs, n_dec_seq, n_dec_seq)\n",
        "        dec_attn_pad_mask = get_attn_pad_mask(dec_inputs, dec_inputs, self.config.i_pad)\n",
        "        # (bs, n_dec_seq, n_dec_seq)\n",
        "        dec_attn_decoder_mask = get_attn_decoder_mask(dec_inputs)\n",
        "        # (bs, n_dec_seq, n_dec_seq)\n",
        "        dec_self_attn_mask = torch.gt((dec_attn_pad_mask + dec_attn_decoder_mask), 0)\n",
        "\n",
        "        self_attn_probs = []\n",
        "        for layer in self.layers:\n",
        "            # (bs, n_dec_seq, d_hidn), (bs, n_dec_seq, n_dec_seq)\n",
        "            dec_outputs, self_attn_prob = layer(dec_outputs, dec_self_attn_mask)\n",
        "            self_attn_probs.append(self_attn_prob)\n",
        "        # (bs, n_dec_seq, d_hidn), [(bs, n_dec_seq, n_dec_seq)]\n",
        "        return dec_outputs, self_attn_probs"
      ],
      "id": "d386adc2-519c-47f1-b613-010878d0ca5e"
    },
    {
      "cell_type": "markdown",
      "source": [
        "### GPT\n",
        "- Define GPT, GPT pretrain\n",
        "- Create pretrain data per doc, pretrain data\n",
        "- Make a pretrain data as json file"
      ],
      "metadata": {
        "id": "trwQs9rNTrET"
      },
      "id": "trwQs9rNTrET"
    },
    {
      "cell_type": "code",
      "execution_count": 36,
      "metadata": {
        "id": "37d5e28c-dd4c-4929-b892-2aadc6d69723"
      },
      "outputs": [],
      "source": [
        "\"\"\" gpt \"\"\"\n",
        "class GPT(nn.Module):\n",
        "    def __init__(self, config):\n",
        "        super().__init__()\n",
        "        self.config = config\n",
        "\n",
        "        self.decoder = Decoder(self.config)\n",
        "\n",
        "    def forward(self, dec_inputs):\n",
        "        # (bs, n_seq, d_hidn), [(bs, n_head, n_dec_seq, n_dec_seq)]\n",
        "        dec_outputs, dec_self_attn_probs = self.decoder(dec_inputs)\n",
        "        # (bs, n_dec_seq, n_dec_vocab), [(bs, n_head, n_dec_seq, n_dec_seq)]\n",
        "        return dec_outputs, dec_self_attn_probs\n",
        "\n",
        "    def save(self, epoch, loss, path):\n",
        "        torch.save({\n",
        "            \"epoch\": epoch,\n",
        "            \"loss\": loss,\n",
        "            \"state_dict\": self.state_dict()\n",
        "        }, path)\n",
        "\n",
        "    def load(self, path):\n",
        "        save = torch.load(path)\n",
        "        self.load_state_dict(save[\"state_dict\"])\n",
        "        return save[\"epoch\"], save[\"loss\"]"
      ],
      "id": "37d5e28c-dd4c-4929-b892-2aadc6d69723"
    },
    {
      "cell_type": "code",
      "execution_count": 12,
      "metadata": {
        "id": "22bed513-1313-4533-be62-d23a3ffe5af8"
      },
      "outputs": [],
      "source": [
        "\"\"\" GPT pretrain \"\"\"\n",
        "class GPTPretrain(nn.Module):\n",
        "    def __init__(self, config):\n",
        "        super().__init__()\n",
        "        self.config = config\n",
        "\n",
        "        self.gpt = GPT(self.config)\n",
        "        # lm\n",
        "        self.projection_lm = nn.Linear(self.config.d_hidn, self.config.n_dec_vocab, bias=False)\n",
        "        self.projection_lm.weight = self.gpt.decoder.dec_emb.weight\n",
        "\n",
        "    def forward(self, dec_inputs):\n",
        "        # (bs, n_dec_seq, d_hidn), [(bs, n_head, n_dec_seq, n_dec_seq)]\n",
        "        dec_outputs, dec_self_attn_probs = self.gpt(dec_inputs)\n",
        "        # (bs, n_dec_seq, n_dec_vocab)\n",
        "        logits_lm = self.projection_lm(dec_outputs)\n",
        "        # (bs, n_dec_seq - 1, n_dec_vocab), (bs, n_output), [(bs, n_head, n_dec_seq, n_dec_seq)]\n",
        "        return logits_lm, dec_self_attn_probs"
      ],
      "id": "22bed513-1313-4533-be62-d23a3ffe5af8"
    },
    {
      "cell_type": "code",
      "execution_count": 37,
      "metadata": {
        "id": "034e8e29-64a3-4b28-b6dd-2dedca93a8ff"
      },
      "outputs": [],
      "source": [
        "\"\"\" create pretrain data per doc \"\"\"\n",
        "def create_pretrain_instances(doc, n_seq):\n",
        "    # for [BOS], [EOS]\n",
        "    max_seq = n_seq - 2\n",
        "    tgt_seq = max_seq\n",
        "    instances = []\n",
        "    a_end=0\n",
        "    for i in range(len(doc)):\n",
        "        if doc[i] =='▁,':\n",
        "            a_end = i\n",
        "\n",
        "    tokens_a =[\"[BOS]\"] + doc[:a_end] + [\"[EOS]\"]\n",
        "    tokens_b = [\"[BOS]\"] + doc[a_end+1: ] + [\"[EOS]\"]\n",
        "    # if len(tokens_a)>len(tokens_b):\n",
        "    #     a= [0] * (len(tokens_a)-len(tokens_b))\n",
        "    # else:\n",
        "    #     a= [0] * (len(tokens_b)-len(tokens_a))\n",
        "    # for i in range(len(doc)):\n",
        "    #     tokens.append(doc[i]) # line\n",
        "\n",
        "    instance = {\n",
        "        \"tokens_a\": tokens_a,\n",
        "        \"tokens_b\":tokens_b\n",
        "    }\n",
        "    instances.append(instance)\n",
        "    return instances"
      ],
      "id": "034e8e29-64a3-4b28-b6dd-2dedca93a8ff"
    },
    {
      "cell_type": "code",
      "execution_count": 38,
      "metadata": {
        "id": "6fbbb9f3-1b61-4215-8fdb-8cd50fd625e1"
      },
      "outputs": [],
      "source": [
        "\"\"\" Create pretrain data  \"\"\"\n",
        "def make_pretrain_data(vocab, in_file, out_file, n_seq):\n",
        "    line_cnt = 0\n",
        "    with open(in_file, \"r\", encoding='UTF8') as in_f:\n",
        "        for line in in_f:\n",
        "            line_cnt += 1\n",
        "\n",
        "    docs = []\n",
        "    with open(in_file, \"r\", encoding='UTF8') as f:\n",
        "        doc = []\n",
        "        with tqdm(total=line_cnt, desc=f\"Loading\") as pbar:\n",
        "            for i, line in enumerate(f):\n",
        "                line = line.strip()\n",
        "                if line == \"\":\n",
        "                    if 0 < len(doc):\n",
        "                        docs.append(doc)\n",
        "                        doc = []\n",
        "                        # In order to reduce size of the memory only used 100k\n",
        "                        if 100000 < len(docs): break\n",
        "                else:\n",
        "                    pieces = vocab.encode_as_pieces(line)\n",
        "                    if 0 < len(pieces):\n",
        "                        doc.append(pieces)\n",
        "                pbar.update(1)\n",
        "        if doc:\n",
        "            docs.append(doc)\n",
        "    docs = sum(docs,[])\n",
        "    with open(out_file, \"w\", encoding='UTF8') as out_f:\n",
        "        with tqdm(total=len(docs), desc=f\"Making\") as pbar:\n",
        "            for i, doc in enumerate(docs):\n",
        "                instances = create_pretrain_instances(doc, n_seq)\n",
        "                for instance in instances:\n",
        "                    print(instance, file=out_f)\n",
        "                        # out_f.write(instance)\n",
        "                        # out_f.write(\"\\n\")\n",
        "                    pbar.update(1)\n"
      ],
      "id": "6fbbb9f3-1b61-4215-8fdb-8cd50fd625e1"
    },
    {
      "cell_type": "code",
      "execution_count": 39,
      "metadata": {
        "colab": {
          "base_uri": "https://localhost:8080/"
        },
        "id": "e0191623-fbda-48bd-9f05-2c383906935c",
        "outputId": "45b3db9b-70eb-4b9b-809e-b7ef2424150f"
      },
      "outputs": [
        {
          "output_type": "stream",
          "name": "stderr",
          "text": [
            "Loading: 100%|██████████| 63282/63282 [00:06<00:00, 10444.88it/s]\n",
            "Making: 100%|██████████| 63282/63282 [00:00<00:00, 89025.96it/s]\n"
          ]
        }
      ],
      "source": [
        "# make pretrain data as json file\n",
        "in_file = \"/content/drive/MyDrive/WikiQA.txt\"\n",
        "out_file = \"WikiQA.json\"\n",
        "\n",
        "n_seq = 256\n",
        "make_pretrain_data(vocab, in_file, out_file, n_seq)\n"
      ],
      "id": "e0191623-fbda-48bd-9f05-2c383906935c"
    },
    {
      "cell_type": "markdown",
      "source": [
        "### Pretrain dataset\n",
        "- Define pretrain dataset, pretrain data collate function\n",
        "- Create pretrain dataloader"
      ],
      "metadata": {
        "id": "7HOS7BhKUd4T"
      },
      "id": "7HOS7BhKUd4T"
    },
    {
      "cell_type": "code",
      "execution_count": 40,
      "metadata": {
        "id": "4843cf96-51c7-437a-8235-394878c30d78"
      },
      "outputs": [],
      "source": [
        "\"\"\" pretrain datatset \"\"\"\n",
        "class PretrainDataSet(torch.utils.data.Dataset):\n",
        "    def __init__(self, vocab, infile):\n",
        "        self.vocab = vocab\n",
        "        self.sentences = []\n",
        "        self.label = []\n",
        "        line_cnt = 0\n",
        "        with open(infile, \"r\", encoding='UTF8') as f:\n",
        "            for line in f:\n",
        "                line_cnt += 1\n",
        "\n",
        "        with open(infile, \"r\", encoding='UTF8') as f:\n",
        "            for i, line in enumerate(tqdm(f, total=line_cnt, desc=f\"Loading {infile}\", unit=\" lines\")):\n",
        "\n",
        "                line = json.dumps(line)\n",
        "                instance = eval(json.loads(line))\n",
        "                tokens_a = [vocab.piece_to_id(p) for p in instance[\"tokens_a\"]]\n",
        "                tokens_b = [vocab.piece_to_id(p) for p in instance[\"tokens_b\"]]\n",
        "                if len(tokens_a) > len(tokens_b):\n",
        "                    a = [0]*(len(tokens_a) - len(tokens_b))\n",
        "                    tokens_b = tokens_b +a\n",
        "\n",
        "                else:\n",
        "                    a = [0]*(len(tokens_b) - len(tokens_a))\n",
        "                    tokens_a = tokens_a +a\n",
        "                self.sentences.append(tokens_a)\n",
        "                self.label.append(tokens_b)\n",
        "\n",
        "\n",
        "    def __len__(self):\n",
        "        assert len(self.sentences) == len(self.label)\n",
        "        return len(self.sentences)\n",
        "\n",
        "    def __getitem__(self, item):\n",
        "        return (torch.tensor(self.sentences[item]),\n",
        "                torch.tensor(self.label[item]),\n",
        "                torch.tensor(item))"
      ],
      "id": "4843cf96-51c7-437a-8235-394878c30d78"
    },
    {
      "cell_type": "code",
      "execution_count": 17,
      "metadata": {
        "id": "db4a8338-40fa-4edd-9563-28c8a90f9ff5"
      },
      "outputs": [],
      "source": [
        "\"\"\" pretrain data collate_fn \"\"\"\n",
        "def pretrin_collate_fn(inputs):\n",
        "    dec_inputs,labels,item = list(zip(*inputs))\n",
        "    dec_inputs = torch.nn.utils.rnn.pad_sequence(dec_inputs, batch_first=True, padding_value=0)\n",
        "    labels = torch.nn.utils.rnn.pad_sequence(labels, batch_first=True, padding_value=0)\n",
        "    batch = [\n",
        "        dec_inputs,\n",
        "        labels,\n",
        "        torch.stack(item, dim=0)\n",
        "    ]\n",
        "\n",
        "    return batch"
      ],
      "id": "db4a8338-40fa-4edd-9563-28c8a90f9ff5"
    },
    {
      "cell_type": "code",
      "execution_count": 41,
      "metadata": {
        "colab": {
          "base_uri": "https://localhost:8080/"
        },
        "id": "0d3f1c24-ea8a-4fbb-9096-9689552599f9",
        "outputId": "ba2d4b61-9505-4470-dba7-8c7f3a044376"
      },
      "outputs": [
        {
          "output_type": "stream",
          "name": "stderr",
          "text": [
            "Loading WikiQA.json: 100%|██████████| 63282/63282 [00:07<00:00, 8339.79 lines/s]\n"
          ]
        }
      ],
      "source": [
        "\"\"\" pretrain dataloader \"\"\"\n",
        "batch_size = 64\n",
        "dataset = PretrainDataSet(vocab, \"WikiQA.json\")\n",
        "train_loader = torch.utils.data.DataLoader(dataset, batch_size=batch_size, shuffle=True , collate_fn=pretrin_collate_fn)"
      ],
      "id": "0d3f1c24-ea8a-4fbb-9096-9689552599f9"
    },
    {
      "cell_type": "markdown",
      "source": [
        "### Model training\n",
        "- Define training steps per epoch\n",
        "- Set device and Hyperparameter\n",
        "- Train GPT Model"
      ],
      "metadata": {
        "id": "R9xltWf7U21h"
      },
      "id": "R9xltWf7U21h"
    },
    {
      "cell_type": "code",
      "execution_count": 42,
      "metadata": {
        "id": "8b6459bb-23e8-42b5-9139-41549498e0db"
      },
      "outputs": [],
      "source": [
        "\"\"\" Train model per epoch \"\"\"\n",
        "def train_epoch(config, epoch, model, criterion_lm, optimizer, train_loader):\n",
        "    losses = []\n",
        "    model.train()\n",
        "\n",
        "    # with tqdm(total=len(train_loader), desc=f\"Train({epoch})\") as pbar:\n",
        "    for i, value in enumerate(train_loader):\n",
        "        dec_inputs,labels_lm,_ = map(lambda v: v.to(config.device), value)\n",
        "\n",
        "        optimizer.zero_grad()\n",
        "        outputs = model(dec_inputs)\n",
        "\n",
        "        logits_lm = outputs[0]\n",
        "        # print(logits_lm.shape)\n",
        "        loss_lm = criterion_lm(logits_lm.view(-1, logits_lm.size(2)), labels_lm.view(-1))\n",
        "\n",
        "        losses.append(loss_lm.cpu().detach().numpy())\n",
        "\n",
        "        loss_lm.backward()\n",
        "        optimizer.step()\n",
        "\n",
        "    print(f\"Loss: {loss_lm:.3f} , Perplexity: {np.exp(loss_lm.item())}\")\n",
        "            # pbar.update(1)\n",
        "            # pbar.set_postfix_str(f\"Loss: {loss_lm:.3f} ({np.mean(losses):.3f})\")\n",
        "    return np.mean(losses)"
      ],
      "id": "8b6459bb-23e8-42b5-9139-41549498e0db"
    },
    {
      "cell_type": "code",
      "execution_count": 43,
      "metadata": {
        "colab": {
          "base_uri": "https://localhost:8080/"
        },
        "id": "4edb878f-156d-474f-817f-3dbb6bf41ed6",
        "outputId": "73fed6ea-f1c6-445d-b54d-9a196cd094eb"
      },
      "outputs": [
        {
          "output_type": "stream",
          "name": "stdout",
          "text": [
            "{'n_dec_vocab': 12007, 'n_dec_seq': 256, 'n_layer': 12, 'd_hidn': 768, 'i_pad': 0, 'd_ff': 1024, 'n_head': 16, 'd_head': 48, 'dropout': 0.1, 'layer_norm_epsilon': 1e-12, 'device': device(type='cuda')}\n"
          ]
        }
      ],
      "source": [
        "# set device and hyperparameters\n",
        "\n",
        "config.device = torch.device(\"cuda\" if torch.cuda.is_available() else \"cpu\")\n",
        "print(config)\n",
        "\n",
        "learning_rate = 5e-5\n",
        "betas=(0.9, 0.999)\n",
        "weight_decay = 0.01\n",
        "n_epoch = 20"
      ],
      "id": "4edb878f-156d-474f-817f-3dbb6bf41ed6"
    },
    {
      "cell_type": "code",
      "execution_count": 44,
      "metadata": {
        "colab": {
          "base_uri": "https://localhost:8080/"
        },
        "id": "c939b240-e506-4b0c-a893-4d13bc8f6b23",
        "outputId": "79f7978f-76f2-4c45-eb1e-ae9f66668d97"
      },
      "outputs": [
        {
          "output_type": "stream",
          "name": "stderr",
          "text": [
            "  5%|▌         | 1/20 [02:12<42:03, 132.80s/it]"
          ]
        },
        {
          "output_type": "stream",
          "name": "stdout",
          "text": [
            "Loss: 7.561 , Perplexity: 1921.7230009946895\n"
          ]
        },
        {
          "output_type": "stream",
          "name": "stderr",
          "text": [
            "\r 10%|█         | 2/20 [04:25<39:52, 132.91s/it]"
          ]
        },
        {
          "output_type": "stream",
          "name": "stdout",
          "text": [
            "Loss: 7.270 , Perplexity: 1437.086196008035\n"
          ]
        },
        {
          "output_type": "stream",
          "name": "stderr",
          "text": [
            "\r 15%|█▌        | 3/20 [06:38<37:37, 132.82s/it]"
          ]
        },
        {
          "output_type": "stream",
          "name": "stdout",
          "text": [
            "Loss: 4.217 , Perplexity: 67.84156138153749\n"
          ]
        },
        {
          "output_type": "stream",
          "name": "stderr",
          "text": [
            "\r 20%|██        | 4/20 [08:51<35:25, 132.83s/it]"
          ]
        },
        {
          "output_type": "stream",
          "name": "stdout",
          "text": [
            "Loss: 4.097 , Perplexity: 60.17148002546026\n"
          ]
        },
        {
          "output_type": "stream",
          "name": "stderr",
          "text": [
            "\r 25%|██▌       | 5/20 [11:04<33:13, 132.89s/it]"
          ]
        },
        {
          "output_type": "stream",
          "name": "stdout",
          "text": [
            "Loss: 5.562 , Perplexity: 260.3810634876626\n"
          ]
        },
        {
          "output_type": "stream",
          "name": "stderr",
          "text": [
            "\r 30%|███       | 6/20 [13:17<30:59, 132.83s/it]"
          ]
        },
        {
          "output_type": "stream",
          "name": "stdout",
          "text": [
            "Loss: 5.046 , Perplexity: 155.34153794991076\n"
          ]
        },
        {
          "output_type": "stream",
          "name": "stderr",
          "text": [
            "\r 35%|███▌      | 7/20 [15:29<28:46, 132.77s/it]"
          ]
        },
        {
          "output_type": "stream",
          "name": "stdout",
          "text": [
            "Loss: 5.893 , Perplexity: 362.38246792656236\n"
          ]
        },
        {
          "output_type": "stream",
          "name": "stderr",
          "text": [
            "\r 40%|████      | 8/20 [17:42<26:34, 132.86s/it]"
          ]
        },
        {
          "output_type": "stream",
          "name": "stdout",
          "text": [
            "Loss: 4.553 , Perplexity: 94.91070991167621\n"
          ]
        },
        {
          "output_type": "stream",
          "name": "stderr",
          "text": [
            "\r 45%|████▌     | 9/20 [19:54<24:18, 132.55s/it]"
          ]
        },
        {
          "output_type": "stream",
          "name": "stdout",
          "text": [
            "Loss: 3.816 , Perplexity: 45.44164156565117\n"
          ]
        },
        {
          "output_type": "stream",
          "name": "stderr",
          "text": [
            "\r 50%|█████     | 10/20 [22:07<22:05, 132.51s/it]"
          ]
        },
        {
          "output_type": "stream",
          "name": "stdout",
          "text": [
            "Loss: 4.114 , Perplexity: 61.183222202389054\n"
          ]
        },
        {
          "output_type": "stream",
          "name": "stderr",
          "text": [
            "\r 55%|█████▌    | 11/20 [24:20<19:54, 132.72s/it]"
          ]
        },
        {
          "output_type": "stream",
          "name": "stdout",
          "text": [
            "Loss: 3.784 , Perplexity: 43.973648430122864\n"
          ]
        },
        {
          "output_type": "stream",
          "name": "stderr",
          "text": [
            "\r 60%|██████    | 12/20 [26:32<17:41, 132.72s/it]"
          ]
        },
        {
          "output_type": "stream",
          "name": "stdout",
          "text": [
            "Loss: 3.470 , Perplexity: 32.1335408091607\n"
          ]
        },
        {
          "output_type": "stream",
          "name": "stderr",
          "text": [
            "\r 65%|██████▌   | 13/20 [28:45<15:28, 132.60s/it]"
          ]
        },
        {
          "output_type": "stream",
          "name": "stdout",
          "text": [
            "Loss: 3.837 , Perplexity: 46.36441998223824\n"
          ]
        },
        {
          "output_type": "stream",
          "name": "stderr",
          "text": [
            "\r 70%|███████   | 14/20 [30:57<13:14, 132.50s/it]"
          ]
        },
        {
          "output_type": "stream",
          "name": "stdout",
          "text": [
            "Loss: 4.114 , Perplexity: 61.17525810034126\n"
          ]
        },
        {
          "output_type": "stream",
          "name": "stderr",
          "text": [
            "\r 75%|███████▌  | 15/20 [33:09<11:01, 132.28s/it]"
          ]
        },
        {
          "output_type": "stream",
          "name": "stdout",
          "text": [
            "Loss: 4.044 , Perplexity: 57.081323890215835\n"
          ]
        },
        {
          "output_type": "stream",
          "name": "stderr",
          "text": [
            "\r 80%|████████  | 16/20 [35:21<08:49, 132.28s/it]"
          ]
        },
        {
          "output_type": "stream",
          "name": "stdout",
          "text": [
            "Loss: 2.982 , Perplexity: 19.718482927437783\n"
          ]
        },
        {
          "output_type": "stream",
          "name": "stderr",
          "text": [
            "\r 85%|████████▌ | 17/20 [37:34<06:37, 132.45s/it]"
          ]
        },
        {
          "output_type": "stream",
          "name": "stdout",
          "text": [
            "Loss: 4.084 , Perplexity: 59.3544494647348\n"
          ]
        },
        {
          "output_type": "stream",
          "name": "stderr",
          "text": [
            "\r 90%|█████████ | 18/20 [39:46<04:24, 132.42s/it]"
          ]
        },
        {
          "output_type": "stream",
          "name": "stdout",
          "text": [
            "Loss: 3.460 , Perplexity: 31.824814782085085\n"
          ]
        },
        {
          "output_type": "stream",
          "name": "stderr",
          "text": [
            "\r 95%|█████████▌| 19/20 [41:59<02:12, 132.47s/it]"
          ]
        },
        {
          "output_type": "stream",
          "name": "stdout",
          "text": [
            "Loss: 3.567 , Perplexity: 35.412158632783104\n"
          ]
        },
        {
          "output_type": "stream",
          "name": "stderr",
          "text": [
            "100%|██████████| 20/20 [44:12<00:00, 132.61s/it]"
          ]
        },
        {
          "output_type": "stream",
          "name": "stdout",
          "text": [
            "Loss: 3.554 , Perplexity: 34.966882445616186\n"
          ]
        },
        {
          "output_type": "stream",
          "name": "stderr",
          "text": [
            "\n"
          ]
        }
      ],
      "source": [
        "# Train GPT Model\n",
        "model = GPTPretrain(config)\n",
        "# save_pretrain = \"save_gpt_pretrain_gpt.pth\"\n",
        "best_epoch, best_loss = 0, 0\n",
        "# if os.path.isfile(save_pretrain):\n",
        "#     best_epoch, best_loss = model.gpt.load(save_pretrain)\n",
        "#     print(f\"load pretrain from: {save_pretrain}, epoch={best_epoch}, loss={best_loss}\")\n",
        "#     best_epoch += 1\n",
        "\n",
        "model.to(config.device)\n",
        "\n",
        "criterion_lm = torch.nn.CrossEntropyLoss()\n",
        "optimizer = torch.optim.Adam(model.parameters(), lr=learning_rate)\n",
        "\n",
        "losses = []\n",
        "offset = best_epoch\n",
        "for step in trange(n_epoch):\n",
        "    epoch = step + offset\n",
        "    loss = train_epoch(config, epoch, model, criterion_lm, optimizer, train_loader)\n",
        "    losses.append(loss)\n",
        "    # model.gpt.save(epoch, loss, save_pretrain)"
      ],
      "id": "c939b240-e506-4b0c-a893-4d13bc8f6b23"
    },
    {
      "cell_type": "code",
      "source": [
        "# Final loss of GPT\n",
        "print(f\"Loss fo GPT Model : {loss}\")"
      ],
      "metadata": {
        "colab": {
          "base_uri": "https://localhost:8080/"
        },
        "id": "Xi3envGa3gci",
        "outputId": "0fdf5e22-0831-40c1-f554-464be3729d0b"
      },
      "id": "Xi3envGa3gci",
      "execution_count": 51,
      "outputs": [
        {
          "output_type": "stream",
          "name": "stdout",
          "text": [
            "Loss fo GPT Model : 3.131601333618164\n"
          ]
        }
      ]
    },
    {
      "cell_type": "code",
      "execution_count": 61,
      "metadata": {
        "colab": {
          "base_uri": "https://localhost:8080/"
        },
        "id": "39277a64-c508-4e09-97b4-3bcac4e9af77",
        "outputId": "bf1e0b38-b164-42ea-b1d8-ecc989cc1da1"
      },
      "outputs": [
        {
          "output_type": "execute_result",
          "data": {
            "text/plain": [
              "['lengthy ⁇ BOS ⁇  How a a directions of ocity force vectors related circular motio ⁇ SOS ⁇ ']"
            ]
          },
          "metadata": {},
          "execution_count": 61
        }
      ],
      "source": [
        "# Evaluation\n",
        "model.eval()\n",
        "test_inputs = vocab.encode('[BOS] How are the directions of the velocity and force vectors related in a circular motio[SOS]')\n",
        "test_inputs = torch.tensor([test_inputs]).to(config.device)\n",
        "out = model(test_inputs)\n",
        "[vocab.decode(i) for i in out[0].argmax(2).cpu().detach().tolist()]"
      ],
      "id": "39277a64-c508-4e09-97b4-3bcac4e9af77"
    },
    {
      "cell_type": "markdown",
      "source": [
        "### Results\n",
        "- Show results in dataframe and graph"
      ],
      "metadata": {
        "id": "NACi_Mtyj6OF"
      },
      "id": "NACi_Mtyj6OF"
    },
    {
      "cell_type": "code",
      "source": [
        "# Make Dataframe\n",
        "data = {\n",
        "    \"loss\": losses\n",
        "}\n",
        "df = pd.DataFrame(data)\n",
        "display(df)"
      ],
      "metadata": {
        "colab": {
          "base_uri": "https://localhost:8080/",
          "height": 677
        },
        "id": "1og2cYw_isSX",
        "outputId": "203c3aa4-ba60-42a5-e52b-32d1ea786cdc"
      },
      "id": "1og2cYw_isSX",
      "execution_count": 65,
      "outputs": [
        {
          "output_type": "display_data",
          "data": {
            "text/plain": [
              "         loss\n",
              "0   13.630404\n",
              "1    7.435396\n",
              "2    5.694499\n",
              "3    4.939188\n",
              "4    4.489414\n",
              "5    4.317509\n",
              "6    4.093868\n",
              "7    3.937856\n",
              "8    3.837866\n",
              "9    3.724064\n",
              "10   3.632109\n",
              "11   3.534201\n",
              "12   3.505964\n",
              "13   3.406144\n",
              "14   3.390052\n",
              "15   3.311008\n",
              "16   3.245545\n",
              "17   3.224789\n",
              "18   3.160412\n",
              "19   3.131601"
            ],
            "text/html": [
              "\n",
              "  <div id=\"df-f3b0c8b3-72d9-4157-b4e7-894690d6d1d7\">\n",
              "    <div class=\"colab-df-container\">\n",
              "      <div>\n",
              "<style scoped>\n",
              "    .dataframe tbody tr th:only-of-type {\n",
              "        vertical-align: middle;\n",
              "    }\n",
              "\n",
              "    .dataframe tbody tr th {\n",
              "        vertical-align: top;\n",
              "    }\n",
              "\n",
              "    .dataframe thead th {\n",
              "        text-align: right;\n",
              "    }\n",
              "</style>\n",
              "<table border=\"1\" class=\"dataframe\">\n",
              "  <thead>\n",
              "    <tr style=\"text-align: right;\">\n",
              "      <th></th>\n",
              "      <th>loss</th>\n",
              "    </tr>\n",
              "  </thead>\n",
              "  <tbody>\n",
              "    <tr>\n",
              "      <th>0</th>\n",
              "      <td>13.630404</td>\n",
              "    </tr>\n",
              "    <tr>\n",
              "      <th>1</th>\n",
              "      <td>7.435396</td>\n",
              "    </tr>\n",
              "    <tr>\n",
              "      <th>2</th>\n",
              "      <td>5.694499</td>\n",
              "    </tr>\n",
              "    <tr>\n",
              "      <th>3</th>\n",
              "      <td>4.939188</td>\n",
              "    </tr>\n",
              "    <tr>\n",
              "      <th>4</th>\n",
              "      <td>4.489414</td>\n",
              "    </tr>\n",
              "    <tr>\n",
              "      <th>5</th>\n",
              "      <td>4.317509</td>\n",
              "    </tr>\n",
              "    <tr>\n",
              "      <th>6</th>\n",
              "      <td>4.093868</td>\n",
              "    </tr>\n",
              "    <tr>\n",
              "      <th>7</th>\n",
              "      <td>3.937856</td>\n",
              "    </tr>\n",
              "    <tr>\n",
              "      <th>8</th>\n",
              "      <td>3.837866</td>\n",
              "    </tr>\n",
              "    <tr>\n",
              "      <th>9</th>\n",
              "      <td>3.724064</td>\n",
              "    </tr>\n",
              "    <tr>\n",
              "      <th>10</th>\n",
              "      <td>3.632109</td>\n",
              "    </tr>\n",
              "    <tr>\n",
              "      <th>11</th>\n",
              "      <td>3.534201</td>\n",
              "    </tr>\n",
              "    <tr>\n",
              "      <th>12</th>\n",
              "      <td>3.505964</td>\n",
              "    </tr>\n",
              "    <tr>\n",
              "      <th>13</th>\n",
              "      <td>3.406144</td>\n",
              "    </tr>\n",
              "    <tr>\n",
              "      <th>14</th>\n",
              "      <td>3.390052</td>\n",
              "    </tr>\n",
              "    <tr>\n",
              "      <th>15</th>\n",
              "      <td>3.311008</td>\n",
              "    </tr>\n",
              "    <tr>\n",
              "      <th>16</th>\n",
              "      <td>3.245545</td>\n",
              "    </tr>\n",
              "    <tr>\n",
              "      <th>17</th>\n",
              "      <td>3.224789</td>\n",
              "    </tr>\n",
              "    <tr>\n",
              "      <th>18</th>\n",
              "      <td>3.160412</td>\n",
              "    </tr>\n",
              "    <tr>\n",
              "      <th>19</th>\n",
              "      <td>3.131601</td>\n",
              "    </tr>\n",
              "  </tbody>\n",
              "</table>\n",
              "</div>\n",
              "      <button class=\"colab-df-convert\" onclick=\"convertToInteractive('df-f3b0c8b3-72d9-4157-b4e7-894690d6d1d7')\"\n",
              "              title=\"Convert this dataframe to an interactive table.\"\n",
              "              style=\"display:none;\">\n",
              "        \n",
              "  <svg xmlns=\"http://www.w3.org/2000/svg\" height=\"24px\"viewBox=\"0 0 24 24\"\n",
              "       width=\"24px\">\n",
              "    <path d=\"M0 0h24v24H0V0z\" fill=\"none\"/>\n",
              "    <path d=\"M18.56 5.44l.94 2.06.94-2.06 2.06-.94-2.06-.94-.94-2.06-.94 2.06-2.06.94zm-11 1L8.5 8.5l.94-2.06 2.06-.94-2.06-.94L8.5 2.5l-.94 2.06-2.06.94zm10 10l.94 2.06.94-2.06 2.06-.94-2.06-.94-.94-2.06-.94 2.06-2.06.94z\"/><path d=\"M17.41 7.96l-1.37-1.37c-.4-.4-.92-.59-1.43-.59-.52 0-1.04.2-1.43.59L10.3 9.45l-7.72 7.72c-.78.78-.78 2.05 0 2.83L4 21.41c.39.39.9.59 1.41.59.51 0 1.02-.2 1.41-.59l7.78-7.78 2.81-2.81c.8-.78.8-2.07 0-2.86zM5.41 20L4 18.59l7.72-7.72 1.47 1.35L5.41 20z\"/>\n",
              "  </svg>\n",
              "      </button>\n",
              "      \n",
              "  <style>\n",
              "    .colab-df-container {\n",
              "      display:flex;\n",
              "      flex-wrap:wrap;\n",
              "      gap: 12px;\n",
              "    }\n",
              "\n",
              "    .colab-df-convert {\n",
              "      background-color: #E8F0FE;\n",
              "      border: none;\n",
              "      border-radius: 50%;\n",
              "      cursor: pointer;\n",
              "      display: none;\n",
              "      fill: #1967D2;\n",
              "      height: 32px;\n",
              "      padding: 0 0 0 0;\n",
              "      width: 32px;\n",
              "    }\n",
              "\n",
              "    .colab-df-convert:hover {\n",
              "      background-color: #E2EBFA;\n",
              "      box-shadow: 0px 1px 2px rgba(60, 64, 67, 0.3), 0px 1px 3px 1px rgba(60, 64, 67, 0.15);\n",
              "      fill: #174EA6;\n",
              "    }\n",
              "\n",
              "    [theme=dark] .colab-df-convert {\n",
              "      background-color: #3B4455;\n",
              "      fill: #D2E3FC;\n",
              "    }\n",
              "\n",
              "    [theme=dark] .colab-df-convert:hover {\n",
              "      background-color: #434B5C;\n",
              "      box-shadow: 0px 1px 3px 1px rgba(0, 0, 0, 0.15);\n",
              "      filter: drop-shadow(0px 1px 2px rgba(0, 0, 0, 0.3));\n",
              "      fill: #FFFFFF;\n",
              "    }\n",
              "  </style>\n",
              "\n",
              "      <script>\n",
              "        const buttonEl =\n",
              "          document.querySelector('#df-f3b0c8b3-72d9-4157-b4e7-894690d6d1d7 button.colab-df-convert');\n",
              "        buttonEl.style.display =\n",
              "          google.colab.kernel.accessAllowed ? 'block' : 'none';\n",
              "\n",
              "        async function convertToInteractive(key) {\n",
              "          const element = document.querySelector('#df-f3b0c8b3-72d9-4157-b4e7-894690d6d1d7');\n",
              "          const dataTable =\n",
              "            await google.colab.kernel.invokeFunction('convertToInteractive',\n",
              "                                                     [key], {});\n",
              "          if (!dataTable) return;\n",
              "\n",
              "          const docLinkHtml = 'Like what you see? Visit the ' +\n",
              "            '<a target=\"_blank\" href=https://colab.research.google.com/notebooks/data_table.ipynb>data table notebook</a>'\n",
              "            + ' to learn more about interactive tables.';\n",
              "          element.innerHTML = '';\n",
              "          dataTable['output_type'] = 'display_data';\n",
              "          await google.colab.output.renderOutput(dataTable, element);\n",
              "          const docLink = document.createElement('div');\n",
              "          docLink.innerHTML = docLinkHtml;\n",
              "          element.appendChild(docLink);\n",
              "        }\n",
              "      </script>\n",
              "    </div>\n",
              "  </div>\n",
              "  "
            ]
          },
          "metadata": {}
        }
      ]
    },
    {
      "cell_type": "code",
      "source": [
        "# Visualization - Graph\n",
        "plt.style.use('fivethirtyeight')\n",
        "plt.figure(figsize=[8, 4])\n",
        "plt.plot(losses)\n",
        "plt.xlabel('Depth')\n",
        "plt.xlim((0, n_epoch - 1))\n",
        "plt.ylabel('Position')\n",
        "plt.title(\"Loss of GPT Model \")\n",
        "plt.show()"
      ],
      "metadata": {
        "colab": {
          "base_uri": "https://localhost:8080/",
          "height": 443
        },
        "id": "XycTtazri5vg",
        "outputId": "1480d414-7187-4e2d-d639-818558feabf4"
      },
      "id": "XycTtazri5vg",
      "execution_count": 69,
      "outputs": [
        {
          "output_type": "display_data",
          "data": {
            "text/plain": [
              "<Figure size 800x400 with 1 Axes>"
            ],
            "image/png": "[encoded data removed]"
          },
          "metadata": {}
        }
      ]
    }
  ],
  "metadata": {
    "accelerator": "GPU",
    "colab": {
      "machine_shape": "hm",
      "provenance": [],
      "gpuClass": "premium"
    },
    "gpuClass": "premium",
    "kernelspec": {
      "display_name": "Python 3",
      "name": "python3"
    },
    "language_info": {
      "name": "python"
    }
  },
  "nbformat": 4,
  "nbformat_minor": 5
}